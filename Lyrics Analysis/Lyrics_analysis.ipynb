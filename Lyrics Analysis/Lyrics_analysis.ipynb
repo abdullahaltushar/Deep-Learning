{
  "cells": [
    {
      "cell_type": "code",
      "source": [
        "from google.colab import drive\n",
        "drive.mount('/content/drive')"
      ],
      "metadata": {
        "colab": {
          "base_uri": "https://localhost:8080/"
        },
        "id": "eejbCuzi-T_F",
        "outputId": "f705fbe6-6ca6-4364-99e5-e8ce4a0a04f1"
      },
      "id": "eejbCuzi-T_F",
      "execution_count": 1,
      "outputs": [
        {
          "output_type": "stream",
          "name": "stdout",
          "text": [
            "Mounted at /content/drive\n"
          ]
        }
      ]
    },
    {
      "cell_type": "code",
      "source": [
        "# import library \n",
        "import numpy as np\n",
        "import pandas as pd\n",
        "from sklearn import model_selection\n",
        "from sklearn.linear_model import LogisticRegression\n",
        "from sklearn.tree import DecisionTreeClassifier\n",
        "from sklearn.neighbors import KNeighborsClassifier\n",
        "from sklearn.discriminant_analysis import LinearDiscriminantAnalysis\n",
        "from sklearn.naive_bayes import GaussianNB\n",
        "from sklearn.model_selection import train_test_split\n",
        "from sklearn import datasets\n",
        "from nltk.stem import WordNetLemmatizer\n",
        "import ipykernel\n",
        "from nltk.tokenize import word_tokenize\n",
        "from nltk import pos_tag\n",
        "from nltk.corpus import stopwords\n",
        "from sklearn.preprocessing import LabelEncoder\n",
        "from collections import defaultdict\n",
        "from nltk.corpus import wordnet as wn\n",
        "from sklearn.feature_extraction.text import TfidfVectorizer\n",
        "from sklearn import model_selection, naive_bayes, svm\n",
        "from sklearn.ensemble import RandomForestClassifier\n",
        "from sklearn.naive_bayes import BernoulliNB\n",
        "from sklearn.metrics import accuracy_score\n",
        "from keras.models import Sequential\n",
        "from keras.layers import Dense, Dropout\n",
        "from keras.wrappers.scikit_learn import KerasClassifier\n",
        "from keras.utils import np_utils\n",
        "from tensorflow.keras.regularizers import l2\n",
        "from sklearn.metrics import confusion_matrix,classification_report\n",
        "import matplotlib.pyplot as plt\n",
        "import seaborn as sns\n",
        "import string\n",
        "import re\n",
        "import json"
      ],
      "metadata": {
        "id": "Ifjpb5aM-Ur1"
      },
      "id": "Ifjpb5aM-Ur1",
      "execution_count": 2,
      "outputs": []
    },
    {
      "cell_type": "code",
      "execution_count": 3,
      "id": "1ad983fe",
      "metadata": {
        "colab": {
          "base_uri": "https://localhost:8080/",
          "height": 206
        },
        "id": "1ad983fe",
        "outputId": "7ac1dc90-9fe6-4b74-fad4-7b8bb28c30e8"
      },
      "outputs": [
        {
          "output_type": "execute_result",
          "data": {
            "text/plain": [
              "                                              Lyrics      Class\n",
              "0  I'll never know why I had to go\\nWhy I had to ...  Energetic\n",
              "1  You're so hot, teasing me\\nSo, you're blue, bu...      Happy\n",
              "2  Twinkle twinkle little star\\nHow I wonder what...        Sad\n",
              "3  Early this morning I drove in the rain\\nOut to...      Happy\n",
              "4  I was a fighter always looking for trouble\\nAn...      Happy"
            ],
            "text/html": [
              "\n",
              "  <div id=\"df-12c84941-8d33-477a-8c1b-519523f0a106\">\n",
              "    <div class=\"colab-df-container\">\n",
              "      <div>\n",
              "<style scoped>\n",
              "    .dataframe tbody tr th:only-of-type {\n",
              "        vertical-align: middle;\n",
              "    }\n",
              "\n",
              "    .dataframe tbody tr th {\n",
              "        vertical-align: top;\n",
              "    }\n",
              "\n",
              "    .dataframe thead th {\n",
              "        text-align: right;\n",
              "    }\n",
              "</style>\n",
              "<table border=\"1\" class=\"dataframe\">\n",
              "  <thead>\n",
              "    <tr style=\"text-align: right;\">\n",
              "      <th></th>\n",
              "      <th>Lyrics</th>\n",
              "      <th>Class</th>\n",
              "    </tr>\n",
              "  </thead>\n",
              "  <tbody>\n",
              "    <tr>\n",
              "      <th>0</th>\n",
              "      <td>I'll never know why I had to go\\nWhy I had to ...</td>\n",
              "      <td>Energetic</td>\n",
              "    </tr>\n",
              "    <tr>\n",
              "      <th>1</th>\n",
              "      <td>You're so hot, teasing me\\nSo, you're blue, bu...</td>\n",
              "      <td>Happy</td>\n",
              "    </tr>\n",
              "    <tr>\n",
              "      <th>2</th>\n",
              "      <td>Twinkle twinkle little star\\nHow I wonder what...</td>\n",
              "      <td>Sad</td>\n",
              "    </tr>\n",
              "    <tr>\n",
              "      <th>3</th>\n",
              "      <td>Early this morning I drove in the rain\\nOut to...</td>\n",
              "      <td>Happy</td>\n",
              "    </tr>\n",
              "    <tr>\n",
              "      <th>4</th>\n",
              "      <td>I was a fighter always looking for trouble\\nAn...</td>\n",
              "      <td>Happy</td>\n",
              "    </tr>\n",
              "  </tbody>\n",
              "</table>\n",
              "</div>\n",
              "      <button class=\"colab-df-convert\" onclick=\"convertToInteractive('df-12c84941-8d33-477a-8c1b-519523f0a106')\"\n",
              "              title=\"Convert this dataframe to an interactive table.\"\n",
              "              style=\"display:none;\">\n",
              "        \n",
              "  <svg xmlns=\"http://www.w3.org/2000/svg\" height=\"24px\"viewBox=\"0 0 24 24\"\n",
              "       width=\"24px\">\n",
              "    <path d=\"M0 0h24v24H0V0z\" fill=\"none\"/>\n",
              "    <path d=\"M18.56 5.44l.94 2.06.94-2.06 2.06-.94-2.06-.94-.94-2.06-.94 2.06-2.06.94zm-11 1L8.5 8.5l.94-2.06 2.06-.94-2.06-.94L8.5 2.5l-.94 2.06-2.06.94zm10 10l.94 2.06.94-2.06 2.06-.94-2.06-.94-.94-2.06-.94 2.06-2.06.94z\"/><path d=\"M17.41 7.96l-1.37-1.37c-.4-.4-.92-.59-1.43-.59-.52 0-1.04.2-1.43.59L10.3 9.45l-7.72 7.72c-.78.78-.78 2.05 0 2.83L4 21.41c.39.39.9.59 1.41.59.51 0 1.02-.2 1.41-.59l7.78-7.78 2.81-2.81c.8-.78.8-2.07 0-2.86zM5.41 20L4 18.59l7.72-7.72 1.47 1.35L5.41 20z\"/>\n",
              "  </svg>\n",
              "      </button>\n",
              "      \n",
              "  <style>\n",
              "    .colab-df-container {\n",
              "      display:flex;\n",
              "      flex-wrap:wrap;\n",
              "      gap: 12px;\n",
              "    }\n",
              "\n",
              "    .colab-df-convert {\n",
              "      background-color: #E8F0FE;\n",
              "      border: none;\n",
              "      border-radius: 50%;\n",
              "      cursor: pointer;\n",
              "      display: none;\n",
              "      fill: #1967D2;\n",
              "      height: 32px;\n",
              "      padding: 0 0 0 0;\n",
              "      width: 32px;\n",
              "    }\n",
              "\n",
              "    .colab-df-convert:hover {\n",
              "      background-color: #E2EBFA;\n",
              "      box-shadow: 0px 1px 2px rgba(60, 64, 67, 0.3), 0px 1px 3px 1px rgba(60, 64, 67, 0.15);\n",
              "      fill: #174EA6;\n",
              "    }\n",
              "\n",
              "    [theme=dark] .colab-df-convert {\n",
              "      background-color: #3B4455;\n",
              "      fill: #D2E3FC;\n",
              "    }\n",
              "\n",
              "    [theme=dark] .colab-df-convert:hover {\n",
              "      background-color: #434B5C;\n",
              "      box-shadow: 0px 1px 3px 1px rgba(0, 0, 0, 0.15);\n",
              "      filter: drop-shadow(0px 1px 2px rgba(0, 0, 0, 0.3));\n",
              "      fill: #FFFFFF;\n",
              "    }\n",
              "  </style>\n",
              "\n",
              "      <script>\n",
              "        const buttonEl =\n",
              "          document.querySelector('#df-12c84941-8d33-477a-8c1b-519523f0a106 button.colab-df-convert');\n",
              "        buttonEl.style.display =\n",
              "          google.colab.kernel.accessAllowed ? 'block' : 'none';\n",
              "\n",
              "        async function convertToInteractive(key) {\n",
              "          const element = document.querySelector('#df-12c84941-8d33-477a-8c1b-519523f0a106');\n",
              "          const dataTable =\n",
              "            await google.colab.kernel.invokeFunction('convertToInteractive',\n",
              "                                                     [key], {});\n",
              "          if (!dataTable) return;\n",
              "\n",
              "          const docLinkHtml = 'Like what you see? Visit the ' +\n",
              "            '<a target=\"_blank\" href=https://colab.research.google.com/notebooks/data_table.ipynb>data table notebook</a>'\n",
              "            + ' to learn more about interactive tables.';\n",
              "          element.innerHTML = '';\n",
              "          dataTable['output_type'] = 'display_data';\n",
              "          await google.colab.output.renderOutput(dataTable, element);\n",
              "          const docLink = document.createElement('div');\n",
              "          docLink.innerHTML = docLinkHtml;\n",
              "          element.appendChild(docLink);\n",
              "        }\n",
              "      </script>\n",
              "    </div>\n",
              "  </div>\n",
              "  "
            ]
          },
          "metadata": {},
          "execution_count": 3
        }
      ],
      "source": [
        "#load data set\n",
        "data  = pd.read_csv(\"/content/drive/MyDrive/Music.csv\",encoding= 'unicode_escape')\n",
        "data.head()"
      ]
    },
    {
      "cell_type": "markdown",
      "id": "a27c9a2b",
      "metadata": {
        "id": "a27c9a2b"
      },
      "source": [
        "# Preprocessing"
      ]
    },
    {
      "cell_type": "code",
      "execution_count": 4,
      "id": "9015b175",
      "metadata": {
        "id": "9015b175"
      },
      "outputs": [],
      "source": [
        "# remove punctuation like (*&^%)*#$\n",
        "string.punctuation\n",
        "def remove_punctuation(text):\n",
        "    punctuationfree=\"\".join([i for i in text if i not in string.punctuation])\n",
        "    return punctuationfree"
      ]
    },
    {
      "cell_type": "code",
      "execution_count": 5,
      "id": "957c014d",
      "metadata": {
        "colab": {
          "base_uri": "https://localhost:8080/",
          "height": 206
        },
        "id": "957c014d",
        "outputId": "5d5589bf-5c81-4eb2-d288-fda55362bdf0"
      },
      "outputs": [
        {
          "output_type": "execute_result",
          "data": {
            "text/plain": [
              "                                              Lyrics      Class\n",
              "0  Ill never know why I had to go\\nWhy I had to p...  Energetic\n",
              "1  Youre so hot teasing me\\nSo youre blue but I c...      Happy\n",
              "2  Twinkle twinkle little star\\nHow I wonder what...        Sad\n",
              "3  Early this morning I drove in the rain\\nOut to...      Happy\n",
              "4  I was a fighter always looking for trouble\\nAn...      Happy"
            ],
            "text/html": [
              "\n",
              "  <div id=\"df-e5566a3e-79b0-4c49-8399-0898e3f0caeb\">\n",
              "    <div class=\"colab-df-container\">\n",
              "      <div>\n",
              "<style scoped>\n",
              "    .dataframe tbody tr th:only-of-type {\n",
              "        vertical-align: middle;\n",
              "    }\n",
              "\n",
              "    .dataframe tbody tr th {\n",
              "        vertical-align: top;\n",
              "    }\n",
              "\n",
              "    .dataframe thead th {\n",
              "        text-align: right;\n",
              "    }\n",
              "</style>\n",
              "<table border=\"1\" class=\"dataframe\">\n",
              "  <thead>\n",
              "    <tr style=\"text-align: right;\">\n",
              "      <th></th>\n",
              "      <th>Lyrics</th>\n",
              "      <th>Class</th>\n",
              "    </tr>\n",
              "  </thead>\n",
              "  <tbody>\n",
              "    <tr>\n",
              "      <th>0</th>\n",
              "      <td>Ill never know why I had to go\\nWhy I had to p...</td>\n",
              "      <td>Energetic</td>\n",
              "    </tr>\n",
              "    <tr>\n",
              "      <th>1</th>\n",
              "      <td>Youre so hot teasing me\\nSo youre blue but I c...</td>\n",
              "      <td>Happy</td>\n",
              "    </tr>\n",
              "    <tr>\n",
              "      <th>2</th>\n",
              "      <td>Twinkle twinkle little star\\nHow I wonder what...</td>\n",
              "      <td>Sad</td>\n",
              "    </tr>\n",
              "    <tr>\n",
              "      <th>3</th>\n",
              "      <td>Early this morning I drove in the rain\\nOut to...</td>\n",
              "      <td>Happy</td>\n",
              "    </tr>\n",
              "    <tr>\n",
              "      <th>4</th>\n",
              "      <td>I was a fighter always looking for trouble\\nAn...</td>\n",
              "      <td>Happy</td>\n",
              "    </tr>\n",
              "  </tbody>\n",
              "</table>\n",
              "</div>\n",
              "      <button class=\"colab-df-convert\" onclick=\"convertToInteractive('df-e5566a3e-79b0-4c49-8399-0898e3f0caeb')\"\n",
              "              title=\"Convert this dataframe to an interactive table.\"\n",
              "              style=\"display:none;\">\n",
              "        \n",
              "  <svg xmlns=\"http://www.w3.org/2000/svg\" height=\"24px\"viewBox=\"0 0 24 24\"\n",
              "       width=\"24px\">\n",
              "    <path d=\"M0 0h24v24H0V0z\" fill=\"none\"/>\n",
              "    <path d=\"M18.56 5.44l.94 2.06.94-2.06 2.06-.94-2.06-.94-.94-2.06-.94 2.06-2.06.94zm-11 1L8.5 8.5l.94-2.06 2.06-.94-2.06-.94L8.5 2.5l-.94 2.06-2.06.94zm10 10l.94 2.06.94-2.06 2.06-.94-2.06-.94-.94-2.06-.94 2.06-2.06.94z\"/><path d=\"M17.41 7.96l-1.37-1.37c-.4-.4-.92-.59-1.43-.59-.52 0-1.04.2-1.43.59L10.3 9.45l-7.72 7.72c-.78.78-.78 2.05 0 2.83L4 21.41c.39.39.9.59 1.41.59.51 0 1.02-.2 1.41-.59l7.78-7.78 2.81-2.81c.8-.78.8-2.07 0-2.86zM5.41 20L4 18.59l7.72-7.72 1.47 1.35L5.41 20z\"/>\n",
              "  </svg>\n",
              "      </button>\n",
              "      \n",
              "  <style>\n",
              "    .colab-df-container {\n",
              "      display:flex;\n",
              "      flex-wrap:wrap;\n",
              "      gap: 12px;\n",
              "    }\n",
              "\n",
              "    .colab-df-convert {\n",
              "      background-color: #E8F0FE;\n",
              "      border: none;\n",
              "      border-radius: 50%;\n",
              "      cursor: pointer;\n",
              "      display: none;\n",
              "      fill: #1967D2;\n",
              "      height: 32px;\n",
              "      padding: 0 0 0 0;\n",
              "      width: 32px;\n",
              "    }\n",
              "\n",
              "    .colab-df-convert:hover {\n",
              "      background-color: #E2EBFA;\n",
              "      box-shadow: 0px 1px 2px rgba(60, 64, 67, 0.3), 0px 1px 3px 1px rgba(60, 64, 67, 0.15);\n",
              "      fill: #174EA6;\n",
              "    }\n",
              "\n",
              "    [theme=dark] .colab-df-convert {\n",
              "      background-color: #3B4455;\n",
              "      fill: #D2E3FC;\n",
              "    }\n",
              "\n",
              "    [theme=dark] .colab-df-convert:hover {\n",
              "      background-color: #434B5C;\n",
              "      box-shadow: 0px 1px 3px 1px rgba(0, 0, 0, 0.15);\n",
              "      filter: drop-shadow(0px 1px 2px rgba(0, 0, 0, 0.3));\n",
              "      fill: #FFFFFF;\n",
              "    }\n",
              "  </style>\n",
              "\n",
              "      <script>\n",
              "        const buttonEl =\n",
              "          document.querySelector('#df-e5566a3e-79b0-4c49-8399-0898e3f0caeb button.colab-df-convert');\n",
              "        buttonEl.style.display =\n",
              "          google.colab.kernel.accessAllowed ? 'block' : 'none';\n",
              "\n",
              "        async function convertToInteractive(key) {\n",
              "          const element = document.querySelector('#df-e5566a3e-79b0-4c49-8399-0898e3f0caeb');\n",
              "          const dataTable =\n",
              "            await google.colab.kernel.invokeFunction('convertToInteractive',\n",
              "                                                     [key], {});\n",
              "          if (!dataTable) return;\n",
              "\n",
              "          const docLinkHtml = 'Like what you see? Visit the ' +\n",
              "            '<a target=\"_blank\" href=https://colab.research.google.com/notebooks/data_table.ipynb>data table notebook</a>'\n",
              "            + ' to learn more about interactive tables.';\n",
              "          element.innerHTML = '';\n",
              "          dataTable['output_type'] = 'display_data';\n",
              "          await google.colab.output.renderOutput(dataTable, element);\n",
              "          const docLink = document.createElement('div');\n",
              "          docLink.innerHTML = docLinkHtml;\n",
              "          element.appendChild(docLink);\n",
              "        }\n",
              "      </script>\n",
              "    </div>\n",
              "  </div>\n",
              "  "
            ]
          },
          "metadata": {},
          "execution_count": 5
        }
      ],
      "source": [
        "data['Lyrics']= data['Lyrics'].apply(lambda x:remove_punctuation(x))\n",
        "data.head()"
      ]
    },
    {
      "cell_type": "code",
      "execution_count": 6,
      "id": "76dfd343",
      "metadata": {
        "id": "76dfd343"
      },
      "outputs": [],
      "source": [
        "#remove new line \n",
        "def replace_new_line(text):\n",
        "    return re.sub(r'(\\n)', ' ', text)"
      ]
    },
    {
      "cell_type": "code",
      "execution_count": 7,
      "id": "cb8f4529",
      "metadata": {
        "colab": {
          "base_uri": "https://localhost:8080/",
          "height": 206
        },
        "id": "cb8f4529",
        "outputId": "3bb21527-5dac-4fb4-e504-571c2dac796e"
      },
      "outputs": [
        {
          "output_type": "execute_result",
          "data": {
            "text/plain": [
              "                                              Lyrics      Class\n",
              "0  Ill never know why I had to go Why I had to pu...  Energetic\n",
              "1  Youre so hot teasing me So youre blue but I ca...      Happy\n",
              "2  Twinkle twinkle little star How I wonder what ...        Sad\n",
              "3  Early this morning I drove in the rain Out to ...      Happy\n",
              "4  I was a fighter always looking for trouble And...      Happy"
            ],
            "text/html": [
              "\n",
              "  <div id=\"df-b84e54d5-63ff-4225-85dd-1a12f9d0b9a9\">\n",
              "    <div class=\"colab-df-container\">\n",
              "      <div>\n",
              "<style scoped>\n",
              "    .dataframe tbody tr th:only-of-type {\n",
              "        vertical-align: middle;\n",
              "    }\n",
              "\n",
              "    .dataframe tbody tr th {\n",
              "        vertical-align: top;\n",
              "    }\n",
              "\n",
              "    .dataframe thead th {\n",
              "        text-align: right;\n",
              "    }\n",
              "</style>\n",
              "<table border=\"1\" class=\"dataframe\">\n",
              "  <thead>\n",
              "    <tr style=\"text-align: right;\">\n",
              "      <th></th>\n",
              "      <th>Lyrics</th>\n",
              "      <th>Class</th>\n",
              "    </tr>\n",
              "  </thead>\n",
              "  <tbody>\n",
              "    <tr>\n",
              "      <th>0</th>\n",
              "      <td>Ill never know why I had to go Why I had to pu...</td>\n",
              "      <td>Energetic</td>\n",
              "    </tr>\n",
              "    <tr>\n",
              "      <th>1</th>\n",
              "      <td>Youre so hot teasing me So youre blue but I ca...</td>\n",
              "      <td>Happy</td>\n",
              "    </tr>\n",
              "    <tr>\n",
              "      <th>2</th>\n",
              "      <td>Twinkle twinkle little star How I wonder what ...</td>\n",
              "      <td>Sad</td>\n",
              "    </tr>\n",
              "    <tr>\n",
              "      <th>3</th>\n",
              "      <td>Early this morning I drove in the rain Out to ...</td>\n",
              "      <td>Happy</td>\n",
              "    </tr>\n",
              "    <tr>\n",
              "      <th>4</th>\n",
              "      <td>I was a fighter always looking for trouble And...</td>\n",
              "      <td>Happy</td>\n",
              "    </tr>\n",
              "  </tbody>\n",
              "</table>\n",
              "</div>\n",
              "      <button class=\"colab-df-convert\" onclick=\"convertToInteractive('df-b84e54d5-63ff-4225-85dd-1a12f9d0b9a9')\"\n",
              "              title=\"Convert this dataframe to an interactive table.\"\n",
              "              style=\"display:none;\">\n",
              "        \n",
              "  <svg xmlns=\"http://www.w3.org/2000/svg\" height=\"24px\"viewBox=\"0 0 24 24\"\n",
              "       width=\"24px\">\n",
              "    <path d=\"M0 0h24v24H0V0z\" fill=\"none\"/>\n",
              "    <path d=\"M18.56 5.44l.94 2.06.94-2.06 2.06-.94-2.06-.94-.94-2.06-.94 2.06-2.06.94zm-11 1L8.5 8.5l.94-2.06 2.06-.94-2.06-.94L8.5 2.5l-.94 2.06-2.06.94zm10 10l.94 2.06.94-2.06 2.06-.94-2.06-.94-.94-2.06-.94 2.06-2.06.94z\"/><path d=\"M17.41 7.96l-1.37-1.37c-.4-.4-.92-.59-1.43-.59-.52 0-1.04.2-1.43.59L10.3 9.45l-7.72 7.72c-.78.78-.78 2.05 0 2.83L4 21.41c.39.39.9.59 1.41.59.51 0 1.02-.2 1.41-.59l7.78-7.78 2.81-2.81c.8-.78.8-2.07 0-2.86zM5.41 20L4 18.59l7.72-7.72 1.47 1.35L5.41 20z\"/>\n",
              "  </svg>\n",
              "      </button>\n",
              "      \n",
              "  <style>\n",
              "    .colab-df-container {\n",
              "      display:flex;\n",
              "      flex-wrap:wrap;\n",
              "      gap: 12px;\n",
              "    }\n",
              "\n",
              "    .colab-df-convert {\n",
              "      background-color: #E8F0FE;\n",
              "      border: none;\n",
              "      border-radius: 50%;\n",
              "      cursor: pointer;\n",
              "      display: none;\n",
              "      fill: #1967D2;\n",
              "      height: 32px;\n",
              "      padding: 0 0 0 0;\n",
              "      width: 32px;\n",
              "    }\n",
              "\n",
              "    .colab-df-convert:hover {\n",
              "      background-color: #E2EBFA;\n",
              "      box-shadow: 0px 1px 2px rgba(60, 64, 67, 0.3), 0px 1px 3px 1px rgba(60, 64, 67, 0.15);\n",
              "      fill: #174EA6;\n",
              "    }\n",
              "\n",
              "    [theme=dark] .colab-df-convert {\n",
              "      background-color: #3B4455;\n",
              "      fill: #D2E3FC;\n",
              "    }\n",
              "\n",
              "    [theme=dark] .colab-df-convert:hover {\n",
              "      background-color: #434B5C;\n",
              "      box-shadow: 0px 1px 3px 1px rgba(0, 0, 0, 0.15);\n",
              "      filter: drop-shadow(0px 1px 2px rgba(0, 0, 0, 0.3));\n",
              "      fill: #FFFFFF;\n",
              "    }\n",
              "  </style>\n",
              "\n",
              "      <script>\n",
              "        const buttonEl =\n",
              "          document.querySelector('#df-b84e54d5-63ff-4225-85dd-1a12f9d0b9a9 button.colab-df-convert');\n",
              "        buttonEl.style.display =\n",
              "          google.colab.kernel.accessAllowed ? 'block' : 'none';\n",
              "\n",
              "        async function convertToInteractive(key) {\n",
              "          const element = document.querySelector('#df-b84e54d5-63ff-4225-85dd-1a12f9d0b9a9');\n",
              "          const dataTable =\n",
              "            await google.colab.kernel.invokeFunction('convertToInteractive',\n",
              "                                                     [key], {});\n",
              "          if (!dataTable) return;\n",
              "\n",
              "          const docLinkHtml = 'Like what you see? Visit the ' +\n",
              "            '<a target=\"_blank\" href=https://colab.research.google.com/notebooks/data_table.ipynb>data table notebook</a>'\n",
              "            + ' to learn more about interactive tables.';\n",
              "          element.innerHTML = '';\n",
              "          dataTable['output_type'] = 'display_data';\n",
              "          await google.colab.output.renderOutput(dataTable, element);\n",
              "          const docLink = document.createElement('div');\n",
              "          docLink.innerHTML = docLinkHtml;\n",
              "          element.appendChild(docLink);\n",
              "        }\n",
              "      </script>\n",
              "    </div>\n",
              "  </div>\n",
              "  "
            ]
          },
          "metadata": {},
          "execution_count": 7
        }
      ],
      "source": [
        "data['Lyrics']= data['Lyrics'].apply(lambda x:replace_new_line(x))\n",
        "data.head()"
      ]
    },
    {
      "cell_type": "code",
      "execution_count": 8,
      "id": "15fdc5f5",
      "metadata": {
        "id": "15fdc5f5"
      },
      "outputs": [],
      "source": [
        "# convert all lower case\n",
        "data['Lyrics']=data['Lyrics'].apply(lambda x:x.lower())"
      ]
    },
    {
      "cell_type": "code",
      "execution_count": 9,
      "id": "f91f6c6a",
      "metadata": {
        "colab": {
          "base_uri": "https://localhost:8080/"
        },
        "id": "f91f6c6a",
        "outputId": "206871c0-a487-45a8-cbac-fa8b77bf74a6"
      },
      "outputs": [
        {
          "output_type": "stream",
          "name": "stdout",
          "text": [
            "[nltk_data] Downloading package punkt to /root/nltk_data...\n",
            "[nltk_data]   Unzipping tokenizers/punkt.zip.\n",
            "[nltk_data] Downloading package wordnet to /root/nltk_data...\n",
            "[nltk_data]   Unzipping corpora/wordnet.zip.\n"
          ]
        },
        {
          "output_type": "execute_result",
          "data": {
            "text/plain": [
              "True"
            ]
          },
          "metadata": {},
          "execution_count": 9
        }
      ],
      "source": [
        "import nltk\n",
        "nltk.download('punkt')\n",
        "nltk.download('wordnet')"
      ]
    },
    {
      "cell_type": "code",
      "execution_count": 10,
      "id": "c681f794",
      "metadata": {
        "id": "c681f794"
      },
      "outputs": [],
      "source": [
        "#tokenize data\n",
        "data['Lyrics']= data['Lyrics'].apply(lambda x: nltk.word_tokenize(x)) "
      ]
    },
    {
      "cell_type": "code",
      "execution_count": 16,
      "id": "c04dbff6",
      "metadata": {
        "colab": {
          "base_uri": "https://localhost:8080/"
        },
        "id": "c04dbff6",
        "outputId": "920bbfa8-e76b-4978-f6f0-b0de78b2ac9d"
      },
      "outputs": [
        {
          "output_type": "stream",
          "name": "stdout",
          "text": [
            "[nltk_data] Downloading package stopwords to /root/nltk_data...\n",
            "[nltk_data]   Unzipping corpora/stopwords.zip.\n"
          ]
        }
      ],
      "source": [
        "#load enlish library\n",
        "nltk.download('stopwords')\n",
        "stopwords=nltk.corpus.stopwords.words('english')"
      ]
    },
    {
      "cell_type": "code",
      "execution_count": 17,
      "id": "6864e04f",
      "metadata": {
        "id": "6864e04f"
      },
      "outputs": [],
      "source": [
        "#remove stop word\n",
        "def remove_stopWord(text):\n",
        "    output=[i for i in text if i not in stopwords]\n",
        "    return output"
      ]
    },
    {
      "cell_type": "code",
      "execution_count": 18,
      "id": "62df1b62",
      "metadata": {
        "colab": {
          "base_uri": "https://localhost:8080/",
          "height": 424
        },
        "id": "62df1b62",
        "outputId": "0ce4a05f-739f-4520-8eab-7d23a0d46f0a"
      },
      "outputs": [
        {
          "output_type": "execute_result",
          "data": {
            "text/plain": [
              "                                                 Lyrics      Class\n",
              "0     [ill, never, know, go, put, lousy, rotten, sho...  Energetic\n",
              "1     [youre, hot, teasing, youre, blue, cant, take,...      Happy\n",
              "2     [twinkle, twinkle, little, star, wonder, like,...        Sad\n",
              "3     [early, morning, drove, rain, airport, get, pl...      Happy\n",
              "4     [fighter, always, looking, trouble, life, empt...      Happy\n",
              "...                                                 ...        ...\n",
              "4739  [something, folks, hope, enjoy, enter, social,...     Nature\n",
              "4740  [look, needing, know, im, friend, without, gre...     Nature\n",
              "4741  [messin, mother, natures, ovaries, cruel, wint...     Nature\n",
              "4742  [unthinkable, water, color, tea, thats, still,...     Nature\n",
              "4743  [911, ambulance, fresh, salt, water, way, outt...     Nature\n",
              "\n",
              "[4744 rows x 2 columns]"
            ],
            "text/html": [
              "\n",
              "  <div id=\"df-806df52c-062f-4321-88bb-dfa2bcf5b3fb\">\n",
              "    <div class=\"colab-df-container\">\n",
              "      <div>\n",
              "<style scoped>\n",
              "    .dataframe tbody tr th:only-of-type {\n",
              "        vertical-align: middle;\n",
              "    }\n",
              "\n",
              "    .dataframe tbody tr th {\n",
              "        vertical-align: top;\n",
              "    }\n",
              "\n",
              "    .dataframe thead th {\n",
              "        text-align: right;\n",
              "    }\n",
              "</style>\n",
              "<table border=\"1\" class=\"dataframe\">\n",
              "  <thead>\n",
              "    <tr style=\"text-align: right;\">\n",
              "      <th></th>\n",
              "      <th>Lyrics</th>\n",
              "      <th>Class</th>\n",
              "    </tr>\n",
              "  </thead>\n",
              "  <tbody>\n",
              "    <tr>\n",
              "      <th>0</th>\n",
              "      <td>[ill, never, know, go, put, lousy, rotten, sho...</td>\n",
              "      <td>Energetic</td>\n",
              "    </tr>\n",
              "    <tr>\n",
              "      <th>1</th>\n",
              "      <td>[youre, hot, teasing, youre, blue, cant, take,...</td>\n",
              "      <td>Happy</td>\n",
              "    </tr>\n",
              "    <tr>\n",
              "      <th>2</th>\n",
              "      <td>[twinkle, twinkle, little, star, wonder, like,...</td>\n",
              "      <td>Sad</td>\n",
              "    </tr>\n",
              "    <tr>\n",
              "      <th>3</th>\n",
              "      <td>[early, morning, drove, rain, airport, get, pl...</td>\n",
              "      <td>Happy</td>\n",
              "    </tr>\n",
              "    <tr>\n",
              "      <th>4</th>\n",
              "      <td>[fighter, always, looking, trouble, life, empt...</td>\n",
              "      <td>Happy</td>\n",
              "    </tr>\n",
              "    <tr>\n",
              "      <th>...</th>\n",
              "      <td>...</td>\n",
              "      <td>...</td>\n",
              "    </tr>\n",
              "    <tr>\n",
              "      <th>4739</th>\n",
              "      <td>[something, folks, hope, enjoy, enter, social,...</td>\n",
              "      <td>Nature</td>\n",
              "    </tr>\n",
              "    <tr>\n",
              "      <th>4740</th>\n",
              "      <td>[look, needing, know, im, friend, without, gre...</td>\n",
              "      <td>Nature</td>\n",
              "    </tr>\n",
              "    <tr>\n",
              "      <th>4741</th>\n",
              "      <td>[messin, mother, natures, ovaries, cruel, wint...</td>\n",
              "      <td>Nature</td>\n",
              "    </tr>\n",
              "    <tr>\n",
              "      <th>4742</th>\n",
              "      <td>[unthinkable, water, color, tea, thats, still,...</td>\n",
              "      <td>Nature</td>\n",
              "    </tr>\n",
              "    <tr>\n",
              "      <th>4743</th>\n",
              "      <td>[911, ambulance, fresh, salt, water, way, outt...</td>\n",
              "      <td>Nature</td>\n",
              "    </tr>\n",
              "  </tbody>\n",
              "</table>\n",
              "<p>4744 rows × 2 columns</p>\n",
              "</div>\n",
              "      <button class=\"colab-df-convert\" onclick=\"convertToInteractive('df-806df52c-062f-4321-88bb-dfa2bcf5b3fb')\"\n",
              "              title=\"Convert this dataframe to an interactive table.\"\n",
              "              style=\"display:none;\">\n",
              "        \n",
              "  <svg xmlns=\"http://www.w3.org/2000/svg\" height=\"24px\"viewBox=\"0 0 24 24\"\n",
              "       width=\"24px\">\n",
              "    <path d=\"M0 0h24v24H0V0z\" fill=\"none\"/>\n",
              "    <path d=\"M18.56 5.44l.94 2.06.94-2.06 2.06-.94-2.06-.94-.94-2.06-.94 2.06-2.06.94zm-11 1L8.5 8.5l.94-2.06 2.06-.94-2.06-.94L8.5 2.5l-.94 2.06-2.06.94zm10 10l.94 2.06.94-2.06 2.06-.94-2.06-.94-.94-2.06-.94 2.06-2.06.94z\"/><path d=\"M17.41 7.96l-1.37-1.37c-.4-.4-.92-.59-1.43-.59-.52 0-1.04.2-1.43.59L10.3 9.45l-7.72 7.72c-.78.78-.78 2.05 0 2.83L4 21.41c.39.39.9.59 1.41.59.51 0 1.02-.2 1.41-.59l7.78-7.78 2.81-2.81c.8-.78.8-2.07 0-2.86zM5.41 20L4 18.59l7.72-7.72 1.47 1.35L5.41 20z\"/>\n",
              "  </svg>\n",
              "      </button>\n",
              "      \n",
              "  <style>\n",
              "    .colab-df-container {\n",
              "      display:flex;\n",
              "      flex-wrap:wrap;\n",
              "      gap: 12px;\n",
              "    }\n",
              "\n",
              "    .colab-df-convert {\n",
              "      background-color: #E8F0FE;\n",
              "      border: none;\n",
              "      border-radius: 50%;\n",
              "      cursor: pointer;\n",
              "      display: none;\n",
              "      fill: #1967D2;\n",
              "      height: 32px;\n",
              "      padding: 0 0 0 0;\n",
              "      width: 32px;\n",
              "    }\n",
              "\n",
              "    .colab-df-convert:hover {\n",
              "      background-color: #E2EBFA;\n",
              "      box-shadow: 0px 1px 2px rgba(60, 64, 67, 0.3), 0px 1px 3px 1px rgba(60, 64, 67, 0.15);\n",
              "      fill: #174EA6;\n",
              "    }\n",
              "\n",
              "    [theme=dark] .colab-df-convert {\n",
              "      background-color: #3B4455;\n",
              "      fill: #D2E3FC;\n",
              "    }\n",
              "\n",
              "    [theme=dark] .colab-df-convert:hover {\n",
              "      background-color: #434B5C;\n",
              "      box-shadow: 0px 1px 3px 1px rgba(0, 0, 0, 0.15);\n",
              "      filter: drop-shadow(0px 1px 2px rgba(0, 0, 0, 0.3));\n",
              "      fill: #FFFFFF;\n",
              "    }\n",
              "  </style>\n",
              "\n",
              "      <script>\n",
              "        const buttonEl =\n",
              "          document.querySelector('#df-806df52c-062f-4321-88bb-dfa2bcf5b3fb button.colab-df-convert');\n",
              "        buttonEl.style.display =\n",
              "          google.colab.kernel.accessAllowed ? 'block' : 'none';\n",
              "\n",
              "        async function convertToInteractive(key) {\n",
              "          const element = document.querySelector('#df-806df52c-062f-4321-88bb-dfa2bcf5b3fb');\n",
              "          const dataTable =\n",
              "            await google.colab.kernel.invokeFunction('convertToInteractive',\n",
              "                                                     [key], {});\n",
              "          if (!dataTable) return;\n",
              "\n",
              "          const docLinkHtml = 'Like what you see? Visit the ' +\n",
              "            '<a target=\"_blank\" href=https://colab.research.google.com/notebooks/data_table.ipynb>data table notebook</a>'\n",
              "            + ' to learn more about interactive tables.';\n",
              "          element.innerHTML = '';\n",
              "          dataTable['output_type'] = 'display_data';\n",
              "          await google.colab.output.renderOutput(dataTable, element);\n",
              "          const docLink = document.createElement('div');\n",
              "          docLink.innerHTML = docLinkHtml;\n",
              "          element.appendChild(docLink);\n",
              "        }\n",
              "      </script>\n",
              "    </div>\n",
              "  </div>\n",
              "  "
            ]
          },
          "metadata": {},
          "execution_count": 18
        }
      ],
      "source": [
        "data['Lyrics']=data['Lyrics'].apply(lambda x: remove_stopWord(x))\n",
        "data"
      ]
    },
    {
      "cell_type": "code",
      "execution_count": 19,
      "id": "86a0c90b",
      "metadata": {
        "colab": {
          "base_uri": "https://localhost:8080/"
        },
        "id": "86a0c90b",
        "outputId": "7c16214e-8b43-45ec-b133-96abe6fd14e2"
      },
      "outputs": [
        {
          "output_type": "execute_result",
          "data": {
            "text/plain": [
              "Relax        999\n",
              "Energetic    978\n",
              "Sad          957\n",
              "Nature       923\n",
              "Happy        887\n",
              "Name: Class, dtype: int64"
            ]
          },
          "metadata": {},
          "execution_count": 19
        }
      ],
      "source": [
        "data.Class.value_counts()"
      ]
    },
    {
      "cell_type": "code",
      "execution_count": 20,
      "id": "39998198",
      "metadata": {
        "id": "39998198"
      },
      "outputs": [],
      "source": [
        "#lemmatize the sentence\n",
        "wordnet= WordNetLemmatizer()\n",
        "def lemmatizer(text):\n",
        "    lemm_text = [wordnet.lemmatize(word) for word in text]\n",
        "    return lemm_text"
      ]
    },
    {
      "cell_type": "code",
      "execution_count": 21,
      "id": "d2acae67",
      "metadata": {
        "colab": {
          "base_uri": "https://localhost:8080/",
          "height": 424
        },
        "id": "d2acae67",
        "outputId": "40529302-3744-4092-e614-032176d4e714"
      },
      "outputs": [
        {
          "output_type": "execute_result",
          "data": {
            "text/plain": [
              "                                                 Lyrics      Class\n",
              "0     [ill, never, know, go, put, lousy, rotten, sho...  Energetic\n",
              "1     [youre, hot, teasing, youre, blue, cant, take,...      Happy\n",
              "2     [twinkle, twinkle, little, star, wonder, like,...        Sad\n",
              "3     [early, morning, drove, rain, airport, get, pl...      Happy\n",
              "4     [fighter, always, looking, trouble, life, empt...      Happy\n",
              "...                                                 ...        ...\n",
              "4739  [something, folk, hope, enjoy, enter, social, ...     Nature\n",
              "4740  [look, needing, know, im, friend, without, gre...     Nature\n",
              "4741  [messin, mother, nature, ovary, cruel, winter,...     Nature\n",
              "4742  [unthinkable, water, color, tea, thats, still,...     Nature\n",
              "4743  [911, ambulance, fresh, salt, water, way, outt...     Nature\n",
              "\n",
              "[4744 rows x 2 columns]"
            ],
            "text/html": [
              "\n",
              "  <div id=\"df-796f7f36-57c9-47e0-9999-f63da73799d2\">\n",
              "    <div class=\"colab-df-container\">\n",
              "      <div>\n",
              "<style scoped>\n",
              "    .dataframe tbody tr th:only-of-type {\n",
              "        vertical-align: middle;\n",
              "    }\n",
              "\n",
              "    .dataframe tbody tr th {\n",
              "        vertical-align: top;\n",
              "    }\n",
              "\n",
              "    .dataframe thead th {\n",
              "        text-align: right;\n",
              "    }\n",
              "</style>\n",
              "<table border=\"1\" class=\"dataframe\">\n",
              "  <thead>\n",
              "    <tr style=\"text-align: right;\">\n",
              "      <th></th>\n",
              "      <th>Lyrics</th>\n",
              "      <th>Class</th>\n",
              "    </tr>\n",
              "  </thead>\n",
              "  <tbody>\n",
              "    <tr>\n",
              "      <th>0</th>\n",
              "      <td>[ill, never, know, go, put, lousy, rotten, sho...</td>\n",
              "      <td>Energetic</td>\n",
              "    </tr>\n",
              "    <tr>\n",
              "      <th>1</th>\n",
              "      <td>[youre, hot, teasing, youre, blue, cant, take,...</td>\n",
              "      <td>Happy</td>\n",
              "    </tr>\n",
              "    <tr>\n",
              "      <th>2</th>\n",
              "      <td>[twinkle, twinkle, little, star, wonder, like,...</td>\n",
              "      <td>Sad</td>\n",
              "    </tr>\n",
              "    <tr>\n",
              "      <th>3</th>\n",
              "      <td>[early, morning, drove, rain, airport, get, pl...</td>\n",
              "      <td>Happy</td>\n",
              "    </tr>\n",
              "    <tr>\n",
              "      <th>4</th>\n",
              "      <td>[fighter, always, looking, trouble, life, empt...</td>\n",
              "      <td>Happy</td>\n",
              "    </tr>\n",
              "    <tr>\n",
              "      <th>...</th>\n",
              "      <td>...</td>\n",
              "      <td>...</td>\n",
              "    </tr>\n",
              "    <tr>\n",
              "      <th>4739</th>\n",
              "      <td>[something, folk, hope, enjoy, enter, social, ...</td>\n",
              "      <td>Nature</td>\n",
              "    </tr>\n",
              "    <tr>\n",
              "      <th>4740</th>\n",
              "      <td>[look, needing, know, im, friend, without, gre...</td>\n",
              "      <td>Nature</td>\n",
              "    </tr>\n",
              "    <tr>\n",
              "      <th>4741</th>\n",
              "      <td>[messin, mother, nature, ovary, cruel, winter,...</td>\n",
              "      <td>Nature</td>\n",
              "    </tr>\n",
              "    <tr>\n",
              "      <th>4742</th>\n",
              "      <td>[unthinkable, water, color, tea, thats, still,...</td>\n",
              "      <td>Nature</td>\n",
              "    </tr>\n",
              "    <tr>\n",
              "      <th>4743</th>\n",
              "      <td>[911, ambulance, fresh, salt, water, way, outt...</td>\n",
              "      <td>Nature</td>\n",
              "    </tr>\n",
              "  </tbody>\n",
              "</table>\n",
              "<p>4744 rows × 2 columns</p>\n",
              "</div>\n",
              "      <button class=\"colab-df-convert\" onclick=\"convertToInteractive('df-796f7f36-57c9-47e0-9999-f63da73799d2')\"\n",
              "              title=\"Convert this dataframe to an interactive table.\"\n",
              "              style=\"display:none;\">\n",
              "        \n",
              "  <svg xmlns=\"http://www.w3.org/2000/svg\" height=\"24px\"viewBox=\"0 0 24 24\"\n",
              "       width=\"24px\">\n",
              "    <path d=\"M0 0h24v24H0V0z\" fill=\"none\"/>\n",
              "    <path d=\"M18.56 5.44l.94 2.06.94-2.06 2.06-.94-2.06-.94-.94-2.06-.94 2.06-2.06.94zm-11 1L8.5 8.5l.94-2.06 2.06-.94-2.06-.94L8.5 2.5l-.94 2.06-2.06.94zm10 10l.94 2.06.94-2.06 2.06-.94-2.06-.94-.94-2.06-.94 2.06-2.06.94z\"/><path d=\"M17.41 7.96l-1.37-1.37c-.4-.4-.92-.59-1.43-.59-.52 0-1.04.2-1.43.59L10.3 9.45l-7.72 7.72c-.78.78-.78 2.05 0 2.83L4 21.41c.39.39.9.59 1.41.59.51 0 1.02-.2 1.41-.59l7.78-7.78 2.81-2.81c.8-.78.8-2.07 0-2.86zM5.41 20L4 18.59l7.72-7.72 1.47 1.35L5.41 20z\"/>\n",
              "  </svg>\n",
              "      </button>\n",
              "      \n",
              "  <style>\n",
              "    .colab-df-container {\n",
              "      display:flex;\n",
              "      flex-wrap:wrap;\n",
              "      gap: 12px;\n",
              "    }\n",
              "\n",
              "    .colab-df-convert {\n",
              "      background-color: #E8F0FE;\n",
              "      border: none;\n",
              "      border-radius: 50%;\n",
              "      cursor: pointer;\n",
              "      display: none;\n",
              "      fill: #1967D2;\n",
              "      height: 32px;\n",
              "      padding: 0 0 0 0;\n",
              "      width: 32px;\n",
              "    }\n",
              "\n",
              "    .colab-df-convert:hover {\n",
              "      background-color: #E2EBFA;\n",
              "      box-shadow: 0px 1px 2px rgba(60, 64, 67, 0.3), 0px 1px 3px 1px rgba(60, 64, 67, 0.15);\n",
              "      fill: #174EA6;\n",
              "    }\n",
              "\n",
              "    [theme=dark] .colab-df-convert {\n",
              "      background-color: #3B4455;\n",
              "      fill: #D2E3FC;\n",
              "    }\n",
              "\n",
              "    [theme=dark] .colab-df-convert:hover {\n",
              "      background-color: #434B5C;\n",
              "      box-shadow: 0px 1px 3px 1px rgba(0, 0, 0, 0.15);\n",
              "      filter: drop-shadow(0px 1px 2px rgba(0, 0, 0, 0.3));\n",
              "      fill: #FFFFFF;\n",
              "    }\n",
              "  </style>\n",
              "\n",
              "      <script>\n",
              "        const buttonEl =\n",
              "          document.querySelector('#df-796f7f36-57c9-47e0-9999-f63da73799d2 button.colab-df-convert');\n",
              "        buttonEl.style.display =\n",
              "          google.colab.kernel.accessAllowed ? 'block' : 'none';\n",
              "\n",
              "        async function convertToInteractive(key) {\n",
              "          const element = document.querySelector('#df-796f7f36-57c9-47e0-9999-f63da73799d2');\n",
              "          const dataTable =\n",
              "            await google.colab.kernel.invokeFunction('convertToInteractive',\n",
              "                                                     [key], {});\n",
              "          if (!dataTable) return;\n",
              "\n",
              "          const docLinkHtml = 'Like what you see? Visit the ' +\n",
              "            '<a target=\"_blank\" href=https://colab.research.google.com/notebooks/data_table.ipynb>data table notebook</a>'\n",
              "            + ' to learn more about interactive tables.';\n",
              "          element.innerHTML = '';\n",
              "          dataTable['output_type'] = 'display_data';\n",
              "          await google.colab.output.renderOutput(dataTable, element);\n",
              "          const docLink = document.createElement('div');\n",
              "          docLink.innerHTML = docLinkHtml;\n",
              "          element.appendChild(docLink);\n",
              "        }\n",
              "      </script>\n",
              "    </div>\n",
              "  </div>\n",
              "  "
            ]
          },
          "metadata": {},
          "execution_count": 21
        }
      ],
      "source": [
        "data['Lyrics']=data['Lyrics'].apply(lambda x: lemmatizer(x))\n",
        "data"
      ]
    },
    {
      "cell_type": "code",
      "execution_count": 22,
      "id": "cbb2eea2",
      "metadata": {
        "id": "cbb2eea2"
      },
      "outputs": [],
      "source": [
        "data['Lyrics'] = data.Lyrics.apply(lambda x: ' '.join(x))"
      ]
    },
    {
      "cell_type": "markdown",
      "id": "8b134c0d",
      "metadata": {
        "id": "8b134c0d"
      },
      "source": [
        "# visualization"
      ]
    },
    {
      "cell_type": "code",
      "execution_count": 25,
      "id": "a00ceb5d",
      "metadata": {
        "colab": {
          "base_uri": "https://localhost:8080/",
          "height": 0
        },
        "id": "a00ceb5d",
        "outputId": "25e6729b-5093-4204-b204-95994fe5e2be"
      },
      "outputs": [
        {
          "output_type": "execute_result",
          "data": {
            "text/plain": [
              "<matplotlib.axes._subplots.AxesSubplot at 0x7f3b89326450>"
            ]
          },
          "metadata": {},
          "execution_count": 25
        },
        {
          "output_type": "display_data",
          "data": {
            "text/plain": [
              "<Figure size 432x288 with 1 Axes>"
            ],
            "image/png": "[encoded data removed]"
          },
          "metadata": {
            "needs_background": "light"
          }
        }
      ],
      "source": [
        "# show plot class value\n",
        "data['Class'].value_counts().sort_values(ascending=False).plot(kind='bar', \n",
        "                                                                title='Number of lyrics')"
      ]
    },
    {
      "cell_type": "markdown",
      "id": "be41135a",
      "metadata": {
        "id": "be41135a"
      },
      "source": [
        "# train test split"
      ]
    },
    {
      "cell_type": "code",
      "execution_count": 26,
      "id": "c6c52f0c",
      "metadata": {
        "id": "c6c52f0c"
      },
      "outputs": [],
      "source": [
        "#train test split data\n",
        "Train_X, Test_X, Train_Y, Test_Y = model_selection.train_test_split(data['Lyrics'],data['Class'],test_size=0.10,random_state=202)"
      ]
    },
    {
      "cell_type": "code",
      "execution_count": 27,
      "id": "7ab4b082",
      "metadata": {
        "id": "7ab4b082"
      },
      "outputs": [],
      "source": [
        "# Encoding class data \n",
        "Encoder = LabelEncoder()\n",
        "Train_Y = Encoder.fit_transform(Train_Y.astype(str))\n",
        "Test_Y = Encoder.fit_transform(Test_Y.astype(str))"
      ]
    },
    {
      "cell_type": "code",
      "execution_count": 28,
      "id": "0181b786",
      "metadata": {
        "id": "0181b786"
      },
      "outputs": [],
      "source": [
        "# tfidf vactize the data \n",
        "Tfidf_vect = TfidfVectorizer(max_features=5000)\n",
        "Tfidf_vect.fit(data['Lyrics'])\n",
        "Train_X_Tfidf = Tfidf_vect.transform(Train_X.astype(str))\n",
        "Test_X_Tfidf = Tfidf_vect.transform(Test_X.astype(str))"
      ]
    },
    {
      "cell_type": "code",
      "execution_count": 29,
      "id": "993c2b8a",
      "metadata": {
        "colab": {
          "base_uri": "https://localhost:8080/"
        },
        "id": "993c2b8a",
        "outputId": "e78656c0-f9bc-437d-ff43-dc3dc156c6db"
      },
      "outputs": [
        {
          "output_type": "stream",
          "name": "stdout",
          "text": [
            "{'ill': 2146, 'never': 2884, 'know': 2371, 'go': 1842, 'put': 3328, 'rotten': 3577, 'show': 3871, 'boy': 543, 'tough': 4508, 'packing': 3038, 'stuff': 4211, 'saying': 3674, 'dont': 1253, 'need': 2868, 'anymore': 193, 'ive': 2221, 'enough': 1426, 'look': 2556, 'standing': 4118, 'cause': 725, 'found': 1714, 'life': 2485, 'got': 1858, 'ta': 4322, 'near': 2861, 'good': 1854, 'new': 2887, 'love': 2582, 'keeping': 2326, 'way': 4765, 'intention': 2194, 'growing': 1907, 'yes': 4971, 'think': 4419, 'taking': 4331, 'dimension': 1199, 'like': 2496, 'used': 4664, 'even': 1452, 'better': 422, 'thank': 4397, 'god': 1844, 'true': 4561, 'darling': 1092, 'always': 156, 'meant': 2689, 'stay': 4135, 'together': 4479, 'feel': 1572, 'creep': 1014, 'felt': 1580, 'cheap': 772, 'notion': 2927, 'could': 970, 'deep': 1131, 'make': 2629, 'dumb': 1325, 'mistake': 2765, 'im': 2149, 'another': 185, 'break': 556, 'please': 3202, 'baby': 299, 'beg': 379, 'forgive': 1698, 'get': 1806, 'thought': 4431, 'end': 1407, 'youre': 4985, 'hot': 2101, 'teasing': 4367, 'blue': 489, 'cant': 678, 'take': 4328, 'chance': 752, 'chick': 789, 'thats': 4402, 'something': 4027, 'couldnt': 972, 'there': 4406, 'eye': 1505, 'read': 3403, 'face': 1509, 'feeling': 1574, 'driving': 1305, 'wild': 4845, 'ah': 100, 'girl': 1818, 'child': 791, 'well': 4790, 'dance': 1078, 'honey': 2079, 'funny': 1765, 'mother': 2810, 'chat': 770, 'flirt': 1650, 'little': 2517, 'maybe': 2676, 'easy': 1357, 'slow': 3973, 'try': 4570, 'cool': 952, 'nice': 2891, 'see': 3728, 'want': 4735, 'seem': 3735, 'pretty': 3273, 'young': 4983, 'searching': 3717, 'kind': 2344, 'fun': 1759, 'one': 2984, 'style': 4218, 'mean': 2684, 'give': 1823, 'flash': 1636, 'smile': 3983, 'twinkle': 4597, 'star': 4119, 'wonder': 4890, 'diamond': 1183, 'sky': 3947, 'seems': 3738, 'shine': 3837, 'light': 2490, 'say': 3672, 'goodnight': 1857, 'old': 2979, 'friend': 1739, 'sleep': 3957, 'waiting': 4719, 'round': 3579, 'bend': 405, 'travel': 4531, 'raindrop': 3368, 'window': 4852, 'pane': 3058, 'summer': 4250, 'rain': 3366, 'silently': 3901, 'haze': 1982, 'drift': 1291, 'tree': 4542, 'slowly': 3974, 'dawn': 1100, 'breaking': 561, 'yet': 4973, 'morning': 2805, 'without': 4879, 'curtain': 1053, 'rustling': 3610, 'breeze': 570, 'still': 4153, 'trapped': 4529, 'within': 4878, 'dream': 1281, 'daylight': 1104, 'mind': 2744, 'coming': 899, 'finally': 1603, 'darkness': 1090, 'fall': 1531, 'casting': 714, 'shadow': 3789, 'wall': 4727, 'twilight': 4595, 'hour': 2105, 'alone': 146, 'sitting': 3937, 'fireplace': 1619, 'dying': 1336, 'ember': 1395, 'warm': 4740, 'peaceful': 3112, 'solitude': 4015, 'outside': 3016, 'world': 4914, 'everything': 1467, 'come': 895, 'back': 300, 'gloom': 1836, 'angel': 174, 'passing': 3093, 'room': 3571, 'echo': 1365, 'voice': 4701, 'knew': 2362, 'half': 1935, 'awake': 277, 'seeing': 3732, 'long': 2551, 'forgotten': 1702, 'scene': 3681, 'present': 3265, 'run': 3599, 'past': 3095, 'become': 369, 'playing': 3195, 'game': 1779, 'die': 1189, 'goodbye': 1855, 'tonight': 4488, 'close': 853, 'image': 2151, 'soon': 4034, 'early': 1346, 'drove': 1308, 'airport': 123, 'plane': 3182, 'hey': 2033, 'honololu': 2085, 'going': 1848, 'happy': 1956, 'hawaii': 1980, 'alice': 134, 'said': 3624, 'swimming': 4309, 'sun': 4253, 'making': 2633, 'plan': 3181, 'believe': 395, 'second': 3721, 'guess': 1914, 'working': 4913, 'hard': 1957, 'vacation': 4672, 'send': 3751, 'card': 689, 'greeting': 1890, 'pretend': 3271, 'imagine': 2153, 'beach': 355, 'sand': 3647, 'walking': 4726, 'someone': 4024, 'holding': 2063, 'hand': 1941, 'mmm': 2776, 'forget': 1696, 'fighter': 1591, 'looking': 2560, 'trouble': 4554, 'empty': 1405, 'nothing': 2922, 'left': 2457, 'live': 2518, 'happened': 1951, 'night': 2895, 'fight': 1590, 'hear': 1993, 'though': 4430, 'praying': 3258, 'treat': 4538, 'brother': 592, 'might': 2734, 'help': 2020, 'day': 1102, 'depend': 1152, 'road': 3541, 'word': 4908, 'comfort': 896, 'woman': 4888, 'thinking': 4421, 'others': 3008, 'lonely': 2548, 'didnt': 1188, 'care': 690, 'anybody': 190, 'meet': 2695, 'begging': 384, 'man': 2639, 'street': 4187, 'turned': 4585, 'heard': 1994, 'he': 1983, 'follow': 1672, 'personal': 3135, 'people': 3126, 'everywhere': 1470, 'chair': 747, 'shes': 3830, 'leading': 2438, 'lady': 2390, 'trace': 4516, 'hesitation': 2032, 'keep': 2323, 'head': 1984, 'heel': 2013, 'pushing': 3326, 'unknown': 4643, 'jungle': 2310, 'every': 1460, 'taste': 4347, 'ground': 1903, 'rushing': 3608, 'setting': 3774, 'pace': 3035, 'running': 3604, 'gauntlet': 1791, 'whirl': 4818, 'lace': 2383, 'extreme': 1503, 'admire': 64, 'constantly': 935, 'tired': 4473, 'time': 4469, 'speaks': 4061, 'fine': 1607, 'wed': 4776, 'hurry': 2125, 'last': 2412, 'free': 1727, 'wanted': 4736, 'price': 3275, 'paid': 3042, 'today': 4477, 'worth': 4922, 'pain': 3043, 'cry': 1042, 'hurt': 2126, 'ask': 250, 'daddy': 1066, 'helen': 2017, 'beginning': 387, 'sad': 3619, 'right': 3525, 'find': 1604, 'freedom': 1728, 'whats': 4806, 'matter': 2672, 'ahah': 103, 'thrill': 4438, 'aha': 101, 'nearly': 2863, 'kill': 2337, 'id': 2137, 'machine': 2613, 'oh': 2959, 'dizzy': 1237, 'let': 2469, 'conceal': 916, 'kiss': 2352, 'hold': 2061, 'tight': 4461, 'wan': 4729, 'na': 2842, 'sing': 3914, 'thing': 4418, 'high': 2041, 'gon': 1851, 'stick': 4149, 'youll': 4982, 'place': 3176, 'rather': 3389, 'would': 4925, 'touch': 4505, 'movie': 2820, 'least': 2450, 'doggone': 1245, 'beast': 361, 'among': 166, 'much': 2825, 'plain': 3178, 'simple': 3908, 'special': 4062, 'type': 4603, 'surely': 4276, 'miss': 2756, 'nobody': 2908, 'evil': 1471, 'made': 2615, 'men': 2707, 'ever': 1457, 'smiled': 3984, 'whispered': 4822, 'hell': 2018, 'begun': 390, 'city': 827, 'cloud': 859, 'revelation': 3502, 'spreading': 4097, 'beautiful': 366, 'irresistible': 2209, 'creature': 1011, 'forever': 1695, 'grow': 1905, 'size': 3941, 'strange': 4178, 'attraction': 267, 'air': 121, 'welcome': 4788, 'arm': 229, 'open': 3002, 'wide': 4840, 'somewhere': 4031, 'middle': 2732, 'ending': 1409, 'noise': 2910, 'constant': 934, 'steady': 4139, 'rhythm': 3510, 'heart': 1998, 'beat': 363, 'million': 2742, 'blend': 463, 'single': 3918, 'glamor': 1829, 'crowded': 1032, 'sometimes': 4030, 'win': 4849, 'lose': 2570, 'lot': 2576, 'melting': 2705, 'pot': 3241, 'walk': 4722, 'language': 2408, 'talk': 4333, 'skyline': 3948, 'energy': 1419, 'famous': 1539, 'hotel': 2102, 'cocktail': 876, 'bar': 332, 'smell': 3981, 'turmoil': 4583, 'car': 688, 'breathing': 567, 'feed': 1570, 'hungry': 2121, 'soul': 4041, 'worship': 4920, 'pay': 3105, 'shopping': 3855, 'foot': 1684, 'dancing': 1082, 'neon': 2880, 'crazy': 1006, 'magic': 2621, 'theyre': 4411, 'piece': 3158, 'wind': 4850, 'listen': 2513, 'laugh': 2419, 'park': 3078, 'square': 4101, 'sound': 4042, 'song': 4033, 'cope': 955, 'anything': 195, 'fairy': 1526, 'tale': 4332, 'future': 1771, 'fail': 1521, 'cross': 1025, 'stream': 4186, 'fantasy': 1545, 'reality': 3408, 'destination': 1168, 'mile': 2738, 'hearing': 1996, 'poet': 3211, 'painted': 3046, 'call': 660, 'straight': 4174, 'music': 2837, 'speak': 4059, 'restraint': 3493, 'carry': 705, 'away': 279, 'beauty': 367, 'healing': 1991, 'blow': 484, 'shallow': 3803, 'wake': 4720, 'joke': 2279, 'farce': 1548, 'tear': 4363, 'sigh': 3893, 'speaking': 4060, 'emptiness': 1404, 'dry': 1316, 'leaf': 2439, 'autumn': 272, 'alley': 139, 'dead': 1108, 'blind': 468, 'ancient': 171, 'valley': 4675, 'gently': 1804, 'lover': 2588, 'defeat': 1136, 'darkest': 1089, 'grand': 1871, 'illusion': 2148, 'disturbance': 1229, 'intrusion': 2200, 'seduce': 3726, 'use': 4663, 'joy': 2291, 'sunrise': 4260, 'moment': 2787, 'dy': 1332, 'surrender': 4284, 'reservation': 3479, 'explanation': 1494, 'question': 3340, 'flow': 1658, 'everybodys': 1462, 'telling': 4377, 'pushed': 3325, 'around': 235, 'refugee': 3439, 'somethings': 4028, 'wrong': 4944, 'belong': 402, 'outer': 3014, 'space': 4052, 'king': 2348, 'kong': 2379, 'marionette': 2656, 'pull': 3312, 'string': 4194, 'silly': 3905, 'clown': 861, 'doll': 1248, 'puppet': 3319, 'somebody': 4021, 'taught': 4354, 'complain': 910, 'blame': 453, 'happening': 1952, 'control': 942, 'lost': 2575, 'safe': 3623, 'photograph': 3147, 'okay': 2977, 'faith': 1527, 'year': 4964, 'somehow': 4023, 'union': 4639, 'rare': 3385, 'bittersweet': 449, 'memory': 2706, 'share': 3810, 'really': 3411, 'remind': 3461, 'reach': 3398, 'far': 1546, 'spirit': 4082, 'arrived': 238, 'sorrow': 4038, 'story': 4172, 'survived': 4289, 'ring': 3526, 'passion': 3094, 'courage': 983, 'stand': 4116, 'weve': 4797, 'humble': 2117, 'grateful': 1878, 'wasnt': 4747, 'jealous': 2247, 'met': 2722, 'potential': 3242, 'threat': 4434, 'isnt': 2212, 'youve': 4988, 'smoking': 3990, 'vice': 4687, 'learned': 2446, 'wasting': 4751, 'emotion': 1401, 'lay': 2429, 'shooting': 3853, 'duck': 1317, 'small': 3977, 'stuck': 4210, 'done': 1251, 'easily': 1354, 'fear': 1566, 'skip': 3945, 'pride': 3276, 'dear': 1114, 'sharing': 3814, 'devotion': 1180, 'affair': 76, 'theyve': 4412, 'truth': 4569, 'incomprehensible': 2160, 'dark': 1086, 'yard': 4957, 'understand': 4627, 'everythings': 1468, 'changing': 756, 'dirty': 1206, 'ceiling': 733, 'walked': 4723, 'brighter': 579, 'must': 2838, 'lovelight': 2585, 'anywhere': 198, 'shining': 3839, 'wont': 4897, 'sight': 3895, 'remember': 3459, 'first': 1623, 'went': 4792, 'decided': 1124, 'corner': 960, 'downtown': 1267, 'waited': 4716, 'came': 668, 'behind': 391, 'kissed': 2353, 'traffic': 4520, 'seemed': 3736, 'glow': 1840, 'bright': 578, 'cheated': 774, 'since': 3912, 'learn': 2445, 'suddenly': 4235, 'fire': 1614, 'bell': 399, 'whoa': 4828, 'mamma': 2637, 'mia': 2727, 'resist': 3482, 'missed': 2757, 'brokenhearted': 589, 'parted': 3083, 'angry': 178, 'count': 974, 'told': 4481, 'slam': 3950, 'door': 1258, 'strong': 4201, 'byebye': 645, 'leave': 2452, 'play': 3191, 'doesnt': 1242, 'limousine': 2500, 'fifty': 1589, 'seventeen': 3778, 'damn': 1074, 'bill': 430, 'fat': 1558, 'cigar': 821, 'belly': 401, 'full': 1758, 'lobster': 2529, 'caviar': 730, 'choose': 807, 'wine': 4854, 'drink': 1295, 'champagne': 751, 'rest': 3488, 'fiddle': 1586, 'spider': 4075, 'hammer': 1940, 'bos': 526, 'diddle': 1187, 'bothered': 529, 'conscience': 931, 'deal': 1111, 'devil': 1178, 'big': 427, 'servant': 3768, 'mansion': 2646, 'beside': 415, 'lake': 2393, 'money': 2791, 'spend': 4070, 'buy': 641, 'honest': 2077, 'here': 2026, 'ahead': 108, 'dare': 1085, 'tread': 4536, 'mirror': 2753, 'clearly': 843, 'dearly': 1115, 'reflection': 3436, 'posse': 3237, 'bless': 464, 'held': 2016, 'heartbeat': 2000, 'beyond': 425, 'bond': 506, 'breakfast': 559, 'table': 4323, 'liked': 2497, 'begin': 385, 'many': 2647, 'helpless': 2023, 'two': 4602, 'inside': 2183, 'cold': 884, 'cling': 851, 'desperate': 1165, 'energetic': 1415, 'daydream': 1103, 'key': 2329, 'realize': 3409, 'shakeup': 3795, 'precious': 3262, 'suffering': 4239, 'late': 2414, 'white': 4825, 'sombrero': 4020, 'saddle': 3620, 'horse': 2098, 'ride': 3518, 'sunset': 4261, 'youd': 4981, 'hero': 2028, 'real': 3406, 'red': 3428, 'showdown': 3872, 'bold': 500, 'disappearing': 1211, 'dressed': 1288, 'cowboy': 990, 'sweet': 4301, 'wholl': 4833, 'proud': 3303, 'rhyme': 3508, 'candlelight': 674, 'saw': 3671, 'save': 3666, 'gave': 1792, 'yeah': 4961, 'rocknroll': 3555, 'band': 327, 'rockn': 3554, 'roll': 3560, 'hide': 2038, 'flower': 1659, 'cheer': 779, 'started': 4128, 'wonderful': 4892, 'lucky': 2596, 'fellow': 1579, 'mine': 2746, 'squeeze': 4102, 'talking': 4336, 'frida': 1736, 'bed': 371, 'losing': 2573, 'tell': 4375, 'usual': 4668, 'clever': 845, 'guy': 1926, 'bought': 533, 'short': 3858, 'philosophy': 3143, 'agnetha': 92, 'mighty': 2735, 'fly': 1665, 'fool': 1679, 'toe': 4478, 'balloon': 325, 'halfway': 1936, 'moon': 2799, 'wrapped': 4932, 'cocoon': 878, 'eternal': 1446, 'lie': 2483, 'grown': 1909, 'stone': 4161, 'ramble': 3376, 'throat': 4439, 'palm': 3054, 'noone': 2914, 'harm': 1963, 'stare': 4120, 'bother': 528, 'whatever': 4803, 'happens': 1953, 'jeanie': 2250, 'evening': 1454, 'bluest': 492, 'town': 4514, 'point': 3212, 'finger': 1610, 'monkey': 2792, 'zoo': 4997, 'coconut': 877, 'soft': 4007, 'message': 2718, 'crowd': 1031, 'else': 1390, 'calm': 666, 'shouldnt': 3863, 'fancy': 1542, 'trick': 4546, 'aint': 120, 'daisy': 1069, 'may': 2675, 'trying': 4572, 'wouldnt': 4926, 'moonlight': 2800, 'lovemaking': 2587, 'sleeping': 3959, 'creeping': 1015, 'spine': 4079, 'loose': 2561, 'action': 54, 'giant': 1812, 'dynamo': 1338, 'breathe': 564, 'elusive': 1392, 'glitter': 1834, 'turn': 4584, 'folk': 1671, 'gone': 1852, 'tomorrow': 4485, 'dawning': 1101, 'bird': 438, 'start': 4127, 'pale': 3052, 'remembering': 3460, 'scattered': 3680, 'cried': 1018, 'disaster': 1214, 'disgrace': 1219, 'crown': 1033, 'clumsy': 864, 'upside': 4658, 'step': 4145, 'throne': 4440, 'shame': 3804, 'change': 753, 'line': 2501, 'flown': 1662, 'best': 416, 'test': 4392, 'afraid': 83, 'worry': 4917, 'rough': 3578, 'waste': 4748, 'bababa': 292, 'ba': 291, 'hill': 2045, 'struggled': 4205, 'heat': 2003, 'snow': 3998, 'following': 1675, 'melody': 2701, 'summoned': 4252, 'tune': 4582, 'piper': 3171, 'beneath': 407, 'sub': 4219, 'luna': 2602, 'saltamus': 3638, 'south': 4048, 'west': 4794, 'north': 2917, 'east': 1355, 'priest': 3277, 'seduced': 3727, 'everybody': 1461, 'land': 2402, 'weapon': 4770, 'occupation': 2951, 'cleaned': 839, 'local': 2530, 'railway': 3365, 'station': 4133, 'romance': 3566, 'wished': 4869, 'wife': 4844, 'page': 3041, 'different': 1193, 'age': 90, 'answer': 186, 'called': 661, 'number': 2933, 'sounded': 4043, 'quite': 3347, 'amazed': 158, 'luck': 2595, 'streak': 4185, 'gold': 1849, 'hed': 2010, 'struck': 4203, 'ad': 57, 'meeting': 2697, 'three': 4435, 'flat': 1641, 'sure': 4275, 'perfect': 3128, 'doubt': 1264, 'certain': 743, 'toast': 4475, 'chill': 793, 'instinctively': 2189, 'neither': 2878, 'worn': 4915, 'sex': 3782, 'pie': 3157, 'thanks': 4399, 'lying': 2608, 'floor': 1655, 'rise': 3535, 'shake': 3791, 'calmly': 667, 'crossroad': 1029, 'desire': 1162, 'screamed': 3699, 'teacher': 4361, 'dreamed': 1282, 'school': 3686, 'seen': 3739, 'looked': 2557, 'taken': 4329, 'surprise': 4282, 'whole': 4832, 'class': 835, 'breath': 563, 'stood': 4164, 'seventh': 3779, 'heaven': 2007, 'mad': 2614, 'lesson': 2468, 'alright': 151, 'trance': 4524, 'took': 4490, 'explain': 1492, 'law': 2425, 'sense': 3756, 'hug': 2111, 'needed': 2869, 'lean': 2442, 'natural': 2857, 'lonesome': 2550, 'reason': 3416, 'toy': 4515, 'throw': 4442, 'em': 1393, 'ooh': 2987, 'falling': 1534, 'quickly': 3342, 'pick': 3150, 'missing': 2760, 'part': 3082, 'ticket': 4453, 'drama': 1274, 'mm': 2775, 'owe': 3029, 'ready': 3405, 'state': 4132, 'confusion': 927, 'entered': 1429, 'existence': 1485, 'view': 4692, 'distance': 1225, 'name': 2848, 'changed': 754, 'protect': 3301, 'guilty': 1919, 'job': 2271, 'home': 2070, 'headed': 1985, 'smoke': 3987, 'rock': 3549, 'fast': 1556, 'top': 4493, 'stop': 4166, 'dollar': 1249, 'boogie': 510, 'hole': 2064, 'shoe': 3848, 'teeth': 4371, 'sock': 4006, 'patch': 3096, 'jean': 2249, 'clean': 838, 'momma': 2788, 'whose': 4837, 'alive': 138, 'drinking': 1297, 'wait': 4715, 'roof': 3570, 'bottle': 530, 'booze': 515, 'shouting': 3868, 'millionaire': 2743, 'hello': 2019, 'howard': 2107, 'doin': 1247, 'next': 2890, 'neighbour': 2876, 'yea': 4960, 'fuckin': 1755, 'jumbo': 2303, 'jet': 2259, 'repeat': 3469, 'x4': 4947, 'apple': 211, 'outta': 3017, 'sting': 4154, 'crime': 1019, 'pump': 3315, 'broken': 588, 'orleans': 3007, 'county': 980, 'farm': 1551, 'shackle': 3787, 'dog': 1243, 'woah': 4883, 'along': 147, 'suffer': 4237, 'across': 49, 'side': 3887, 'track': 4517, 'black': 450, 'hit': 2052, 'sack': 3613, 'glad': 1828, 'noose': 2915, 'kept': 2328, 'hanging': 1948, 'gettin': 1809, 'nine': 2901, 'cat': 717, 'cadillac': 651, 'bullet': 614, 'power': 3251, 'pack': 3036, 'bang': 328, 'gang': 1781, 'catch': 719, 'hang': 1946, 'beatin': 364, 'rap': 3382, 'makin': 2632, 'push': 3324, 'breakin': 560, 'shout': 3865, 'struggle': 4204, 'bite': 444, 'wreckin': 4936, 'ball': 322, 'knife': 2364, 'steal': 4140, 'screamin': 3700, 'murder': 2832, 'lock': 2532, 'double': 1262, 'dealin': 1113, 'trash': 4530, 'business': 633, 'flesh': 1646, 'blood': 478, 'rag': 3358, 'bone': 507, 'bad': 307, 'telephone': 4373, 'favor': 1563, 'sale': 3633, 'cannon': 677, 'goin': 1847, 'lovin': 2589, 'born': 523, 'preachin': 3261, 'saturday': 3663, 'rockin': 3552, 'rollin': 3563, 'drive': 1300, 'sit': 3932, 'row': 3582, 'soundtrack': 4044, 'knickers': 2363, 'scoial': 3689, 'seat': 3720, 'confidential': 925, 'rubber': 3585, 'cigarette': 822, 'protection': 3302, 'huggin': 2113, 'kissin': 2354, 'backseat': 303, 'social': 4004, 'fell': 1577, 'son': 4032, 'scared': 3679, 'everyone': 1464, 'bein': 392, 'till': 4466, 'knock': 2366, 'runnin': 3603, 'bound': 537, 'bangin': 329, 'work': 4910, 'unpack': 4647, 'bag': 314, 'drag': 1269, 'upon': 4655, 'overcoat': 3020, 'livin': 2520, 'rippin': 3533, 'ballbreaker': 323, 'engine': 1421, 'hog': 2059, 'attack': 262, 'buildin': 610, 'steam': 4142, 'whippin': 4816, 'cream': 1007, 'smokin': 3989, 'stack': 4106, 'hangin': 1947, 'leg': 2458, 'threw': 4437, 'began': 380, 'choke': 804, 'shoot': 3851, 'load': 2525, 'smiling': 3986, 'loving': 2590, 'expect': 1487, 'naive': 2846, 'cryin': 1043, 'wet': 4796, 'ear': 1344, 'beating': 365, 'wish': 4868, 'unkind': 4642, 'spent': 4072, 'talkin': 4335, 'brain': 547, 'loved': 2584, 'bee': 375, 'knee': 2360, 'meanest': 2685, 'known': 2376, 'eaten': 1359, 'cake': 656, 'chew': 787, 'spit': 4083, 'vein': 4679, 'cop': 954, 'gun': 1922, 'insane': 2181, 'arrest': 236, 'proof': 3299, 'bedlam': 372, 'belgium': 393, 'jumpin': 2307, 'ten': 4382, 'overtime': 3027, 'crack': 991, 'who': 4827, 'getting': 1810, 'stayed': 4136, 'stage': 4107, 'rage': 3359, 'yelled': 4969, 'war': 4738, 'drop': 1306, 'society': 4005, 'gift': 1814, 'fill': 1597, 'event': 1455, 'biggest': 429, 'guest': 1915, 'list': 2512, 'higher': 2042, 'great': 1883, 'dress': 1287, 'pleasure': 3204, 'belief': 394, 'seafood': 3710, 'toss': 4501, 'ice': 2136, 'bleeding': 462, 'watching': 4755, 'forty': 1709, 'callin': 663, 'rip': 3531, 'kick': 2331, 'crawl': 1002, 'jumping': 2308, 'jack': 2225, 'gritty': 1898, 'mule': 2830, 'living': 2521, 'borrowed': 525, 'shove': 3869, 'sign': 3896, 'au': 268, 'burnin': 627, 'set': 3773, 'burn': 625, 'firewater': 1620, 'john': 2274, 'kid': 2335, 'nowhere': 2930, 'watch': 4752, 'nothin': 2921, 'buck': 601, 'someday': 4022, 'itll': 2219, 'inhale': 2173, 'battle': 351, 'roar': 3543, 'tailor': 4327, 'order': 3006, 'doctor': 1240, 'cure': 1049, 'party': 3088, 'til': 4465, 'midnight': 2733, 'sippin': 3927, 'dancin': 1081, 'water': 4757, 'lad': 2385, 'thorn': 4429, 'jive': 2267, 'bit': 441, 'whine': 4814, 'picking': 3154, 'burning': 628, 'finer': 1608, 'paradise': 3068, 'juice': 2297, 'slip': 3967, 'neighborhood': 2875, 'move': 2817, 'confess': 923, 'cover': 987, 'oil': 2974, 'zip': 4994, 'lip': 2508, 'service': 3771, 'spray': 4095, 'headin': 1986, 'dime': 1198, 'abuse': 26, 'satisfied': 3661, 'kinda': 2345, 'strut': 4208, 'stranger': 4180, 'danger': 1083, 'ow': 3028, 'flashing': 1640, 'misunderstanding': 2771, 'broke': 587, 'drinkin': 1296, 'brandy': 552, 'thinkin': 4420, 'bout': 538, 'appreciate': 214, 'charm': 763, 'hypnotize': 2134, 'breathin': 566, 'heavy': 2009, 'shiver': 3845, 'soldier': 4013, 'fortune': 1708, 'fightin': 1592, 'cash': 712, 'mix': 2773, 'tide': 4457, 'risk': 3538, 'takin': 4330, 'boot': 513, 'shootin': 3852, 'missile': 2758, 'mercenary': 2712, 'firefight': 1616, 'fright': 1741, 'idle': 2142, 'broom': 591, 'physically': 3148, 'nose': 2919, 'spill': 4076, 'whiskey': 4819, 'cup': 1048, 'borderline': 519, 'spread': 4096, 'sea': 3709, 'dice': 1184, 'claim': 830, 'pocket': 3209, 'queen': 3336, 'ace': 40, 'divine': 1234, 'drip': 1298, 'sweat': 4297, 'body': 498, 'thatll': 4401, 'nerve': 2881, 'drown': 1309, 'earth': 1349, 'screaming': 3701, 'thirst': 4423, 'disguise': 1220, 'shot': 3859, 'drunk': 1315, 'stoned': 4162, 'lookin': 2559, 'tame': 4340, 'caged': 654, 'animal': 179, 'escape': 1441, 'fate': 1559, 'snake': 3993, 'bitch': 442, 'chest': 785, 'sweating': 4299, 'enraged': 1427, 'guitar': 1920, 'counted': 975, 'receive': 3419, 'dealer': 1112, 'hail': 1933, 'salute': 3641, 'front': 1745, 'bolt': 502, 'alight': 136, 'hire': 2049, 'aimed': 118, 'tent': 4388, 'furor': 1767, 'dust': 1327, 'wipe': 4861, 'main': 2626, 'lord': 2564, 'low': 2591, 'bringin': 583, 'bust': 634, 'kicked': 2332, 'messed': 2719, 'killin': 2340, 'frame': 1722, 'build': 609, 'knockin': 2368, 'bring': 582, 'moving': 2822, 'choir': 803, 'letting': 2472, 'gim': 1816, 'drug': 1312, 'sympathy': 4316, 'sooner': 4035, 'later': 2416, 'grip': 1897, 'spotlight': 4094, 'landslide': 2406, 'walkin': 4725, 'wearing': 4773, 'dynamite': 1337, 'lethal': 2470, 'brand': 551, 'degree': 1140, 'aching': 45, 'sore': 4037, 'freight': 1733, 'train': 4522, 'third': 4422, 'losin': 2572, 'sin': 3911, 'liquid': 2510, 'fighting': 1593, 'manner': 2645, 'clear': 841, 'monday': 2790, 'sunday': 4255, 'disappear': 1209, 'whip': 4815, 'loud': 2580, 'storm': 4170, 'howling': 2109, 'sinning': 3925, 'beer': 378, 'aim': 117, 'rocket': 3551, 'delight': 1141, 'sticking': 4150, 'ruby': 3587, 'lickin': 2481, 'weak': 4766, 'pray': 3254, 'mary': 2662, 'tip': 4471, 'ya': 4950, 'lovely': 2586, 'rub': 3584, 'sticky': 4151, 'pressure': 3270, 'whistle': 4824, 'packed': 3037, 'bye': 644, 'stirred': 4156, 'coffee': 882, 'spoon': 4092, 'favorite': 1564, 'skin': 3943, 'backed': 302, 'offer': 2955, 'pill': 3163, 'overdrive': 3022, 'victim': 4688, 'bedroom': 373, 'aiming': 119, 'woo': 4899, 'loaded': 2526, 'major': 2628, 'feelin': 1573, 'getcha': 1807, 'thunder': 4448, 'workin': 4912, 'rolled': 3561, 'babe': 297, 'electric': 1384, 'shock': 3846, 'harder': 1959, 'lightnin': 2494, 'rod': 3557, 'strike': 4193, 'nicotine': 2893, 'pipe': 3170, 'darn': 1093, 'elevator': 1387, 'oooh': 2997, 'coal': 868, 'motor': 2814, 'turning': 4587, 'tire': 4472, 'heatseeker': 2005, 'preserver': 3266, 'hose': 2099, 'siren': 3930, 'scream': 3698, 'measure': 2691, 'satisfaction': 3660, 'pours': 3248, 'lick': 2479, 'brings': 585, 'minute': 2750, 'disillusion': 1222, 'playin': 3194, 'tellin': 4376, 'demon': 1147, 'heavenly': 2008, 'apart': 199, 'clothes': 858, 'wear': 4771, 'hair': 1934, 'dig': 1194, 'plug': 3208, 'voltage': 4703, 'news': 2889, 'drum': 1313, 'pas': 3089, 'blowin': 485, 'rich': 3514, 'superstar': 4267, 'seven': 3777, 'itch': 2216, 'fifteen': 1588, 'learnin': 2447, 'pickin': 3153, 'club': 862, 'shakin': 3797, 'decibel': 1122, 'singer': 3915, 'nasty': 2855, 'mud': 2827, 'digger': 1195, 'kickin': 2333, 'tv': 4589, 'lightin': 2491, 'comin': 898, 'house': 2106, 'jazz': 2246, 'stripper': 4197, 'slap': 3952, 'tickler': 4455, 'growl': 1908, 'bitin': 445, 'givin': 1825, 'mercy': 2714, 'plead': 3197, 'scratch': 3695, 'inject': 2174, 'venom': 4682, 'stain': 4108, 'judge': 2295, 'jury': 2314, 'sixteen': 3940, 'spending': 4071, 'chain': 744, 'jailbreak': 2230, 'towards': 4512, 'liberty': 2477, 'fooled': 1680, 'flying': 1667, 'lyin': 2607, 'racin': 3350, 'chasin': 767, 'rifle': 3524, 'slipping': 3971, 'mama': 2636, 'slippin': 3970, 'shady': 3790, 'grows': 1910, 'barrel': 343, 'sacrifice': 3616, 'eating': 1361, 'sugar': 4241, 'volcano': 4702, 'reputation': 3477, 'healthy': 1992, 'appetite': 210, 'fuse': 1769, 'pour': 3245, 'slide': 3965, 'core': 958, 'mountain': 2815, 'lightning': 2495, 'tornado': 4498, 'warn': 4743, 'imagination': 2152, 'satan': 3657, 'upstairs': 4659, 'sister': 3931, 'nightmare': 2898, 'fair': 1524, 'shaker': 3794, 'breaker': 558, 'maker': 2630, 'scare': 3678, 'preacher': 3260, 'prayer': 3256, 'promised': 3298, 'allow': 141, 'rebel': 3417, 'sink': 3920, 'ship': 3842, 'aboard': 24, 'trip': 4549, 'rising': 3537, 'wire': 4863, 'tangled': 4342, 'screw': 3703, 'switch': 4313, 'ticking': 4454, 'bomb': 504, 'blowing': 486, 'box': 542, 'tasty': 4350, 'cruise': 1036, 'nah': 2844, 'conversation': 944, 'sensation': 3755, 'meal': 2683, 'eat': 1358, 'bon': 505, 'deeper': 1132, 'libido': 2478, 'climb': 847, 'hay': 1981, 'temperature': 4379, 'hotter': 2103, 'meltdown': 2703, 'stokin': 4157, 'la': 2381, 'cast': 713, 'amount': 168, 'display': 1223, 'hollywood': 2068, 'grade': 1866, 'gas': 1785, 'four': 1717, 'pool': 3226, 'pearl': 3114, 'fade': 1515, 'leader': 2437, 'wheres': 4811, 'saviour': 3670, 'prayin': 3257, 'clock': 852, 'rat': 3387, 'grave': 1879, 'yell': 4968, 'steel': 4143, 'prowler': 3308, 'asleep': 254, 'naked': 2847, 'tomb': 4484, 'mess': 2717, 'board': 493, 'noon': 2913, 'tried': 4547, 'caught': 724, 'fought': 1712, 'lust': 2605, 'restaurant': 3490, 'heading': 1987, 'tights': 4463, 'oohooh': 2990, 'river': 3540, 'yeahyeah': 4963, 'hoo': 2086, 'tall': 4337, 'grace': 1864, 'onto': 2985, 'knocking': 2369, 'security': 3724, 'tied': 4459, 'sneaking': 3996, 'ankle': 180, 'thigh': 4416, 'thrown': 4444, 'peace': 3111, 'layin': 2431, 'route': 3580, 'richard': 3515, 'jerry': 2256, 'lee': 2456, 'chuck': 816, 'tuesday': 4579, 'blown': 487, 'excuse': 1481, 'raise': 3372, 'dusk': 1326, 'torn': 4497, 'shred': 3877, 'shuffle': 3882, 'rate': 3388, 'commin': 903, 'sir': 3929, 'sexy': 3784, 'advice': 72, 'shaky': 3799, 'damnation': 1075, 'ma': 2610, 'choice': 802, 'respect': 3485, 'bended': 406, 'ease': 1352, 'puttin': 3329, 'practice': 3252, 'preach': 3259, 'bundle': 620, 'plate': 3189, 'tease': 4366, 'fare': 1549, 'dangerous': 1084, 'thee': 4403, 'fist': 1627, 'mouth': 2816, 'freak': 1725, 'cost': 965, 'sell': 3746, 'bleed': 461, 'oath': 2939, 'ruff': 3590, 'saint': 3630, 'sinner': 3924, 'rave': 3393, 'winner': 4858, 'suit': 4247, 'quake': 3333, 'grey': 1892, 'brake': 549, 'pin': 3166, 'asked': 251, 'backyard': 306, 'check': 776, 'spot': 4093, 'obscene': 2944, 'york': 4980, 'dive': 1231, 'suck': 4230, 'jam': 2232, 'solo': 4016, 'bean': 358, 'cage': 653, 'juvenile': 2318, 'kicking': 2334, 'as': 245, 'magazine': 2619, 'dick': 1185, 'chemistry': 782, 'grain': 1870, 'sane': 3649, 'grinnin': 1896, 'linen': 2503, 'funk': 1762, 'speed': 4067, 'ability': 22, 'important': 2156, 'race': 3349, 'fella': 1578, 'ooooh': 2999, 'wow': 4930, 'flame': 1634, 'layed': 2430, 'chip': 800, 'shoulder': 3862, 'buddy': 605, 'uh': 4606, 'woooooh': 4907, 'uhh': 4607, 'hall': 1937, 'climbin': 849, 'due': 1320, 'butt': 637, 'debt': 1118, 'gear': 1796, 'shell': 3826, 'naturally': 2858, 'pink': 3168, 'fashion': 1555, 'fever': 1583, 'wing': 4855, 'rule': 3593, 'rack': 3351, 'satisfy': 3662, 'dallas': 1070, 'poor': 3227, 'martini': 2661, 'yearning': 4965, 'ladder': 2387, 'beggar': 381, 'thief': 4415, 'jim': 2264, 'spin': 4078, 'wheel': 4808, 'cut': 1056, 'hows': 2110, 'paint': 3045, 'picture': 3156, 'hidin': 2039, 'watchin': 4754, 'rattle': 3390, 'escaping': 1442, 'footprint': 1686, 'sanctuary': 3646, 'haha': 1932, 'ey': 1504, 'schemer': 3684, 'score': 3691, 'gain': 1772, 'lead': 2436, 'garden': 1784, 'underneath': 4625, 'talked': 4334, 'couple': 982, 'laid': 2392, 'lap': 2409, 'dreaming': 1285, 'trap': 4528, 'tore': 4495, 'killing': 2341, 'hollow': 2067, 'pulled': 3313, 'flashed': 1638, 'aah': 19, 'blinded': 469, 'beam': 357, 'shattered': 3818, 'stunned': 4215, 'crash': 998, 'spinning': 4081, 'spellbound': 4069, 'tumbling': 4581, 'cmon': 866, 'sliding': 3966, 'slick': 3964, 'lately': 2415, 'singing': 3917, 'acting': 53, 'worrying': 4918, 'hurricane': 2124, 'month': 2796, 'ago': 93, 'stiff': 4152, 'romancing': 3567, 'hip': 2047, 'upper': 4656, 'howl': 2108, 'prowl': 3307, 'seek': 3733, 'reaction': 3402, 'furnace': 1766, 'blast': 457, 'system': 4321, 'tiger': 4460, 'searchin': 3716, 'maximum': 2674, 'overload': 3025, 'pole': 3216, 'attention': 264, 'candy': 675, 'ca': 646, 'split': 4087, 'selling': 3748, 'bass': 348, 'yonder': 4979, 'tongue': 4487, 'cheek': 778, 'personality': 3136, 'achin': 44, 'turnin': 4586, 'shelter': 3827, 'wired': 4864, 'bet': 417, 'mist': 2764, 'restless': 3491, 'whisper': 4821, 'monster': 2793, 'dim': 1197, 'velvet': 4680, 'glove': 1839, 'medium': 2693, 'giving': 1826, 'company': 906, 'cutting': 1058, 'draw': 1276, 'picked': 3151, 'prize': 3288, 'brought': 594, 'tail': 4326, 'doubled': 1263, 'rail': 3363, 'fooling': 1682, 'stray': 4184, 'drivin': 1304, 'twice': 4594, 'overflow': 3024, 'resistance': 3483, 'stereo': 4148, 'digging': 1196, 'messing': 2721, 'calling': 664, 'command': 901, 'demand': 1144, 'deck': 1126, 'erase': 1440, 'riding': 3522, 'apartment': 200, 'finest': 1609, 'avenue': 274, 'railroad': 3364, 'engineer': 1422, 'wishing': 4872, 'casey': 711, 'jones': 2285, 'wideeyed': 4841, 'superman': 4264, 'clark': 833, 'lois': 2542, 'lane': 2407, 'suicide': 4246, 'thatd': 4400, 'fingerprint': 1611, 'mystery': 2841, 'clue': 863, 'hitting': 2054, 'guaranteed': 1912, 'movin': 2821, 'bloody': 480, 'jamaica': 2233, 'hatch': 1970, 'ye': 4959, 'mac': 2612, 'exactly': 1475, 'nineteen': 2902, 'lotta': 2578, 'rosie': 3576, 'sail': 3625, 'starlight': 4124, 'blaze': 458, 'witch': 4874, 'flight': 1648, 'spell': 4068, 'shark': 3815, 'crystal': 1044, 'almanac': 144, 'american': 164, 'already': 150, 'shaking': 3798, 'shook': 3850, 'course': 984, 'swing': 4310, 'knocked': 2367, 'cain': 655, 'able': 23, 'lighting': 2492, 'created': 1009, 'bitter': 446, 'fruit': 1750, 'opened': 3003, 'ate': 258, 'lordy': 2566, 'knowin': 2373, 'eve': 1451, 'eden': 1369, 'deceiving': 1120, 'showed': 3873, 'stopped': 4167, 'believer': 397, 'climbed': 848, 'tryin': 4571, 'sick': 3885, 'wishin': 4871, 'amazing': 159, 'blink': 472, 'arrives': 239, 'sayin': 3673, 'permanent': 3133, 'journey': 2290, 'survive': 4288, 'scratchin': 3696, 'suffered': 4238, 'loneliness': 2547, 'sleepin': 3958, 'blew': 467, 'wonderin': 4893, 'butterfly': 640, 'attitude': 266, 'adjustment': 63, 'jail': 2229, 'nail': 2845, 'spoke': 4090, 'pardon': 3075, 'avant': 273, 'collide': 888, 'denied': 1149, 'seeming': 3737, 'believing': 398, 'hearted': 2002, 'beware': 424, 'wise': 4866, 'cherry': 784, 'log': 2540, 'leavin': 2453, 'dyin': 1335, 'ridin': 3521, 'ole': 2981, 'saloon': 3636, 'wink': 4856, 'loading': 2527, 'pistol': 3174, 'keeper': 2324, 'loser': 2571, 'weep': 4782, 'none': 2911, 'served': 3770, 'fuck': 1752, 'hallelujah': 1938, 'mail': 2625, 'glass': 1832, 'hound': 2104, 'chase': 765, 'chasing': 768, 'woke': 4886, 'saving': 3668, 'candle': 673, 'seashore': 3718, 'wax': 4764, 'museum': 2835, 'session': 3772, 'upset': 4657, 'base': 346, 'bowl': 541, 'eight': 1379, 'roller': 3562, 'hee': 2011, 'can': 671, 'pant': 3062, 'bay': 352, 'boardwalk': 494, 'underground': 4624, 'coney': 922, 'island': 2211, 'fish': 1624, 'comb': 894, 'jewel': 2260, 'shed': 3820, 'dreamin': 1284, 'holy': 2069, 'moses': 2807, 'slippery': 3969, 'fridge': 1738, 'ridge': 3520, 'jump': 2304, 'height': 2015, 'closer': 856, 'death': 1116, 'perfume': 3131, 'swear': 4295, 'ol': 2978, 'joo': 2287, 'eyeball': 1506, 'joker': 2280, 'football': 1685, 'cocacola': 872, 'production': 3293, 'walrus': 4728, 'cracker': 993, 'disease': 1218, 'coaster': 870, 'warning': 4744, 'muddy': 2828, 'mojo': 2784, 'filter': 1601, 'leaving': 2454, 'thirty': 4425, 'slave': 3955, 'sends': 3753, 'color': 890, 'wearin': 4772, 'coat': 871, 'shade': 3788, 'sorry': 4039, 'untrue': 4653, 'prove': 3304, 'foolish': 1683, 'thered': 4407, 'foolin': 1681, 'hate': 1972, 'loss': 2574, 'leap': 2444, 'guide': 1916, 'forgiven': 1699, 'brown': 596, 'lag': 2391, 'deuce': 1176, 'beggin': 383, 'bread': 555, 'moral': 2802, 'testify': 4394, 'book': 511, 'written': 4943, 'laughter': 2423, 'drippin': 1299, 'record': 3426, 'anyway': 197, 'paddy': 3040, 'emho': 1399, 'woody': 4903, 'girlfriend': 1819, 'heh': 2014, 'hooker': 2090, 'booty': 514, 'crackin': 994, 'floozy': 1656, 'jelly': 2251, 'keyhole': 2330, 'dash': 1095, 'french': 1734, 'shinin': 3838, 'rainin': 3369, 'eyesight': 1508, 'deaf': 1110, 'friday': 1737, 'lift': 2487, 'declare': 1127, 'whoo': 4834, 'el': 1382, 'agrees': 98, 'block': 476, 'transistor': 4526, 'jonesin': 2286, 'guarantee': 1911, 'minor': 2748, 'hypnotic': 2133, 'tighter': 4462, 'leash': 2449, 'letter': 2471, 'energetics': 1418, 'anytime': 196, 'trail': 4521, 'camera': 669, 'believed': 396, 'terror': 4390, 'peculiar': 3118, 'appealing': 206, 'affected': 77, 'rejected': 3446, 'dreamer': 1283, 'leather': 2451, 'winter': 4860, 'hush': 2131, 'depends': 1153, 'country': 978, 'getchoo': 1808, 'vous': 4707, 'plait': 3180, 'theyll': 4410, 'twenty': 4592, 'sidewalk': 3888, 'wondered': 4891, 'lingers': 2505, 'grin': 1894, 'fit': 1628, 'burned': 626, 'rose': 3575, 'fixed': 1631, 'treasure': 4537, 'sweetest': 4303, 'wondering': 4894, 'ragtime': 3362, 'whore': 4836, 'poe': 3210, 'eatin': 1360, 'crow': 1030, 'knowed': 2372, 'passed': 3091, 'laughing': 2422, 'moan': 2779, 'jesus': 2258, 'stormy': 4171, 'pony': 3225, 'hardly': 1961, 'joanie': 2270, 'grew': 1891, 'realized': 3410, 'nature': 2859, 'rocking': 3553, 'bent': 410, 'bare': 335, 'rode': 3558, 'flew': 1647, 'arrow': 241, 'tempted': 4381, 'horn': 2096, 'flavor': 1642, 'zone': 4996, 'damned': 1076, 'putting': 3330, 'dis': 1207, 'trade': 4518, 'coo': 946, 'hah': 1931, 'instead': 2188, 'growin': 1906, 'neat': 2864, 'pimp': 3165, 'wack': 4710, 'dj': 1238, 'watched': 4753, 'led': 2455, 'vain': 4673, 'tick': 4452, 'fix': 1630, 'neath': 2865, 'changin': 755, 'reminisce': 3463, 'cousin': 986, 'swingin': 4311, 'flyin': 1666, 'singin': 3916, 'kitty': 2359, 'sweetie': 4305, 'skirt': 3946, 'locker': 2535, 'noticed': 2925, 'somethin': 4026, 'neighbor': 2874, 'daughter': 1098, 'tenderness': 4384, 'promise': 3297, 'dreamt': 1286, 'legendary': 2459, 'traded': 4519, 'whoaohoh': 4829, 'knowing': 2374, 'rearrange': 3414, 'nickel': 2892, 'plant': 3187, 'proved': 3305, 'sold': 4012, 'jane': 2237, 'golden': 1850, 'tokin': 4480, 'sphere': 4073, 'lordie': 2565, 'flashin': 1639, 'perfectly': 3130, 'bait': 319, 'hook': 2089, 'although': 154, 'wit': 4873, 'slack': 3949, 'karma': 2321, 'shit': 3844, 'fucking': 1756, 'generation': 1800, 'patience': 3098, 'boom': 512, 'mr': 2823, 'david': 1099, 'eah': 1343, 'thin': 4417, 'skinny': 3944, 'buttered': 639, 'seeeah': 3730, 'whatcha': 4802, 'popcorn': 3230, 'cheese': 780, 'meeah': 2694, 'uuumm': 4670, 'wizard': 4881, 'tilt': 4467, 'plague': 3177, 'counting': 977, 'junior': 2311, 'bull': 613, 'yous': 4986, 'fallin': 1533, 'shu': 3881, 'bop': 516, 'doo': 1254, 'situation': 3938, 'hung': 2119, 'seam': 3713, 'execution': 1482, 'pus': 3323, 'died': 1190, '11': 3, 'pity': 3175, 'johnny': 2275, 'scar': 3677, 'trial': 4545, 'needle': 2871, 'flamingo': 1635, 'backstage': 304, 'police': 3217, 'justice': 2315, 'junkie': 2313, 'keepin': 2325, 'store': 4169, 'boil': 499, 'tea': 4359, 'tasteless': 4349, 'oasis': 2938, 'shinning': 3840, 'mornin': 2804, 'ram': 3375, 'againuh': 89, 'dinner': 1202, 'locked': 2534, 'hadnt': 1930, 'shy': 3884, 'champ': 750, 'un': 4615, 'sly': 3975, 'stall': 4114, 'liquor': 2511, 'yaya': 4958, 'lookie': 2558, 'cookie': 948, 'montego': 2794, 'limit': 2499, 'st': 4104, 'tropez': 4553, 'tan': 4341, 'baggage': 315, 'firm': 1622, 'obsession': 2947, 'discover': 1216, 'bing': 436, 'kite': 2357, 'lingo': 2506, 'umbrella': 4613, 'kink': 2350, 'wrap': 4931, 'sheet': 3824, 'gentleman': 1803, 'elephant': 1386, 'runner': 3602, 'green': 1887, 'wedding': 4777, 'joes': 2273, 'beep': 377, 'cooler': 953, 'aggravation': 91, 'cocaine': 873, 'lawyer': 2428, 'undone': 4632, 'direction': 1204, 'sleepy': 3960, 'thousand': 4432, 'drawn': 1279, 'season': 3719, 'wither': 4876, 'holdin': 2062, 'woe': 4884, 'badly': 312, 'sadly': 3621, 'firefly': 1617, 'nitty': 2905, 'stayin': 4137, 'responsibility': 3487, 'fired': 1615, 'sedona': 3725, 'occasion': 2950, 'depth': 1156, 'shakey': 3796, 'havent': 1978, 'huh': 2114, 'yeeeaaa': 4967, 'yeeaah': 4966, 'standin': 4117, 'shut': 3883, 'weight': 4786, 'lend': 2464, 'define': 1139, 'funky': 1764, 'paved': 3103, 'shape': 3808, 'circumstance': 824, 'jill': 2263, 'loo': 2555, 'mend': 2708, 'choosy': 808, 'misery': 2755, 'explode': 1495, 'information': 2172, 'comic': 897, 'mass': 2667, 'appeal': 205, 'unreal': 4649, 'lived': 2519, 'mustve': 2839, 'liar': 2475, 'lied': 2484, 'rabbit': 3348, 'followed': 1673, 'wonderland': 4895, 'mushroom': 2836, 'danced': 1079, 'sunshine': 4262, 'adore': 68, 'oak': 2937, 'tryna': 4573, 'plea': 3196, 'india': 2163, 'gotten': 1859, 'bliss': 474, 'concubine': 920, '103': 2, 'false': 1535, 'alarm': 129, 'grind': 1895, 'crossing': 1027, 'ha': 1928, 'regret': 3444, 'circle': 823, 'infinite': 2168, 'decide': 1123, 'chorus': 810, 'refuse': 3440, 'uncle': 4620, 'et': 1445, 'tu': 4575, 'feather': 1568, 'england': 1423, 'sam': 3643, 'billy': 434, 'radiation': 3353, 'lucy': 2597, 'jealousy': 2248, 'phone': 3145, 'quick': 3341, 'cap': 682, 'pissed': 3173, 'darlin': 1091, 'dictionary': 1186, 'scuse': 3708, 'position': 3235, 'missionary': 2762, 'boo': 509, 'yah': 4952, 'peach': 3113, 'cook': 947, 'kitchen': 2356, 'almost': 145, 'separate': 3759, 'piss': 3172, 'rug': 3591, 'charged': 760, 'quarter': 3334, 'lid': 2482, 'oughta': 3011, 'tube': 4576, 'sideways': 3891, 'phase': 3142, 'asks': 253, 'write': 4940, 'merry': 2715, 'awful': 280, 'silence': 3899, 'eurydice': 1449, 'frozen': 1749, 'highway': 2044, 'listened': 2514, 'failing': 1522, 'ruin': 3592, 'private': 3287, 'prison': 3285, 'trust': 4566, 'hiding': 2040, 'interest': 2195, 'century': 741, 'barely': 338, 'fading': 1518, 'screen': 3702, 'pretending': 3272, 'suburb': 4225, 'bow': 540, 'flashbulb': 1637, 'gate': 1788, 'root': 3572, 'satellite': 3658, 'modern': 2783, 'aside': 249, 'chosen': 812, 'wasted': 4749, 'older': 2980, 'tuck': 4577, 'formed': 1705, 'ambient': 160, 'carpet': 702, 'basement': 347, 'innocent': 2180, 'spoken': 4091, 'shedding': 3821, 'trumpet': 4564, 'either': 1381, 'quit': 3346, 'bury': 631, 'silicon': 3903, 'melted': 2704, 'settled': 3776, 'wrote': 4945, 'wilderness': 4846, 'pure': 3320, 'arrive': 237, 'patient': 3099, 'mister': 2767, 'fanny': 1543, 'carmen': 699, 'luke': 2598, 'waitin': 4718, 'anna': 182, 'fog': 1670, 'sinkin': 3921, 'sent': 3757, 'replaced': 3473, 'shall': 3802, 'released': 3450, 'swears': 4296, 'framed': 1723, 'bank': 330, 'mississippi': 2763, 'gambler': 1776, 'return': 3496, 'evangeline': 1450, 'curse': 1051, 'gamblin': 1777, 'hickory': 2035, 'boat': 495, 'serf': 3764, 'rolling': 3564, 'notify': 2926, 'kin': 2343, 'sailor': 3629, 'knot': 2370, 'case': 710, 'rumor': 3597, 'invite': 2204, 'acomin': 48, 'privacy': 3286, 'refused': 3441, 'whether': 4813, 'thisa': 4427, 'wastin': 4750, 'marry': 2660, 'strawberry': 4183, 'laughin': 2421, 'tasted': 4348, 'ought': 3010, 'mmmm': 2777, 'winding': 4851, 'finding': 1606, 'search': 3714, 'returning': 3498, 'jude': 2294, 'colder': 885, 'movement': 2819, 'nananana': 2852, 'field': 1587, 'closed': 854, 'disagree': 1208, 'asking': 252, 'notice': 2924, 'stared': 4121, 'theyd': 4409, 'film': 1600, 'english': 1424, 'army': 233, 'dragged': 1270, 'drank': 1275, 'grabbed': 1863, 'hat': 1969, 'bus': 632, 'belonged': 403, 'jo': 2269, 'loner': 2549, 'arizona': 227, 'california': 658, 'grass': 1877, 'loretta': 2567, 'neck': 2867, 'sweater': 4298, 'windy': 4853, 'washed': 4746, 'yesterday': 4972, 'hurtin': 2127, 'apologize': 203, 'weeps': 4784, 'controlled': 943, 'learning': 2448, 'paper': 3066, 'dreadful': 1280, 'ussr': 4667, 'gee': 1797, 'wooh': 4904, 'da': 1064, 'georgia': 1805, 'ringing': 3528, 'sailed': 3626, 'submarine': 4221, 'wave': 4761, 'yellow': 4970, 'sergeant': 3765, 'cable': 649, 'ayeaye': 287, 'captain': 686, 'pig': 3160, 'corn': 959, 'stupid': 4216, 'egg': 1374, 'goo': 1853, 'gjoob': 1827, 'policeman': 3218, 'choking': 805, 'ho': 2057, 'sty': 4217, 'climbing': 850, 'tower': 4513, 'joob': 2288, 'jooba': 2289, 'umpa': 4614, 'jumper': 2306, 'villain': 4693, 'earl': 1345, 'father': 1560, 'ohahohah': 2960, 'symphony': 4317, 'withered': 4877, 'dried': 1290, 'flood': 1653, 'thirsty': 4424, 'lower': 2592, 'ahohahohah': 114, 'ohahohahohah': 2961, 'ou': 3009, 'secret': 3722, 'science': 3687, 'figure': 1594, 'pulling': 3314, 'puzzle': 3331, 'progress': 3296, 'haunt': 1976, 'rush': 3605, 'succeed': 4228, 'replace': 3472, 'worse': 4919, 'ignite': 2143, 'equal': 1435, 'ohoh': 2969, 'saved': 3667, 'swim': 4308, 'named': 2849, 'closing': 857, 'cursed': 1052, 'compare': 907, 'ohhh': 2964, 'fixing': 1632, 'hoping': 2094, 'canvas': 680, 'orange': 3005, 'form': 1704, 'soaring': 4003, 'poison': 3213, 'ohohohohoh': 2971, 'gutter': 1925, 'ocean': 2952, 'ohh': 2963, 'heal': 1990, 'forest': 1694, 'seed': 3729, 'gravity': 1881, 'planet': 3183, 'seize': 3740, 'idea': 2139, 'design': 1161, 'building': 611, 'china': 798, 'lit': 2516, 'invent': 2202, 'lion': 2507, 'owns': 3031, 'homemade': 2072, 'cuckoo': 1046, 'march': 2651, 'ticktock': 4456, 'longer': 2552, 'revolution': 3504, 'flag': 1633, 'anthem': 188, 'oohoh': 2989, 'silver': 3906, 'bloom': 481, 'sailing': 3628, 'raised': 3373, 'slept': 3963, 'fed': 1569, 'finished': 1613, 'happiness': 1955, 'enjoy': 1425, 'general': 1799, 'gathered': 1790, 'plot': 3206, 'destruction': 1173, 'hatred': 1973, 'mankind': 2644, 'brainwashed': 548, 'politician': 3220, 'role': 3559, 'treating': 4540, 'ash': 246, 'crawling': 1005, 'iron': 2208, 'traveled': 4532, 'planning': 3186, 'vengeance': 4681, 'revenge': 3503, 'bear': 359, 'seal': 3711, 'stronger': 4202, 'lucifer': 2594, 'introduced': 2199, 'wanting': 4737, 'freeze': 1731, 'freezing': 1732, 'join': 2276, 'vietnam': 4691, 'napalm': 2853, 'colour': 892, 'leisure': 2460, 'acid': 46, 'caused': 726, 'deadly': 1109, 'heave': 2006, 'dish': 1221, 'ran': 3379, 'crossed': 1026, 'plastic': 3188, 'rainbow': 3367, 'religion': 3453, 'writing': 4942, 'reflect': 3435, 'shimmer': 3835, 'hears': 1997, 'wander': 4731, 'southern': 4050, 'gather': 1789, 'horizon': 2095, 'accept': 32, 'wandered': 4732, 'thru': 4445, 'innocence': 2179, 'everyday': 1463, 'hardest': 1960, 'rider': 3519, 'caring': 698, 'lullaby': 2599, 'flowing': 1661, 'sunny': 4259, 'carolina': 700, 'week': 4780, 'faster': 1557, 'sally': 3634, 'meanwhile': 2690, 'pouring': 3247, 'gypsy': 1927, 'subway': 4227, 'happen': 1950, 'wednesday': 4778, 'thursday': 4450, 'eagle': 1342, 'church': 818, 'kneel': 2361, 'er': 1438, 'treatment': 4541, 'bettin': 423, 'wondrin': 4896, 'sat': 3656, 'therell': 4408, 'fault': 1562, 'perhaps': 3132, 'web': 4775, 'leanin': 2443, 'confused': 926, 'failure': 1523, 'savior': 3669, 'christmas': 815, 'buzzard': 643, 'toll': 4482, 'straighten': 4175, 'papa': 3063, 'diving': 1235, 'release': 3449, 'touching': 4507, 'accenttchuate': 31, 'positive': 3236, 'eliminate': 1388, 'negative': 2873, 'latch': 2413, 'affirmative': 79, 'inbetween': 2157, 'pandemonium': 3056, 'liable': 2474, 'remark': 3458, 'jonah': 2284, 'whale': 4800, 'noah': 2906, 'ark': 228, 'accent': 30, 'starry': 4126, 'fence': 1582, 'evenin': 1453, 'cottonwood': 967, 'western': 4795, 'cayuse': 731, 'commences': 902, 'gaze': 1794, 'sens': 3754, 'population': 3231, 'educated': 1371, 'savage': 3665, 'holler': 2066, 'bongo': 508, 'landlord': 2404, 'taxi': 4357, 'shotgun': 3860, 'atom': 260, 'embrace': 1397, 'aware': 278, 'choo': 806, 'foo': 1677, 'solid': 4014, 'fodododeyacka': 1669, 'saki': 3632, 'food': 1678, 'shrimp': 3878, 'rice': 3513, 'oyster': 3032, 'butter': 638, 'de': 1107, 'yacka': 4951, 'sacki': 3614, 'dya': 1333, 'ladada': 2386, 'shrimper': 3879, 'joe': 2272, 'wash': 4745, 'jingle': 2266, 'sleigh': 3962, 'pennsylvania': 3124, 'polka': 3221, 'partner': 3087, 'entertain': 1430, 'carefree': 692, 'gay': 1793, 'brazil': 554, 'anyone': 194, 'mention': 2710, 'yankee': 4956, 'ay': 285, 'necessary': 2866, 'meaning': 2686, 'anyhow': 192, 'fame': 1536, 'fact': 1513, 'strolling': 4200, 'sighing': 3894, 'vow': 4708, 'aknocking': 126, 'nevermore': 2886, 'presence': 3264, 'invitation': 2203, 'treated': 4539, 'lulu': 2600, 'london': 2545, 'bridge': 576, 'shelf': 3825, 'dad': 1065, 'dough': 1265, 'master': 2668, 'afford': 80, 'spare': 4057, 'diner': 1201, 'tennessee': 4385, 'shovel': 3870, 'satin': 3659, 'roam': 3542, 'harlem': 1962, 'smack': 3976, 'date': 1096, 'sewed': 3781, 'suitcase': 4248, 'trunk': 4565, 'adyin': 73, 'slavin': 3956, 'ahh': 109, 'laughed': 2420, 'buried': 624, 'played': 3192, 'monterey': 2795, 'airplane': 122, 'prince': 3281, 'moved': 2818, 'joint': 2278, 'twelve': 4590, 'oclock': 2953, 'sandoz': 3648, 'walker': 4724, 'fourteen': 1718, 'married': 2659, 'sunlight': 4258, 'gentle': 1802, 'vibration': 4686, 'excitation': 1479, 'oom': 2995, 'softly': 4009, 'blossom': 483, 'hoist': 2060, 'mainsail': 2627, 'mate': 2670, 'sheriff': 3828, 'worst': 4921, 'aruba': 243, 'bermuda': 411, 'bahama': 317, 'largo': 2411, 'kokomo': 2378, 'afternoon': 88, 'moonlit': 2801, 'contact': 936, 'glimpse': 1833, 'reelin': 3433, 'barbara': 333, 'ann': 181, 'babababarbara': 294, 'bababababarbara': 293, 'sue': 4236, 'lou': 2579, 'often': 2958, 'soften': 4008, 'surfer': 4279, 'shore': 3856, 'surf': 4277, 'scheming': 3685, 'automatic': 271, 'weather': 4774, 'whenever': 4809, 'spanish': 4055, 'indian': 2164, 'eventually': 1456, 'margarita': 2653, 'spun': 4100, 'warmth': 4742, 'wealthy': 4769, 'five': 1629, 'coupe': 981, 'braggin': 545, 'mill': 2740, 'bored': 520, 'hundred': 2118, 'competition': 909, 'clutch': 865, 'kitten': 2358, 'flip': 1649, 'floating': 1652, 'raging': 3361, 'energeticd': 1416, 'mom': 2786, 'bride': 575, 'honda': 2076, 'shop': 3854, 'ragged': 3360, 'groovy': 1902, 'built': 612, 'brass': 553, 'finish': 1612, 'mca': 2680, 'adrock': 69, 'charlie': 762, 'offered': 2956, 'wherever': 4812, 'mike': 2737, 'castle': 715, 'brooklyn': 590, 'dwell': 1331, 'def': 1135, 'yall': 4955, 'crew': 1016, 'reached': 3399, 'mixed': 2774, 'yo': 4977, 'sip': 3926, 'wore': 4909, 'gulp': 1921, '40': 10, 'beef': 376, 'intergalactic': 2196, 'planetary': 3184, 'dial': 1182, 'denial': 1148, 'team': 4362, 'sour': 4046, 'scheme': 3683, 'sunbeam': 4254, 'theme': 4404, 'envy': 1432, 'routine': 3581, 'family': 1538, 'hiphop': 2048, 'relax': 3448, 'also': 152, 'beastie': 362, 'graffiti': 1868, 'soup': 4045, 'chop': 809, 'lumberjack': 2601, 'stir': 4155, 'fry': 1751, 'pop': 3229, 'super': 4263, 'smarter': 3979, 'agree': 97, 'homework': 2074, 'jerk': 2255, 'busted': 635, 'aw': 276, 'correct': 962, 'jammy': 2236, 'trigger': 4548, 'sucker': 4232, 'dozen': 1268, 'zu': 4999, 'dropped': 1307, 'drawer': 1277, 'begged': 382, 'fresh': 1735, 'james': 2235, 'charge': 759, 'adam': 58, 'large': 2410, 'cutie': 1057, 'messin': 2720, 'listening': 2515, 'brew': 572, 'decision': 1125, 'border': 518, 'bat': 350, 'six': 3939, 'bumping': 618, 'girlies': 1821, 'dude': 1319, 'staring': 4123, 'piano': 3149, 'player': 3193, 'tax': 4356, 'perfection': 3129, 'mc': 2679, 'lifted': 2488, 'ego': 1376, 'motherfucking': 2812, 'self': 3741, 'nada': 2843, 'bboy': 354, 'girlie': 1820, 'cab': 647, 'driver': 1302, 'probably': 3289, 'bum': 616, 'crafty': 996, 'crib': 1017, 'groove': 1900, 'figured': 1595, 'cord': 957, 'robbed': 3545, 'owned': 3030, 'blamed': 454, 'bringing': 584, 'groovin': 1901, 'section': 3723, 'involved': 2206, 'motion': 2813, 'lotion': 2577, 'maam': 2611, 'grab': 1862, 'mic': 2728, 'goddamn': 1845, 'me': 2682, 'tin': 4470, 'september': 3761, 'touched': 4506, 'december': 1121, 'deny': 1150, 'radio': 3354, 'trueoohooh': 4562, 'sittin': 3936, 'woh': 4885, 'helped': 2021, 'chaos': 757, 'swept': 4306, 'nightime': 2896, 'glance': 1830, 'eh': 1378, 'worthwhile': 4923, 'stroke': 4198, 'noel': 2909, 'lazy': 2434, 'witness': 4880, 'barking': 341, 'ahow': 115, 'lack': 2384, 'whatevers': 4804, 'recall': 3418, 'troubled': 4555, 'truly': 4563, 'resign': 3480, 'deserve': 1160, 'drain': 1273, 'starting': 4130, 'planned': 3185, 'relief': 3451, 'person': 3134, 'depression': 1155, 'couch': 968, 'dedicated': 1128, 'fucked': 1753, 'boyfriend': 544, 'henry': 2025, 'screwed': 3704, 'pavement': 3104, 'minority': 2749, 'possibility': 3239, 'swinging': 4312, 'forth': 1706, 'nervous': 2882, 'breakdown': 557, 'berserk': 414, 'problem': 3290, 'solved': 4019, 'damaged': 1072, 'attempt': 263, 'ache': 42, 'desperation': 1166, 'wound': 4928, 'sunk': 4257, 'sucked': 4231, 'robot': 3548, 'swore': 4315, 'jumped': 2305, 'mucho': 2826, 'mistrust': 2768, 'pleasing': 3203, 'using': 4666, 'coulda': 971, 'cruising': 1037, 'evry': 1473, 'hypnotized': 2135, 'stepping': 4147, 'lightly': 2493, 'rapture': 3384, 'sacroiliac': 3618, 'twentyfour': 4593, 'weekend': 4781, 'mood': 2798, 'uptight': 4660, 'becomes': 370, 'nighttime': 2900, 'radiate': 3352, 'hidden': 2037, 'dusty': 1328, 'needing': 2870, 'remain': 3456, 'note': 2920, 'echoing': 1366, 'facet': 1511, 'accompli': 36, 'doom': 1256, 'destiny': 1169, 'cape': 684, 'trench': 4544, 'target': 4345, 'inch': 2158, 'reaper': 3413, 'youth': 4987, 'uhhuh': 4609, 'teenage': 4370, 'ok': 2976, 'cookin': 949, 'jokin': 2281, 'everyones': 1465, 'clap': 832, 'paying': 3108, 'indecision': 2161, 'boston': 527, 'worried': 4916, 'missin': 2759, 'younger': 4984, 'compromise': 914, 'arrivin': 240, 'farther': 1554, 'unfair': 4633, 'cantcha': 679, 'rude': 3588, 'strength': 4189, 'gray': 1882, 'unbound': 4617, 'tambourine': 4339, 'followin': 1674, 'stripped': 4196, 'numb': 2932, 'parade': 3067, 'swift': 4307, 'froze': 1748, 'oohwee': 2994, 'ohho': 2965, 'substitute': 4223, 'strap': 4182, 'ducked': 1318, 'doorway': 1260, 'crashing': 1001, 'chime': 796, 'gazed': 1795, 'faroff': 1553, 'splattered': 4086, 'lifting': 2489, 'drifting': 1293, 'speechless': 4066, 'seeking': 3734, 'saucer': 3664, 'shaped': 3809, 'spaceman': 4053, 'weird': 4787, 'beard': 360, 'toothpaste': 4492, 'rope': 3574, 'edge': 1370, 'filled': 1598, 'canyon': 681, 'ghost': 1811, 'bottom': 531, 'crumble': 1038, 'surrounding': 4286, 'quiet': 3344, 'universe': 4641, 'madness': 2617, 'ended': 1408, 'familiar': 1537, 'capture': 687, 'drowned': 1310, 'senator': 3750, 'heed': 2012, 'achangin': 41, 'throughout': 4441, 'criticize': 1023, 'cared': 691, 'grail': 1869, 'deed': 1130, 'crooked': 1024, 'code': 880, 'tank': 4343, 'explodes': 1496, 'brightest': 580, 'fore': 1691, 'mo': 2778, 'vision': 4699, 'faded': 1516, 'showing': 3875, 'human': 2115, 'simplified': 3909, 'justified': 2316, 'shockin': 3847, 'foul': 1713, 'irvine': 2210, 'sending': 3752, 'chemical': 781, 'aight': 116, 'synthetic': 4319, 'alpha': 149, 'beta': 418, 'psychedelic': 3309, 'funkin': 1763, 'supposed': 4272, 'path': 3097, 'mysterious': 2840, 'graveyard': 1880, 'cosmic': 964, 'hmm': 2055, 'paralyzed': 3070, 'force': 1688, 'glowing': 1841, 'lava': 2424, 'gained': 1773, 'press': 3268, 'trembling': 4543, 'womb': 4889, 'x5': 4948, 'rely': 3455, 'electrify': 1385, 'connect': 929, 'blade': 452, 'art': 242, 'nation': 2856, 'influence': 2171, 'holiday': 2065, 'understood': 4629, 'fourth': 1719, 'july': 2302, 'easier': 1353, 'addicted': 60, 'habit': 1929, 'inspiration': 2185, 'reward': 3507, 'pass': 3090, 'mostly': 2808, 'silent': 3900, 'tender': 4383, 'lifetime': 2486, 'exist': 1484, 'appears': 209, 'unhappy': 4636, 'defense': 1138, 'january': 2241, 'despair': 1164, 'misunderstand': 2770, 'friendly': 1740, 'unless': 4645, 'fallen': 1532, 'blessing': 466, 'wouldve': 4927, 'faithful': 1528, 'contradiction': 941, 'resisting': 3484, 'desert': 1158, 'sharif': 3812, 'casbah': 709, 'prophet': 3300, 'thumb': 4446, 'cleared': 842, 'wail': 4713, 'andalucâ': 172, 'site': 3934, '39': 9, 'cemetery': 737, 'civil': 828, 'costa': 966, 'rica': 3512, 'dc': 1106, '10': 0, 'te': 4358, 'quiero': 3343, 'infinito': 2169, 'mi': 2726, 'corazâ': 956, 'disco': 1215, 'sang': 3650, 'irish': 2207, 'shatter': 3817, 'bud': 604, 'program': 3295, 'album': 131, 'caller': 662, 'supermarket': 4265, 'papasan': 3065, 'mammasan': 2638, 'usa': 4662, 'international': 2197, 'cough': 969, 'frontier': 1746, 'vote': 4706, 'wolf': 4887, 'palais': 3051, 'government': 1860, 'fury': 1768, 'anger': 177, 'factory': 1514, 'clampdown': 831, 'knuckle': 2377, 'banker': 331, 'churning': 820, 'hong': 2082, 'cent': 738, 'pound': 3243, 'penny': 3125, 'profit': 3294, 'lunch': 2603, 'entertainment': 1431, 'snap': 3994, 'landing': 2403, 'italian': 2215, 'zooming': 4998, 'wheat': 4807, 'nuclear': 2931, 'era': 1439, 'drowning': 1311, 'alike': 137, 'riot': 3530, 'throwing': 4443, 'brick': 574, 'teach': 4360, 'thick': 4413, 'chicken': 790, 'robber': 3546, 'laying': 2432, 'earn': 1347, 'ammunition': 165, 'smart': 3978, 'complete': 911, 'tour': 4509, 'signed': 3898, 'agonna': 96, 'public': 3311, 'con': 915, 'total': 4503, 'parent': 3076, 'michael': 2729, 'reckless': 3422, 'rudie': 3589, 'reply': 3475, 'purpose': 3322, 'market': 2658, 'temper': 4378, 'pork': 3233, 'hood': 2087, 'bargain': 339, 'payment': 3109, 'tattooed': 4353, 'glory': 1838, 'tested': 4393, 'speech': 4065, 'swallowed': 4293, 'leakin': 2441, 'cooking': 950, 'respected': 3486, 'anchor': 170, 'foundation': 1715, 'shift': 3833, 'cept': 742, 'riddle': 3517, 'whered': 4810, 'clash': 834, 'refusing': 3442, 'psycho': 3310, 'tearing': 4365, 'veil': 4678, 'funeral': 1761, 'shroud': 3880, 'boredom': 521, 'killed': 2338, 'support': 4270, 'jar': 2242, 'murdered': 2833, 'carrying': 707, 'barber': 334, 'scrub': 3706, 'daily': 1068, 'ford': 1690, 'fuel': 1757, 'janie': 2240, 'boring': 522, 'file': 1596, 'supper': 4268, 'armagideon': 230, 'yakety': 4954, 'yak': 4953, 'garbage': 1783, 'honkytonk': 2084, 'mexico': 2724, 'purple': 3321, 'sash': 3655, 'winked': 4857, 'egypt': 1377, 'wo': 4882, 'texas': 4395, 'zebra': 4991, 'triple': 4550, 'phoenix': 3144, 'fortynine': 1710, 'busy': 636, 'ribbon': 3511, 'shoutin': 3867, 'lame': 2400, 'parking': 3080, 'truck': 4558, 'fuss': 1770, 'skate': 3942, 'parked': 3079, 'dividing': 1233, 'sharp': 3816, 'wood': 4900, 'chased': 766, 'grandma': 1873, 'redblooded': 3429, 'neverever': 2885, 'bunch': 619, 'ashamed': 247, 'stoop': 4165, 'claw': 836, 'pattern': 3100, 'tie': 4458, 'haunted': 1977, 'zing': 4993, 'spring': 4098, 'robin': 3547, 'harmony': 1964, 'unaware': 4616, 'havin': 1979, 'elected': 1383, 'central': 740, 'los': 2569, 'angeles': 175, 'detroit': 1175, 'chicago': 788, 'chamber': 749, 'fake': 1529, 'deepest': 1133, 'spark': 4058, 'crimson': 1021, 'stained': 4109, 'whoaooh': 4831, 'mental': 2709, 'billie': 432, 'millie': 2741, 'frightening': 1743, 'criminally': 1020, 'axe': 284, 'scissors': 3688, 'husband': 2130, 'torture': 4499, 'sealed': 3712, 'bail': 318, 'nenenenervous': 2879, 'hurting': 2128, 'brutal': 599, 'abandoned': 20, 'sake': 3631, 'creation': 1010, 'cheat': 773, 'stair': 4110, 'lawn': 2426, 'moth': 2809, 'fork': 1703, 'atmosphere': 259, 'strangest': 4181, 'mattress': 2673, 'handle': 1943, 'mommy': 2789, 'lyric': 2609, 'meat': 2692, 'bug': 607, 'badge': 310, 'justify': 2317, 'ignorance': 2144, 'le': 2435, 'paris': 3077, 'rio': 3529, 'janeiro': 2238, 'cuz': 1060, 'stake': 4111, 'sinned': 3923, 'assigned': 256, 'eyed': 1507, 'pen': 3122, 'veronica': 4683, 'tag': 4325, 'horror': 2097, 'approaching': 215, 'wretched': 4937, 'flee': 1645, 'contagious': 937, 'celebrate': 734, 'baddest': 308, 'chained': 745, 'unlocks': 4646, 'worked': 4911, 'explore': 1497, 'bob': 496, 'nearby': 2862, 'object': 2941, 'embarks': 1394, 'ignore': 2145, 'faucet': 1561, 'leak': 2440, 'debate': 1117, 'stumbled': 4212, 'disappointment': 1213, 'vine': 4694, 'cruel': 1035, 'revolved': 3505, 'sung': 4256, 'driveway': 1303, 'forgiveness': 1700, 'violent': 4696, 'nurse': 2934, 'sarah': 3654, 'crane': 997, 'wreckage': 4935, 'pile': 3161, 'rubble': 3586, 'couldve': 973, 'shared': 3811, 'accident': 34, 'consequence': 932, 'burst': 630, 'explosion': 1498, 'solution': 4017, 'map': 2648, 'freeway': 1730, 'became': 368, 'pew': 3141, 'wrinkle': 4938, 'recognize': 3424, 'concrete': 919, 'excited': 1480, 'awoke': 282, 'meaningless': 2687, 'headlight': 1988, 'beacon': 356, 'grapevine': 1876, 'northern': 2918, 'silhouette': 3902, 'dye': 1334, 'inlet': 2177, 'sheen': 3822, 'pier': 3159, 'disappeared': 1210, 'synchronized': 4318, 'model': 2782, 'willow': 4848, 'strung': 4207, 'maze': 2678, 'rainy': 3371, 'sings': 3919, 'sway': 4294, 'defeated': 1137, 'twin': 4596, 'pillow': 3164, 'bind': 435, 'wicked': 4839, 'jaw': 2245, 'slipped': 3968, 'intelligence': 2192, 'brush': 598, 'makeup': 2631, 'whyd': 4838, 'create': 1008, 'selfrighteous': 3745, 'bough': 532, 'unbowed': 4618, 'hardened': 1958, 'endure': 1413, 'dirt': 1205, 'aluminum': 155, 'arise': 226, 'archer': 220, 'buying': 642, 'silk': 3904, 'arabian': 219, 'thread': 4433, 'pine': 3167, 'barrow': 344, 'gown': 1861, 'enemy': 1414, 'caress': 696, 'betrayed': 420, 'valencia': 4674, 'expected': 1489, 'honestly': 2078, 'hatchet': 1971, 'limb': 2498, 'careful': 693, 'ahhha': 113, 'cannibal': 676, 'arent': 223, 'source': 4047, 'allied': 140, 'severed': 3780, 'childhood': 792, 'wandering': 4734, 'wreath': 4933, 'ivy': 2222, 'burden': 622, 'labor': 2382, 'yoke': 4978, 'brilliant': 581, 'milk': 2739, 'praise': 3253, 'infanta': 2166, 'duke': 1322, 'spite': 4084, 'sits': 3935, 'rang': 3380, 'rake': 3374, 'spilling': 4077, 'reckon': 3423, 'ugly': 4605, 'delivery': 1142, 'feeding': 1571, 'narrator': 2854, 'writer': 4941, 'tortured': 4500, 'crawled': 1003, 'rend': 3465, 'sweetheart': 4304, 'swallow': 4292, 'creek': 1013, 'careless': 695, 'lingered': 2504, 'blanket': 455, 'streetlight': 4188, 'poorrichardsalmanackwriting': 3228, 'benjamin': 408, 'franklin': 1724, 'hitch': 2053, 'stride': 4191, 'cell': 735, 'runaway': 3601, 'mall': 2634, 'bastard': 349, 'willing': 4847, 'begs': 388, 'pleads': 3199, 'america': 163, 'ayy': 289, 'gucci': 1913, 'tool': 4491, 'hunnid': 2122, 'contraband': 940, 'slamming': 3951, 'united': 4640, 'act': 50, 'nanana': 2851, 'draggin': 1271, 'settle': 3775, 'stretch': 4190, 'rocked': 3550, 'confession': 924, 'suppose': 4271, 'ffffoolin': 1584, 'fffoolin': 1585, 'killer': 2339, 'tom': 4483, 'zero': 4992, 'center': 739, 'waving': 4762, 'brigade': 577, 'destroy': 1170, 'hunter': 2123, 'dug': 1321, 'wiser': 4867, 'thicker': 4414, 'uncontrollable': 4622, 'urge': 4661, 'ninny': 2904, 'twit': 4600, 'tape': 4344, 'alien': 135, 'spank': 4056, 'pank': 3060, 'nut': 2935, 'mash': 2664, 'tttttry': 4574, 'useless': 4665, 'shirt': 3843, 'nonononononono': 2912, 'tavern': 4355, 'ala': 127, 'polly': 3223, 'vaughn': 4677, 'mark': 2657, 'apron': 218, 'fountain': 1716, 'appear': 207, 'jimmy': 2265, 'feetll': 1575, 'aflyin': 82, 'eternity': 1447, 'mei': 2698, 'somethins': 4029, 'dum': 1324, 'shouldve': 3864, 'kim': 2342, 'obvious': 2949, 'pickup': 3155, 'redneck': 3431, 'heartbreak': 2001, 'match': 2669, 'concerned': 918, 'mtv': 2824, 'lem': 2461, 'blister': 475, 'install': 2187, 'microwave': 2731, 'oven': 3018, 'custom': 1054, 'refrigerator': 3437, 'faggot': 1520, 'shoulda': 3861, 'dedication': 1129, 'violence': 4695, 'strife': 4192, 'belle': 400, 'dinosaur': 1203, 'latest': 2417, 'romeo': 3569, 'serenade': 3762, 'juliet': 2301, 'relive': 3454, 'expresso': 1501, 'joking': 2282, 'checking': 777, 'sort': 4040, 'whisky': 4820, 'scotch': 3692, 'co': 867, 'meetin': 2696, 'sneakin': 3995, 'corridor': 963, 'sneeze': 3997, 'industrial': 2165, 'caretaker': 697, 'crucified': 1034, 'post': 3240, 'foreman': 1693, 'flea': 1644, 'panic': 3059, 'management': 2640, 'employee': 1403, 'location': 2531, 'shala': 3800, 'shalay': 3801, 'farewell': 1550, 'hope': 2092, 'breast': 562, 'gallery': 1775, 'harry': 1966, 'bareback': 336, 'clay': 837, 'junk': 2312, 'obscurity': 2945, 'vulture': 4709, 'gambling': 1778, 'camp': 670, 'travelin': 4533, 'marching': 2652, 'anne': 183, 'wanda': 4730, 'abused': 27, 'bruise': 597, 'searched': 3715, 'seein': 3731, 'chalk': 748, 'add': 59, 'longing': 2554, 'porch': 3232, 'vacant': 4671, 'hank': 1949, 'greed': 1886, 'hesitate': 2030, 'lined': 2502, 'peel': 3120, 'smash': 3980, 'richer': 3516, 'halo': 1939, 'heartache': 1999, 'bartender': 345, 'hurtins': 2129, 'underpaid': 4626, 'range': 3381, 'emma': 1400, 'solve': 4018, 'risin': 3536, 'ounce': 3013, 'wagon': 4711, 'mission': 2761, 'crashin': 1000, 'salvation': 3642, 'unraveled': 4648, 'gaslighter': 1786, 'apology': 204, 'gin': 1817, 'approve': 216, 'amen': 162, 'godspeed': 1846, 'immune': 2155, 'steering': 4144, 'smoked': 3988, 'tense': 4386, 'loosen': 2562, 'julianna': 2299, 'abyss': 28, 'cynic': 1063, 'pleasant': 3200, 'expecting': 1490, 'passin': 3092, 'starin': 4122, 'fan': 1540, 'konk': 2380, 'ka': 2319, 'eachya': 1340, 'luba': 2593, 'kechonk': 2322, 'sum': 4249, 'ashen': 248, 'uncertain': 4619, 'lon': 2544, 'pyre': 3332, 'destroys': 1172, 'divide': 1232, 'returned': 3497, 'pause': 3102, 'lemon': 2462, 'realm': 3412, 'endless': 1410, 'cancel': 672, 'resurrection': 3494, 'feast': 1567, 'ripped': 3532, 'intends': 2193, 'madly': 2616, 'topless': 4494, 'sadness': 3622, 'kissing': 2355, 'weeping': 4783, 'fragile': 1720, 'fantastic': 1544, 'birth': 439, 'alabama': 128, 'payback': 3106, 'itd': 2217, 'television': 4374, 'hut': 2132, 'smoochin': 3991, 'thumpin': 4447, 'admit': 66, 'doop': 1257, 'staying': 4138, 'address': 62, 'tumble': 4580, 'barefoot': 337, 'deserted': 1159, 'doby': 1239, 'shimmering': 3836, 'plenty': 3205, 'carefully': 694, 'hmmm': 2056, 'sickness': 3886, 'fucker': 1754, 'given': 1824, 'billion': 433, 'smilin': 3985, 'chilly': 795, 'coast': 869, 'raped': 3383, 'sinking': 3922, 'provide': 3306, 'enter': 1428, 'kingdom': 2349, 'victry': 4690, 'tequila': 4389, 'hired': 2050, 'someplace': 4025, 'smooth': 3992, 'shiny': 3841, 'dancer': 1080, 'winning': 4859, 'survival': 4287, 'faraway': 1547, 'possessed': 3238, '300': 7, 'roman': 3565, 'longest': 2553, 'devoted': 1179, 'flush': 1663, 'damage': 1071, 'ringin': 3527, 'stole': 4158, 'badeeya': 309, 'cloudy': 860, 'baduda': 313, 'deeya': 1134, 'everlasting': 1459, 'earthquake': 1351, 'disappears': 1212, 'betcha': 419, 'experience': 1491, 'greatest': 1884, 'blessed': 465, 'actress': 56, 'starring': 4125, 'cheatin': 775, 'oops': 3000, 'frown': 1747, 'thang': 4396, 'buckwild': 603, 'inner': 2178, 'harvest': 1967, 'participate': 3084, 'history': 2051, 'summertime': 4251, 'decay': 1119, 'balance': 320, 'chose': 811, 'simply': 3910, 'benny': 409, 'slash': 3953, 'sidney': 3892, 'poured': 3246, 'pint': 3169, 'bled': 460, 'peter': 3139, 'guiding': 1918, 'remove': 3464, 'frail': 1721, 'scratching': 3697, 'trippin': 4552, 'verse': 4684, 'sudden': 4234, 'sown': 4051, 'eddie': 1368, 'faders': 1517, 'scully': 3707, 'vibe': 4685, 'guided': 1917, 'chart': 764, 'whiz': 4826, 'cathys': 722, 'sincere': 3913, 'susie': 4290, 'pa': 3034, 'gal': 1774, 'ebony': 1363, 'chapel': 758, 'travelling': 4535, 'nightingale': 2897, 'reeling': 3434, 'accounta': 37, 'trustin': 4568, 'wonâ': 4898, 'youâ': 4989, 're': 3397, 'poisoned': 3214, 'drew': 1289, 'cabin': 648, 'scaffold': 3675, 'completely': 912, 'temptation': 4380, 'jenny': 2254, 'conductor': 921, 'kindness': 2347, 'sha': 3785, 'exchanged': 1478, 'teardrop': 4364, 'reconsider': 3425, 'parting': 3086, 'tho': 4428, 'enfold': 1420, 'snowcovered': 4000, 'bolder': 501, 'louder': 2581, 'follows': 1676, 'miracle': 2751, 'understands': 4628, 'tusk': 4588, 'tossed': 4502, 'aww': 283, 'hopin': 2093, 'soothe': 4036, 'explaining': 1493, 'unhappiness': 4635, 'companion': 905, 'thirtyfirst': 4426, 'plated': 3190, 'trusted': 4567, 'christ': 813, 'diesel': 1191, 'arunnin': 244, 'forward': 1711, 'everythin': 1466, 'scale': 3676, 'spoil': 4088, 'colorado': 891, 'foreign': 1692, 'granted': 1875, 'breed': 569, 'weed': 4779, 'difference': 1192, 'allowed': 142, 'hillbilly': 2046, 'drifted': 1292, 'affection': 78, 'appeared': 208, 'continue': 939, '100': 1, 'babbling': 296, 'stranded': 4177, 'awhile': 281, 'dodo': 1241, 'staay': 4105, 'ahhh': 112, 'payin': 3107, 'rushed': 3606, 'sugarpie': 4243, 'honeybunch': 2080, 'everytime': 1469, 'surprised': 4283, 'bigger': 428, 'obey': 2940, 'belongs': 404, 'latin': 2418, 'loco': 2537, 'acapulco': 29, 'loneliest': 2546, 'bernadette': 412, 'surround': 4285, 'thankful': 4398, 'sweeter': 4302, 'carpenter': 701, 'carryin': 706, 'wanderer': 4733, 'forgettin': 1697, 'overcome': 3021, 'indestructible': 2162, 'penetrate': 3123, 'stepped': 4146, 'function': 1760, 'surface': 4278, 'surge': 4280, 'strip': 4195, 'armor': 232, 'suggestion': 4244, 'observe': 2946, 'expression': 1500, 'common': 904, 'sucking': 4233, 'accessory': 33, 'epic': 1433, 'forced': 1689, 'schedule': 3682, 'rent': 3466, 'soir': 4010, 'virginia': 4698, 'office': 2957, 'group': 1904, 'fireman': 1618, 'lockheed': 2536, 'distraction': 1228, 'covered': 988, 'pedal': 3119, 'lockdown': 2533, 'remains': 3457, 'serve': 3769, 'heated': 2004, 'achieve': 43, 'uniform': 4637, 'ambition': 161, 'ideal': 2140, 'migraine': 2736, 'expectation': 1488, 'essence': 1443, 'pair': 3049, 'isolation': 2213, 'product': 3292, 'crisis': 1022, 'rust': 3609, 'filling': 1599, 'alibi': 133, 'loan': 2528, 'watt': 4760, 'item': 2218, 'unsung': 4651, 'duty': 1330, 'avoid': 275, 'x3': 4946, 'armalite': 231, 'bbc': 353, 'ohhohhwoh': 2967, 'ohhohh': 2966, 'hasnt': 1968, 'stomach': 4159, 'cave': 729, 'stalactite': 4112, 'stalagmite': 4113, 'undisturbed': 4631, 'unimportance': 4638, 'photo': 3146, 'ahahah': 104, 'stubborn': 4209, 'exit': 1486, 'strangely': 4179, 'joined': 2277, 'salmacis': 3635, 'demigod': 1146, 'nymph': 2936, 'bubble': 600, 'illegal': 2147, 'ink': 2176, 'destroyed': 1171, 'celluloid': 736, 'crawler': 1004, 'wooden': 4901, 'dyou': 1339, 'drawing': 1278, 'countin': 976, 'dull': 1323, 'shaken': 3793, 'fisherman': 1625, 'knight': 2365, 'shield': 3832, 'stamp': 4115, 'credit': 1012, 'twist': 4598, 'represent': 3476, 'recently': 3421, 'humanity': 2116, 'intuition': 2201, 'oughtta': 3012, 'closely': 855, 'glare': 1831, 'birthday': 440, 'oo': 2986, 'tucked': 4578, 'curl': 1050, 'shown': 3876, 'stoppin': 4168, 'twisted': 4599, 'unclear': 4621, 'shower': 3874, 'truckin': 4560, 'typical': 4604, 'marie': 2655, 'chino': 799, 'cherokee': 783, 'dew': 1181, 'morn': 2803, 'shannon': 3807, 'magnolia': 2623, 'blooming': 482, 'freely': 1729, 'althea': 153, 'harp': 1965, 'ripple': 3534, 'pebble': 3117, 'sugaree': 4242, 'jubilee': 2293, 'carried': 703, 'homeland': 2071, 'redeemer': 3430, 'particular': 3085, 'visit': 4700, 'ramblin': 3377, 'jailer': 2231, 'cracked': 992, 'doggie': 1244, 'slot': 3972, 'shakedown': 3792, 'poke': 3215, 'chateau': 771, 'mob': 2780, 'adding': 61, 'cracking': 995, 'paranoid': 3072, 'idiot': 2141, 'subliminal': 4220, 'tension': 4387, 'argue': 224, 'paranoia': 3071, 'sheep': 3823, 'sacrificed': 3617, 'ohay': 2962, 'blasphemy': 456, 'genocide': 1801, 'infiltrate': 2167, 'fanatic': 1541, 'amanda': 157, 'suicidal': 4245, 'churn': 819, 'rival': 3539, 'lemonade': 2463, 'firework': 1621, 'suburban': 4226, 'insist': 2184, 'pessimist': 3137, 'catastrophic': 718, 'crashed': 999, 'xkid': 4949, 'yeahhh': 4962, 'reject': 3445, 'intervention': 2198, 'homicide': 2075, 'afterlife': 87, 'reminds': 3462, 'quietly': 3345, 'subside': 4222, 'november': 2928, 'court': 985, 'whatll': 4805, 'shannnnnnnn': 3805, 'serpentine': 3767, 'hunger': 2120, 'shannnnnnnnknees': 3806, 'sellin': 3747, 'grocery': 1899, 'usually': 4669, 'aeroplane': 74, 'rattlesnake': 3391, 'gasoline': 1787, 'nightrain': 2899, 'float': 1651, 'tad': 4324, 'startin': 4129, 'subtle': 4224, 'crush': 1041, 'punk': 3318, 'printin': 3283, 'circus': 825, 'pussy': 3327, 'earned': 1348, 'antagonize': 187, 'motherfucker': 2811, 'knowledge': 2375, 'register': 3443, 'sanity': 3651, 'exceed': 1476, 'crunch': 1040, 'iv': 2220, 'airway': 124, 'collect': 886, 'welfare': 4789, 'concern': 917, 'laden': 2388, 'weigh': 4785, 'august': 269, 'brow': 595, 'rushin': 3607, 'suzanne': 4291, 'ohohwhoa': 2972, 'technology': 4368, 'solar': 4011, 'ji': 2262, 'ja': 2224, 'pad': 3039, 'betsy': 421, 'cock': 874, 'breezin': 571, 'immediately': 2154, 'starving': 4131, 'raw': 3394, 'separated': 3760, 'whoop': 4835, 'division': 1236, 'shiftin': 3834, 'freaky': 1726, 'culture': 1047, 'madonna': 2618, 'hid': 2036, 'acclaim': 35, 'admission': 65, 'goal': 1843, 'silvery': 3907, 'woohoo': 4905, 'java': 2244, 'jiving': 2268, 'jug': 2296, 'waiter': 4717, 'capistrano': 685, 'prisner': 3284, 'uhhh': 4608, 'collector': 887, 'borrow': 524, 'bump': 617, 'ooo': 2996, 'mistaken': 2766, 'elsewhere': 1391, 'hearin': 1995, 'footstep': 1687, 'sharin': 3813, 'whoaohohohooh': 4830, 'ecstasy': 1367, 'relieve': 3452, 'worthy': 4924, 'princess': 3282, 'misty': 2769, 'ce': 732, 'lalalala': 2396, 'lala': 2394, 'spinnin': 4080, 'jasmine': 2243, 'sailin': 3627, 'acted': 51, 'gurl': 1923, 'flowin': 1660, 'strain': 4176, 'punch': 3317, 'bullshit': 615, 'drill': 1294, 'lamp': 2401, 'blinking': 473, 'rumble': 3596, 'damp': 1077, 'waking': 4721, 'opening': 3004, 'petrol': 3140, 'tarmac': 4346, 'amongst': 167, 'tranquility': 4525, 'reading': 3404, 'atomic': 261, 'kidney': 2336, 'eton': 1448, 'wealth': 4768, 'bitterest': 447, 'coloured': 893, 'mocking': 2781, 'status': 4134, 'queer': 3338, 'comprehend': 913, 'crumbling': 1039, 'empire': 1402, 'scrimping': 3705, 'customer': 1055, 'lalalalala': 2397, 'struggling': 4206, 'area': 221, 'inflate': 2170, 'liza': 2522, 'radley': 3356, 'hospital': 2100, 'darkened': 1087, 'aringing': 225, 'burnt': 629, 'waterloo': 4759, 'serious': 3766, 'catching': 720, 'ohw': 2973, 'april': 217, 'chilled': 794, 'sidewalking': 3889, 'tripper': 4551, 'scrape': 3693, 'facing': 1512, 'melt': 2702, 'jfk': 2261, 'shack': 3786, 'incomplete': 2159, 'warming': 4741, 'backwards': 305, 'focus': 1668, 'ray': 3395, 'radioactive': 3355, 'metal': 2723, 'berry': 413, 'plainly': 3179, 'compared': 908, 'rooted': 3573, 'sitdown': 3933, 'dove': 1266, 'success': 4229, 'anybodys': 191, 'oohlala': 2988, 'oohoohooh': 2991, 'ex': 1474, 'ima': 2150, 'stealing': 4141, 'flaw': 1643, 'totally': 4504, '80': 16, 'so': 4001, 'lovebug': 2583, 'energeticless': 1417, 'que': 3335, 'en': 1406, 'contigo': 938, 'runarunarunarunarunarunaway': 3600, 'llena': 2524, 'arena': 222, 'flux': 1664, '3000': 8, 'underwater': 4630, 'greatgreatgreatgranddaughter': 1885, 'multiplatinum': 2831, 'kelly': 2327, 'dammit': 1073, 'faking': 1530, 'pan': 3055, 'wendy': 4791, 'helping': 2022, 'restart': 3489, 'upanddown': 4654, 'woooohoohooh': 4906, 'reaching': 3401, 'capacitor': 683, 'mandy': 2641, 'mask': 2665, 'instrument': 2190, 'inserted': 2182, 'portrait': 3234, 'bloodsport': 479, 'obtained': 2948, 'demanded': 1145, 'distorted': 1227, 'disturbed': 1230, 'length': 2465, 'darker': 1088, 'threeoneg': 4436, 'repair': 3468, 'gap': 1782, 'emerge': 1398, 'travelled': 4534, 'colony': 889, 'wisdom': 4865, 'crosslegged': 1028, 'handsome': 1944, 'mason': 2666, 'parole': 3081, 'piled': 3162, 'lipstick': 2509, 'ton': 4486, 'cow': 989, 'comma': 900, 'ti': 4451, 'yi': 4974, 'yippity': 4976, 'trucked': 4559, 'fairway': 1525, 'yip': 4975, 'hoohoo': 2088, 'manger': 2642, 'greenback': 1888, 'wailin': 4714, 'citizen': 826, 'unlearned': 4644, 'handed': 1942, 'paul': 3101, 'barley': 342, 'cattle': 723, 'cactus': 650, 'stump': 4214, 'mirage': 2752, 'powder': 3250, 'prime': 3280, 'kindly': 2346, 'pete': 3138, 'quench': 3339, 'tijuana': 4464, 'africa': 84, 'african': 85, 'dutch': 1329, 'endowed': 1412, 'bible': 426, 'morrow': 2806, 'ohio': 2968, 'buffalo': 606, 'whalin': 4801, 'hi': 2034, 'haul': 1974, 'alongside': 148, 'blubber': 488, 'rob': 3544, 'ally': 143, 'molly': 2785, 'reuben': 3499, 'zombie': 4995, 'jamboree': 2234, 'agoing': 95, 'jolly': 2283, 'mellow': 2700, 'maid': 2624, 'eighteen': 1380, 'bolyn': 503, 'headsman': 1989, 'sentry': 3758, 'pal': 3050, 'san': 3645, 'grande': 1872, 'christian': 814, 'cola': 883, 'lola': 2543, 'except': 1477, 'masculine': 2663, 'lazin': 2433, 'luxury': 2606, 'conservatively': 933, 'supersonic': 4266, 'equality': 1436, 'suppression': 4274, 'pally': 3053, 'estate': 1444, 'lalala': 2395, 'lalalalalalalalalala': 2398, 'frightened': 1742, 'sacred': 3615, 'apeman': 202, 'ape': 201, 'voodoo': 4705, 'distant': 1226, 'neighbourhood': 2877, 'noble': 2907, 'fafafafafafafafa': 1519, 'depressed': 1154, 'bopbopbopbopbop': 517, 'twentieth': 4591, 'jerusalem': 2257, 'painter': 3047, 'ruled': 3594, 'shouted': 3866, 'pleasants': 3201, 'poverty': 3249, 'oohoohoohoohooh': 2993, 'painful': 3044, 'relation': 3447, 'overboard': 3019, 'picket': 3152, 'uhu': 4611, 'forgot': 1701, 'pleaded': 3198, 'spice': 4074, 'afloat': 81, 'eager': 1341, 'pounding': 3244, 'now': 2929, 'aisle': 125, 'needy': 2872, 'stoner': 4163, 'lung': 2604, 'sleeve': 3961, 'overseas': 3026, 'selfish': 3744, 'faced': 1510, 'surgery': 4281, 'nigga': 2894, 'weakness': 4767, 'newborn': 2888, 'iâ': 2223, 'final': 1602, 'june': 2309, 'gifted': 1815, 'findin': 1605, 'asshole': 255, 'female': 1581, 'syrup': 4320, 'splash': 4085, 'restore': 3492, 'daze': 1105, 'bred': 568, 'rescue': 3478, 'politely': 3219, 'bitterness': 448, 'reachin': 3400, 'boutique': 539, 'resignation': 3481, 'pri': 3274, 'hop': 2091, 'tock': 4476, 'hesitating': 2031, 'prihey': 3278, 'widest': 4842, 'serenity': 3763, 'rocky': 3556, 'casual': 716, 'seminole': 3749, 'blackened': 451, 'evolution': 1472, 'whipping': 4817, 'callous': 665, 'frigid': 1744, 'leroy': 2467, 'specie': 4063, 'ravage': 3392, 'maniacal': 2643, 'cockatoo': 875, 'kintore': 2351, 'yuendemu': 4990, 'breathes': 565, '45': 13, 'receiving': 3420, 'retrieving': 3495, 'huge': 2112, 'vast': 4676, 'equally': 1437, 'destructive': 1174, 'extension': 1502, 'darndest': 1094, 'miner': 2747, 'endlessness': 1411, 'lawnmower': 2427, 'billboard': 431, 'agriculture': 99, 'honky': 2083, 'tonks': 4489, '7elevens': 15, 'chocolate': 801, 'cooky': 951, 'cornfield': 961, 'timber': 4468, 'ahahahahahahahah': 107, 'ahahahahahahah': 106, 'painting': 3048, 'conviction': 945, 'rearranging': 3415, 'dominate': 1250, 'calculator': 657, 'math': 2671, 'level': 2473, 'blazing': 459, 'untidy': 4652, 'salted': 3639, 'lenny': 2466, 'jellybean': 2252, 'embodies': 1396, 'alaska': 130, 'soakin': 4002, 'logger': 2541, 'farmer': 1552, 'elm': 1389, 'plowed': 3207, 'peeled': 3121, 'blueeyed': 491, 'percent': 3127, 'countryside': 979, 'cuyahoga': 1059, 'sufficient': 4240, 'dot': 1261, 'oohoohoohooh': 2992, 'bluebird': 490, 'chimney': 797, 'gamma': 1780, 'global': 1835, 'landscape': 2405, 'denying': 1151, 'president': 3267, 'reduce': 3432, 'reuse': 3500, 'recycle': 3427, 'waterfall': 4758, 'pollution': 3222, 'muhlenberg': 2829, 'peabody': 3110, 'hauled': 1975, 'tallest': 4338, 'woodsll': 4902, 'rambling': 3378, 'uhm': 4610, 'lamb': 2399, 'slaughter': 3954, 'cleveland': 844, 'barge': 340, 'maple': 2649, 'refuge': 3438, 'deluge': 1143, 'tattered': 4351, 'reveal': 3501, 'lorry': 2568, 'pumping': 3316, 'jah': 2227, 'drummer': 1314, 'wounded': 4929, 'peasant': 3116, 'replacement': 3474, 'janet': 2239, 'premonition': 3263, 'scraper': 3694, 'spaceship': 4054, 'catfish': 721, 'shoo': 3849, 'dragon': 1272, 'cody': 881, 'mercury': 2713, 'graf': 1867, 'prayed': 3255, '911': 17, 'salt': 3637, 'agoin': 94, 'afallin': 75, 'executioner': 1483, 'werent': 4793, 'rusty': 3611, 'bedtime': 374, 'stove': 4173, 'gem': 1798, 'easter': 1356, 'bunny': 621, 'normal': 2916, 'handy': 1945, 'fishin': 1626, 'pearly': 3115, 'carrot': 704, 'sippy': 3928, 'blonde': 477, 'cleaning': 840, 'revolves': 3506, 'buckaroo': 602, 'joyful': 2292, 'greet': 1889, 'teddy': 4369, 'accumulation': 38, 'eggnog': 1375, 'mayhem': 2677, 'bitchin': 443, 'miserable': 2754, 'feliz': 1576, 'navidad': 2860, 'fortress': 1707, 'brotherererer': 593, 'tattoo': 4352, 'chevrolet': 786, 'grandpa': 1874, 'blinding': 470, 'gracie': 1865, 'rase': 3386, 'dated': 1097, 'ayo': 288, 'advantage': 71, 'accusation': 39, 'hennessy': 2024, 'intact': 2191, 'click': 846, 'issue': 2214, 'actor': 55, 'bouncin': 536, 'bouncebouncin': 535, 'aye': 286, '20': 6, 'thems': 4405, 'smh': 3982, 'pressing': 3269, 'hoe': 2058, 'hesays': 2029, 'shesays': 3831, 'chainsaw': 746, 'boulevard': 534, 'driven': 1301, 'bugler': 608, 'trouper': 4556, 'suppper': 4273, 'trouppper': 4557, 'sideway': 3890, 'appointment': 213, 'apply': 212, 'ointment': 2975, 'overdue': 3023, 'beginnin': 386, 'riff': 3523, 'raff': 3357, 'juke': 2298, 'snowballed': 3999, 'balled': 324, 'misunderstood': 2772, 'looser': 2563, 'mindyeah': 2745, 'cycle': 1062, 'discreet': 1217, 'sweep': 4300, 'pandora': 3057, 'liberation': 2476, 'goodlike': 1856, 'aura': 270, 'flora': 1657, 'doora': 1259, 'watchman': 4756, 'attic': 265, 'ohohoh': 2970, 'wawawawawaterfall': 4763, 'chuff': 817, 'stompin': 4160, 'mcas': 2681, 'oowah': 3001, 'burger': 623, 'rump': 3598, '442': 12, 'nothins': 2923, 'rhymney': 3509, 'blindly': 471, 'brixton': 586, 'highest': 2043, 'wha': 4798, 'romantic': 3568, 'stumbling': 4213, 'undercover': 4623, 'widow': 4843, 'sherry': 3829, 'tourist': 4510, 'ulcer': 4612, 'selfcontrol': 3742, 'network': 2883, 'despite': 1167, 'shoreline': 3857, 'odd': 2954, 'razor': 3396, 'sexual': 3783, 'wreck': 4934, 'homestead': 2073, '1970': 5, 'afterglow': 86, 'vip': 4697, 'eee': 1373, 'terry': 4391, 'edward': 1372, 'acknowledge': 47, 'pom': 3224, '123': 4, '543': 14, 'dooley': 1255, 'ida': 2138, 'shave': 3819, 'jai': 2228, 'guru': 1924, 'deva': 1177, 'om': 2983, 'inviting': 2205, 'mar': 2650, 'babaloo': 295, 'ayyiyi': 290, 'samba': 3644, 'rumba': 3595, 'conga': 928, 'chassis': 769, 'olâ': 2982, 'whack': 4799, 'clack': 829, 'transmission': 4527, 'abide': 21, 'branch': 550, 'panoply': 3061, 'springville': 4099, 'unfurled': 4634, 'ladidadida': 2389, 'papapapa': 3064, 'honeydew': 2081, 'telegraph': 4372, 'injured': 2175, 'thunderstruck': 4449, 'outlaw': 3015, 'lizard': 2523, 'express': 1499, 'hermaphroditus': 2027, 'unroll': 4650, 'descent': 1157, 'realise': 3407, 'grief': 1893, 'wishful': 4870, 'whispering': 4823, 'flooded': 1654, 'santa': 3652, 'fe': 1565, 'doggy': 1246, 'santy': 3653, 'anno': 184, 'californio': 659, 'julie': 2300, 'ahahahahah': 105, 'abraham': 25, 'ozone': 3033, 'stroll': 4199, 'squirrel': 4103, 'wrinkled': 4939, 'eats': 1362, 'signal': 3897, 'saltwater': 3640, 'assume': 257, 'supply': 4269, 'specific': 4064, 'earthling': 1350, 'baboon': 298, 'advanced': 70, 'anus': 189, 'cub': 1045, 'licked': 2480, 'meow': 2711, 'moo': 2797, 'tit': 4474, 'cavalry': 728, 'wiped': 4862, 'lofty': 2539, 'scoobedoopscoopscoop': 3690, 'sword': 4314, 'repeated': 3470, 'ahhaha': 111, 'ahaaaah': 102, 'angeleyes': 176, 'ahhaa': 110, 'bobby': 497, 'happiest': 1954, 'merrygoround': 2716, 'badlands': 311, 'cod': 879, 'ninety': 2903, 'caesar': 652, 'epicenter': 1434, 'chariot': 761, 'disrespect': 1224, 'spoilin': 4089, 'volunteer': 4704, 'briar': 573, 'backbone': 301, 'twitchin': 4601, 'dagger': 1067, 'tramp': 4523, 'roxy': 3583, 'arolling': 234, 'girlya': 1822, 'bah': 316, 'desmond': 1163, 'obladi': 2943, 'oblada': 2942, 'brah': 546, 'everglow': 1458, 'magical': 2622, 'melissa': 2699, 'southbound': 4049, 'dimple': 1200, 'giddyup': 1813, '409': 11, 'sabotage': 3612, 'selfdestruct': 3743, 'alcohol': 132, 'jackknife': 2226, 'carved': 708, 'muscle': 2834, 'donna': 1252, 'prima': 3279, 'oooo': 2998, 'actin': 52, 'nana': 2850, 'balcony': 321, 'inspired': 2186, 'bip': 437, 'bam': 326, 'mam': 2635, 'witchy': 4875, 'kalimba': 2320, 'warden': 4739, 'beguine': 389, 'marianne': 2654, 'connieo': 930, 'process': 3291, 'repackaged': 3467, 'caution': 727, 'wahhey': 4712, 'michelle': 2730, 'jennifer': 2253, 'eccles': 1364, 'adont': 67, 'aaah': 18, 'loft': 2538, 'victoria': 4689, 'toria': 4496, 'gloria': 1837, 'raining': 3370, 'repent': 3471, 'tournament': 4511, 'parallel': 3069, 'queenie': 3337, 'maggie': 2620, 'mgill': 2725, 'amputation': 169, 'andante': 173, 'cyberspace': 1061, 'meanstreak': 2688, 'paraparaparadise': 3074, 'paraparadise': 3073}\n"
          ]
        }
      ],
      "source": [
        "print(Tfidf_vect.vocabulary_)"
      ]
    },
    {
      "cell_type": "code",
      "execution_count": 30,
      "id": "a3f2d283",
      "metadata": {
        "id": "a3f2d283"
      },
      "outputs": [],
      "source": [
        "def evaluate_model(model, x_test, y_test):\n",
        "    from sklearn import metrics\n",
        "\n",
        "    # Predict Test Data \n",
        "    y_pred = model.predict(x_test)\n",
        "\n",
        "    # Calculate accuracy, precision, recall, f1-score, and kappa score\n",
        "    acc = metrics.accuracy_score(y_test, y_pred)\n",
        "    prec = metrics.precision_score(y_test, y_pred,average='micro')\n",
        "    rec = metrics.recall_score(y_test, y_pred,average='micro')\n",
        "    f1 = metrics.f1_score(y_test, y_pred,average='micro')\n",
        "    kappa = metrics.cohen_kappa_score(y_test, y_pred)\n",
        "\n",
        "    # Calculate area under curve (AUC)\n",
        "    y_pred_proba = model.predict_proba(x_test)[::,1]\n",
        "    fpr, tpr,thresholds= metrics.roc_curve(y_test, y_pred_proba,pos_label=1)\n",
        "    #auc = metrics.roc_auc_score(y_test, y_pred_proba,multi_class='ovr')\n",
        "\n",
        "    # Display confussion matrix\n",
        "    cm = metrics.confusion_matrix(y_test, y_pred)\n",
        "\n",
        "    return {'acc': acc, 'prec': prec, 'rec': rec, 'f1': f1, 'kappa': kappa, \n",
        "            'fpr': fpr, 'tpr': tpr, 'cm': cm}"
      ]
    },
    {
      "cell_type": "markdown",
      "id": "99db1ac3",
      "metadata": {
        "id": "99db1ac3"
      },
      "source": [
        "# Naive Bayes"
      ]
    },
    {
      "cell_type": "code",
      "execution_count": 31,
      "id": "dac539b6",
      "metadata": {
        "colab": {
          "base_uri": "https://localhost:8080/"
        },
        "id": "dac539b6",
        "outputId": "82ebf1a0-0e60-4c86-9998-d6c6093ad3ea"
      },
      "outputs": [
        {
          "output_type": "stream",
          "name": "stdout",
          "text": [
            "Naive Bayes Test Accuracy Score ->  69.05263157894737\n",
            "Naive Training Accuracy Score ->  84.84422581400797\n"
          ]
        }
      ],
      "source": [
        "# fit the training dataset on the NB classifier\n",
        "Naive = naive_bayes.MultinomialNB()\n",
        "Naive.fit(Train_X_Tfidf,Train_Y)\n",
        "score_nb_t=Naive.score(Train_X_Tfidf,Train_Y)*100\n",
        "# predict the labels on validation dataset\n",
        "predictions_NB = Naive.predict(Test_X_Tfidf)\n",
        "# Use accuracy_score function to get the accuracy\n",
        "print(\"Naive Bayes Test Accuracy Score -> \",accuracy_score(predictions_NB, Test_Y)*100)\n",
        "score_nb=accuracy_score(predictions_NB, Test_Y)*100\n",
        "print(\"Naive Training Accuracy Score -> \",score_nb_t)"
      ]
    },
    {
      "cell_type": "code",
      "execution_count": 32,
      "id": "d293c9bd",
      "metadata": {
        "colab": {
          "base_uri": "https://localhost:8080/"
        },
        "id": "d293c9bd",
        "outputId": "1398ed93-467d-4624-da7c-93187cecb987"
      },
      "outputs": [
        {
          "output_type": "stream",
          "name": "stdout",
          "text": [
            "Accuracy: 0.6905263157894737\n",
            "Precision: 0.6905263157894737\n",
            "Recall: 0.6905263157894737\n",
            "F1 Score: 0.6905263157894737\n",
            "Cohens Kappa Score: 0.6147267360057385\n",
            "Confusion Matrix:\n",
            " [[59  5  3 20 26]\n",
            " [ 6 64  2 11 10]\n",
            " [ 6  1 77  5 12]\n",
            " [ 2  1  2 66 15]\n",
            " [ 8  3  5  4 62]]\n"
          ]
        }
      ],
      "source": [
        "Naive_eval = evaluate_model(Naive, Test_X_Tfidf, Test_Y)\n",
        "\n",
        "# Print result\n",
        "print('Accuracy:', Naive_eval['acc'])\n",
        "print('Precision:', Naive_eval['prec'])\n",
        "print('Recall:', Naive_eval['rec'])\n",
        "print('F1 Score:', Naive_eval['f1'])\n",
        "print('Cohens Kappa Score:', Naive_eval['kappa'])\n",
        "#print('Area Under Curve:', knn_eval['auc'])\n",
        "print('Confusion Matrix:\\n', Naive_eval['cm'])"
      ]
    },
    {
      "cell_type": "markdown",
      "id": "6d2a01f0",
      "metadata": {
        "id": "6d2a01f0"
      },
      "source": [
        "# KNeighborsClassifier"
      ]
    },
    {
      "cell_type": "code",
      "execution_count": 33,
      "id": "e24944fd",
      "metadata": {
        "colab": {
          "base_uri": "https://localhost:8080/"
        },
        "id": "e24944fd",
        "outputId": "a4df18b5-bc10-4177-d780-ae6078baa8b8"
      },
      "outputs": [
        {
          "output_type": "stream",
          "name": "stdout",
          "text": [
            "knn Testing Accuracy Score ->  84.63157894736842\n",
            "knn Training Accuracy Score ->  99.90630124150856\n"
          ]
        }
      ],
      "source": [
        "# Classifier - Algorithm - KNN\n",
        "# fit the training dataset on the classifier\n",
        "knn = KNeighborsClassifier(n_neighbors=1)\n",
        "knn.fit(Train_X_Tfidf,Train_Y)\n",
        "score_knn_t=knn.score(Train_X_Tfidf,Train_Y)*100\n",
        "# predict the labels on validation dataset\n",
        "predictions_knn = knn.predict(Test_X_Tfidf)\n",
        "# Use accuracy_score function to get the accuracy\n",
        "print(\"knn Testing Accuracy Score -> \",accuracy_score(predictions_knn, Test_Y)*100)\n",
        "score_knn=accuracy_score(predictions_knn, Test_Y)*100\n",
        "print(\"knn Training Accuracy Score -> \",score_knn_t)"
      ]
    },
    {
      "cell_type": "code",
      "execution_count": 34,
      "id": "504cbc59",
      "metadata": {
        "colab": {
          "base_uri": "https://localhost:8080/"
        },
        "id": "504cbc59",
        "outputId": "fe71e5bf-895d-40a7-8183-9b4154d7b4c0"
      },
      "outputs": [
        {
          "output_type": "stream",
          "name": "stdout",
          "text": [
            "Accuracy: 0.8463157894736842\n",
            "Precision: 0.8463157894736842\n",
            "Recall: 0.8463157894736842\n",
            "F1 Score: 0.8463157894736841\n",
            "Cohens Kappa Score: 0.8056355870449883\n",
            "Confusion Matrix:\n",
            " [[109   1   2   0   1]\n",
            " [ 21  69   0   1   2]\n",
            " [  7   0  93   0   1]\n",
            " [  1   0   0  85   0]\n",
            " [ 34   2   0   0  46]]\n"
          ]
        }
      ],
      "source": [
        "knn_eval = evaluate_model(knn, Test_X_Tfidf, Test_Y)\n",
        "\n",
        "# Print result\n",
        "print('Accuracy:', knn_eval['acc'])\n",
        "print('Precision:', knn_eval['prec'])\n",
        "print('Recall:', knn_eval['rec'])\n",
        "print('F1 Score:', knn_eval['f1'])\n",
        "print('Cohens Kappa Score:', knn_eval['kappa'])\n",
        "#print('Area Under Curve:', knn_eval['auc'])\n",
        "print('Confusion Matrix:\\n', knn_eval['cm'])"
      ]
    },
    {
      "cell_type": "markdown",
      "id": "e6dd137c",
      "metadata": {
        "id": "e6dd137c"
      },
      "source": [
        "# SVM"
      ]
    },
    {
      "cell_type": "code",
      "execution_count": 35,
      "id": "bd3ae8be",
      "metadata": {
        "colab": {
          "base_uri": "https://localhost:8080/"
        },
        "id": "bd3ae8be",
        "outputId": "afedc679-4107-4d5e-b82d-9676c40d9abd"
      },
      "outputs": [
        {
          "output_type": "stream",
          "name": "stdout",
          "text": [
            "SVM Accuracy Score ->  78.10526315789474\n",
            "SVM Training Accuracy Score ->  96.60342000468493\n"
          ]
        }
      ],
      "source": [
        "# Classifier - Algorithm - SVM\n",
        "# fit the training dataset on the classifier\n",
        "SVM = svm.SVC(C=2, kernel='linear', degree=3, gamma='auto',probability=True)\n",
        "SVM.fit(Train_X_Tfidf,Train_Y)\n",
        "score_svm_t=SVM.score(Train_X_Tfidf,Train_Y)*100\n",
        "#predict the labels on validation dataset\n",
        "predictions_SVM = SVM.predict(Test_X_Tfidf)\n",
        "#Use accuracy_score function to get the accuracy\n",
        "print(\"SVM Accuracy Score -> \",accuracy_score(predictions_SVM,Test_Y)*100)\n",
        "score_svm=accuracy_score(predictions_SVM,Test_Y)*100\n",
        "print(\"SVM Training Accuracy Score -> \",score_svm_t)"
      ]
    },
    {
      "cell_type": "code",
      "execution_count": 36,
      "id": "5881bf8c",
      "metadata": {
        "colab": {
          "base_uri": "https://localhost:8080/"
        },
        "id": "5881bf8c",
        "outputId": "37a38b60-8fb6-4f4f-cba5-1128ec27fad5"
      },
      "outputs": [
        {
          "output_type": "stream",
          "name": "stdout",
          "text": [
            "Accuracy: 0.7810526315789473\n",
            "Precision: 0.7810526315789473\n",
            "Recall: 0.7810526315789473\n",
            "F1 Score: 0.7810526315789474\n",
            "Cohens Kappa Score: 0.7257094630235257\n",
            "Confusion Matrix:\n",
            " [[74  8  3  9 19]\n",
            " [13 72  2  3  3]\n",
            " [ 3  1 93  0  4]\n",
            " [ 6  1  0 74  5]\n",
            " [10  7  5  2 58]]\n"
          ]
        }
      ],
      "source": [
        "lr_eval = evaluate_model(SVM, Test_X_Tfidf, Test_Y)\n",
        "\n",
        "# Print result\n",
        "print('Accuracy:', lr_eval['acc'])\n",
        "print('Precision:', lr_eval['prec'])\n",
        "print('Recall:', lr_eval['rec'])\n",
        "print('F1 Score:', lr_eval['f1'])\n",
        "print('Cohens Kappa Score:', lr_eval['kappa'])\n",
        "#print('Area Under Curve:', lr_eval['auc'])\n",
        "print('Confusion Matrix:\\n', lr_eval['cm'])"
      ]
    },
    {
      "cell_type": "markdown",
      "id": "3e63e472",
      "metadata": {
        "id": "3e63e472"
      },
      "source": [
        "# LogisticRegression"
      ]
    },
    {
      "cell_type": "code",
      "execution_count": 37,
      "id": "7085b023",
      "metadata": {
        "colab": {
          "base_uri": "https://localhost:8080/"
        },
        "id": "7085b023",
        "outputId": "de45541e-2d1a-44bc-f7bc-006e18255673"
      },
      "outputs": [
        {
          "output_type": "stream",
          "name": "stdout",
          "text": [
            "LogisticRegression Accuracy Score ->  72.84210526315789\n",
            "SVM Training Accuracy Score ->  89.48231435933474\n"
          ]
        }
      ],
      "source": [
        "# Classifier - Algorithm -  LogisticRegression\n",
        "# fit the training dataset on the classifier\n",
        "lr= LogisticRegression(random_state = 500)\n",
        "lr.fit(Train_X_Tfidf,Train_Y)\n",
        "score_lr_t=lr.score(Train_X_Tfidf,Train_Y)*100\n",
        "# predict the labels on validation dataset\n",
        "predictions_lr = lr.predict(Test_X_Tfidf)\n",
        "# Use accuracy_score function to get the accuracy\n",
        "print(\"LogisticRegression Accuracy Score -> \",accuracy_score(predictions_lr, Test_Y)*100)\n",
        "score_lr=accuracy_score(predictions_lr, Test_Y)*100\n",
        "print(\"SVM Training Accuracy Score -> \",score_lr_t)"
      ]
    },
    {
      "cell_type": "code",
      "execution_count": 38,
      "id": "bc6f96db",
      "metadata": {
        "colab": {
          "base_uri": "https://localhost:8080/"
        },
        "id": "bc6f96db",
        "outputId": "5596cd22-2935-4e16-c8c2-e4d1a5cc5918"
      },
      "outputs": [
        {
          "output_type": "stream",
          "name": "stdout",
          "text": [
            "Accuracy: 0.728421052631579\n",
            "Precision: 0.728421052631579\n",
            "Recall: 0.728421052631579\n",
            "F1 Score: 0.728421052631579\n",
            "Cohens Kappa Score: 0.6601610595321288\n",
            "Confusion Matrix:\n",
            " [[66  7  7 15 18]\n",
            " [ 8 67  4  6  8]\n",
            " [ 2  1 90  3  5]\n",
            " [ 8  1  1 71  5]\n",
            " [13  5  7  5 52]]\n"
          ]
        }
      ],
      "source": [
        "dtc_eval = evaluate_model(lr, Test_X_Tfidf, Test_Y)\n",
        "\n",
        "# Print result\n",
        "print('Accuracy:', dtc_eval['acc'])\n",
        "print('Precision:', dtc_eval['prec'])\n",
        "print('Recall:', dtc_eval['rec'])\n",
        "print('F1 Score:', dtc_eval['f1'])\n",
        "print('Cohens Kappa Score:', dtc_eval['kappa'])\n",
        "#print('Area Under Curve:', dtc_eval['auc'])\n",
        "print('Confusion Matrix:\\n', dtc_eval['cm'])"
      ]
    },
    {
      "cell_type": "markdown",
      "id": "dfb432e8",
      "metadata": {
        "id": "dfb432e8"
      },
      "source": [
        "# KNeighborsClassifier"
      ]
    },
    {
      "cell_type": "code",
      "execution_count": 39,
      "id": "ce7426a5",
      "metadata": {
        "colab": {
          "base_uri": "https://localhost:8080/",
          "height": 0
        },
        "id": "ce7426a5",
        "outputId": "bb723b9c-476b-4ca2-b634-e7c26f9d5f35"
      },
      "outputs": [
        {
          "output_type": "stream",
          "name": "stdout",
          "text": [
            "[84.63157894736842, 61.473684210526315, 73.47368421052632, 65.6842105263158, 62.526315789473685, 59.578947368421055, 58.10526315789474, 58.10526315789474, 58.526315789473685, 59.36842105263158]\n"
          ]
        },
        {
          "output_type": "display_data",
          "data": {
            "text/plain": [
              "<Figure size 720x720 with 1 Axes>"
            ],
            "image/png": "[encoded data removed]"
          },
          "metadata": {
            "needs_background": "light"
          }
        }
      ],
      "source": [
        "# KNeighborsClassifier with different neighbors value\n",
        "result = []\n",
        "train=[]\n",
        "xlabel = [i for i in range(1, 11)]\n",
        "for neighbors in range(1, 11):\n",
        "    kNN = KNeighborsClassifier(n_neighbors=neighbors)\n",
        "    kNN.fit(Train_X_Tfidf,Train_Y)\n",
        "    prediction = kNN.predict(Test_X_Tfidf)\n",
        "    result.append(accuracy_score(prediction, Test_Y)*100)\n",
        "print(result)\n",
        "plt.figure(figsize=(10, 10))\n",
        "plt.xlabel('kNN Neighbors for k=1,2...20')\n",
        "plt.ylabel('Accuracy Score')\n",
        "plt.title('kNN Classifier Results')\n",
        "plt.ylim(0, 100)\n",
        "plt.xlim(0, xlabel[len(xlabel)-1]+1)\n",
        "plt.plot(xlabel, result)\n",
        "plt.savefig('1-fold 10NN Result.png')\n",
        "plt.show()\n"
      ]
    },
    {
      "cell_type": "markdown",
      "id": "9651dfb9",
      "metadata": {
        "id": "9651dfb9"
      },
      "source": [
        "# Neural Network"
      ]
    },
    {
      "cell_type": "code",
      "execution_count": 40,
      "id": "b659328f",
      "metadata": {
        "id": "b659328f"
      },
      "outputs": [],
      "source": [
        "# create neural network model\n",
        "def build_model():\n",
        "    model = Sequential()\n",
        "    model.add(Dense(512//2,input_dim=Train_X_Tfidf.shape[1], activation='relu'))\n",
        "    model.add(Dropout(0.5))\n",
        "    model.add(Dense(512//4, activation='relu'))\n",
        "    model.add(Dropout(0.5))\n",
        "    model.add(Dense(512//8, activation='relu'))\n",
        "    model.add(Dropout(0.5))\n",
        "    model.add(Dense(32, activation='relu'))\n",
        "    model.add(Dropout(0.3))\n",
        "    model.add(Dense(5, activation='softmax'))\n",
        "    model.compile(loss='categorical_crossentropy', optimizer='adam', metrics=['accuracy'])\n",
        "    model.summary()\n",
        "    return model"
      ]
    },
    {
      "cell_type": "code",
      "execution_count": 41,
      "id": "a3d0e920",
      "metadata": {
        "colab": {
          "base_uri": "https://localhost:8080/"
        },
        "id": "a3d0e920",
        "outputId": "5a0bdd91-eba5-4e96-afe2-fa81fcd59a33"
      },
      "outputs": [
        {
          "output_type": "stream",
          "name": "stdout",
          "text": [
            "Compile model ...\n"
          ]
        },
        {
          "output_type": "stream",
          "name": "stderr",
          "text": [
            "/usr/local/lib/python3.7/dist-packages/ipykernel_launcher.py:3: DeprecationWarning: KerasClassifier is deprecated, use Sci-Keras (https://github.com/adriangb/scikeras) instead. See https://www.adriangb.com/scikeras/stable/migration.html for help migrating.\n",
            "  This is separate from the ipykernel package so we can avoid doing imports until\n"
          ]
        },
        {
          "output_type": "stream",
          "name": "stdout",
          "text": [
            "Model: \"sequential\"\n",
            "_________________________________________________________________\n",
            " Layer (type)                Output Shape              Param #   \n",
            "=================================================================\n",
            " dense (Dense)               (None, 256)               1280256   \n",
            "                                                                 \n",
            " dropout (Dropout)           (None, 256)               0         \n",
            "                                                                 \n",
            " dense_1 (Dense)             (None, 128)               32896     \n",
            "                                                                 \n",
            " dropout_1 (Dropout)         (None, 128)               0         \n",
            "                                                                 \n",
            " dense_2 (Dense)             (None, 64)                8256      \n",
            "                                                                 \n",
            " dropout_2 (Dropout)         (None, 64)                0         \n",
            "                                                                 \n",
            " dense_3 (Dense)             (None, 32)                2080      \n",
            "                                                                 \n",
            " dropout_3 (Dropout)         (None, 32)                0         \n",
            "                                                                 \n",
            " dense_4 (Dense)             (None, 5)                 165       \n",
            "                                                                 \n",
            "=================================================================\n",
            "Total params: 1,323,653\n",
            "Trainable params: 1,323,653\n",
            "Non-trainable params: 0\n",
            "_________________________________________________________________\n",
            "Epoch 1/30\n"
          ]
        },
        {
          "output_type": "stream",
          "name": "stderr",
          "text": [
            "/usr/local/lib/python3.7/dist-packages/tensorflow/python/framework/indexed_slices.py:446: UserWarning: Converting sparse IndexedSlices(IndexedSlices(indices=Tensor(\"gradient_tape/sequential/dense/embedding_lookup_sparse/Reshape_1:0\", shape=(None,), dtype=int32), values=Tensor(\"gradient_tape/sequential/dense/embedding_lookup_sparse/Reshape:0\", shape=(None, 256), dtype=float32), dense_shape=Tensor(\"gradient_tape/sequential/dense/embedding_lookup_sparse/Cast:0\", shape=(2,), dtype=int32))) to a dense Tensor of unknown shape. This may consume a large amount of memory.\n",
            "  \"shape. This may consume a large amount of memory.\" % value)\n"
          ]
        },
        {
          "output_type": "stream",
          "name": "stdout",
          "text": [
            "214/214 [==============================] - 5s 19ms/step - loss: 1.5992 - accuracy: 0.2209\n",
            "Epoch 2/30\n",
            "214/214 [==============================] - 4s 19ms/step - loss: 1.3656 - accuracy: 0.4163\n",
            "Epoch 3/30\n",
            "214/214 [==============================] - 4s 19ms/step - loss: 0.9122 - accuracy: 0.6432\n",
            "Epoch 4/30\n",
            "214/214 [==============================] - 4s 19ms/step - loss: 0.5506 - accuracy: 0.8152\n",
            "Epoch 5/30\n",
            "214/214 [==============================] - 4s 19ms/step - loss: 0.3037 - accuracy: 0.9019\n",
            "Epoch 6/30\n",
            "214/214 [==============================] - 4s 19ms/step - loss: 0.2076 - accuracy: 0.9424\n",
            "Epoch 7/30\n",
            "214/214 [==============================] - 4s 19ms/step - loss: 0.1272 - accuracy: 0.9642\n",
            "Epoch 8/30\n",
            "214/214 [==============================] - 4s 19ms/step - loss: 0.1057 - accuracy: 0.9712\n",
            "Epoch 9/30\n",
            "214/214 [==============================] - 4s 19ms/step - loss: 0.0871 - accuracy: 0.9792\n",
            "Epoch 10/30\n",
            "214/214 [==============================] - 4s 19ms/step - loss: 0.0670 - accuracy: 0.9855\n",
            "Epoch 11/30\n",
            "214/214 [==============================] - 4s 19ms/step - loss: 0.0557 - accuracy: 0.9855\n",
            "Epoch 12/30\n",
            "214/214 [==============================] - 6s 27ms/step - loss: 0.0633 - accuracy: 0.9841\n",
            "Epoch 13/30\n",
            "214/214 [==============================] - 5s 24ms/step - loss: 0.0514 - accuracy: 0.9878\n",
            "Epoch 14/30\n",
            "214/214 [==============================] - 4s 20ms/step - loss: 0.0610 - accuracy: 0.9855\n",
            "Epoch 15/30\n",
            "214/214 [==============================] - 5s 24ms/step - loss: 0.0546 - accuracy: 0.9890\n",
            "Epoch 16/30\n",
            "214/214 [==============================] - 4s 20ms/step - loss: 0.0557 - accuracy: 0.9888\n",
            "Epoch 17/30\n",
            "214/214 [==============================] - 4s 20ms/step - loss: 0.0319 - accuracy: 0.9918\n",
            "Epoch 18/30\n",
            "214/214 [==============================] - 4s 20ms/step - loss: 0.0310 - accuracy: 0.9913\n",
            "Epoch 19/30\n",
            "214/214 [==============================] - 4s 19ms/step - loss: 0.0416 - accuracy: 0.9913\n",
            "Epoch 20/30\n",
            "214/214 [==============================] - 4s 20ms/step - loss: 0.0312 - accuracy: 0.9913\n",
            "Epoch 21/30\n",
            "214/214 [==============================] - 4s 20ms/step - loss: 0.0312 - accuracy: 0.9925\n",
            "Epoch 22/30\n",
            "214/214 [==============================] - 4s 19ms/step - loss: 0.0345 - accuracy: 0.9937\n",
            "Epoch 23/30\n",
            "214/214 [==============================] - 4s 19ms/step - loss: 0.0260 - accuracy: 0.9944\n",
            "Epoch 24/30\n",
            "214/214 [==============================] - 4s 19ms/step - loss: 0.0221 - accuracy: 0.9941\n",
            "Epoch 25/30\n",
            "214/214 [==============================] - 4s 19ms/step - loss: 0.0273 - accuracy: 0.9937\n",
            "Epoch 26/30\n",
            "214/214 [==============================] - 4s 19ms/step - loss: 0.0224 - accuracy: 0.9951\n",
            "Epoch 27/30\n",
            "214/214 [==============================] - 4s 19ms/step - loss: 0.0365 - accuracy: 0.9904\n",
            "Epoch 28/30\n",
            "214/214 [==============================] - 5s 25ms/step - loss: 0.0228 - accuracy: 0.9944\n",
            "Epoch 29/30\n",
            "214/214 [==============================] - 4s 19ms/step - loss: 0.0308 - accuracy: 0.9939\n",
            "Epoch 30/30\n",
            "214/214 [==============================] - 4s 20ms/step - loss: 0.0232 - accuracy: 0.9955\n"
          ]
        },
        {
          "output_type": "execute_result",
          "data": {
            "text/plain": [
              "<keras.callbacks.History at 0x7f3b89a683d0>"
            ]
          },
          "metadata": {},
          "execution_count": 41
        }
      ],
      "source": [
        "#called model with keras classifier\n",
        "print(\"Compile model ...\")\n",
        "estimator = KerasClassifier(build_fn=build_model, epochs=30, batch_size=20)\n",
        "estimator.fit(Train_X_Tfidf,Train_Y)\n"
      ]
    },
    {
      "cell_type": "code",
      "execution_count": 42,
      "id": "dd36a251",
      "metadata": {
        "colab": {
          "base_uri": "https://localhost:8080/"
        },
        "id": "dd36a251",
        "outputId": "e2fefab9-091e-43ff-f1bc-b97fd306f44b"
      },
      "outputs": [
        {
          "output_type": "stream",
          "name": "stdout",
          "text": [
            "Predict on test data ... \n"
          ]
        }
      ],
      "source": [
        "# predict test data with model\n",
        "print (\"Predict on test data ... \")\n",
        "prediction = estimator.predict(Test_X_Tfidf)"
      ]
    },
    {
      "cell_type": "code",
      "execution_count": 43,
      "id": "f6965057",
      "metadata": {
        "id": "f6965057"
      },
      "outputs": [],
      "source": [
        "# from matplotlib import pyplot as plt \n",
        "# history.history.keys() \n",
        "# plt.plot(history.history['loss']) \n",
        "# plt.title('model loss') \n",
        "# plt.ylabel('loss') \n",
        "# plt.xlabel('epoch') \n",
        "# plt.legend(['train', 'test'], loc='upper left') \n",
        "# plt.show() "
      ]
    },
    {
      "cell_type": "code",
      "execution_count": 44,
      "id": "faf136f4",
      "metadata": {
        "colab": {
          "base_uri": "https://localhost:8080/",
          "height": 282
        },
        "id": "faf136f4",
        "outputId": "6ab3046a-e79b-4b35-955e-6a5e5bf1d503"
      },
      "outputs": [
        {
          "output_type": "execute_result",
          "data": {
            "text/plain": [
              "<matplotlib.axes._subplots.AxesSubplot at 0x7f3b8a567290>"
            ]
          },
          "metadata": {},
          "execution_count": 44
        },
        {
          "output_type": "display_data",
          "data": {
            "text/plain": [
              "<Figure size 432x288 with 2 Axes>"
            ],
            "image/png": "[encoded data removed]"
          },
          "metadata": {
            "needs_background": "light"
          }
        }
      ],
      "source": [
        "#show confusion matrix\n",
        "cm=confusion_matrix(Test_Y,prediction)\n",
        "sns.heatmap(cm,annot=True,fmt=\"d\")"
      ]
    },
    {
      "cell_type": "code",
      "execution_count": 45,
      "id": "2dcb9538",
      "metadata": {
        "colab": {
          "base_uri": "https://localhost:8080/"
        },
        "id": "2dcb9538",
        "outputId": "347c17fc-50ab-4913-9d47-e7a93e02be49"
      },
      "outputs": [
        {
          "output_type": "stream",
          "name": "stdout",
          "text": [
            "              precision    recall  f1-score   support\n",
            "\n",
            "           0       0.76      0.75      0.76       113\n",
            "           1       0.85      0.85      0.85        93\n",
            "           2       0.94      0.92      0.93       101\n",
            "           3       0.90      0.94      0.92        86\n",
            "           4       0.70      0.70      0.70        82\n",
            "\n",
            "    accuracy                           0.83       475\n",
            "   macro avg       0.83      0.83      0.83       475\n",
            "weighted avg       0.83      0.83      0.83       475\n",
            "\n"
          ]
        }
      ],
      "source": [
        "#show classification report\n",
        "print(classification_report(Test_Y,prediction))"
      ]
    },
    {
      "cell_type": "code",
      "execution_count": 46,
      "id": "d76493e3",
      "metadata": {
        "id": "d76493e3"
      },
      "outputs": [],
      "source": [
        "score_nn=accuracy_score(prediction, Test_Y)*100"
      ]
    },
    {
      "cell_type": "code",
      "execution_count": 47,
      "id": "11f13552",
      "metadata": {
        "colab": {
          "base_uri": "https://localhost:8080/"
        },
        "id": "11f13552",
        "outputId": "fc0dbea6-41bb-43ef-a894-fd5783478efa"
      },
      "outputs": [
        {
          "output_type": "stream",
          "name": "stdout",
          "text": [
            "83.15789473684211\n"
          ]
        }
      ],
      "source": [
        "print(score_nn)"
      ]
    },
    {
      "cell_type": "code",
      "execution_count": 48,
      "id": "4588a634",
      "metadata": {
        "colab": {
          "base_uri": "https://localhost:8080/"
        },
        "id": "4588a634",
        "outputId": "adb8745d-14f9-4ed1-83e5-1a739a9da0e1"
      },
      "outputs": [
        {
          "output_type": "stream",
          "name": "stdout",
          "text": [
            "Accuracy: 0.8315789473684211\n",
            "Precision: 0.8315789473684211\n",
            "Recall: 0.8315789473684211\n",
            "F1 Score: 0.8315789473684211\n",
            "Cohens Kappa Score: 0.7888173214255942\n",
            "Confusion Matrix:\n",
            " [[85  6  3  5 14]\n",
            " [ 7 79  0  3  4]\n",
            " [ 3  0 93  0  5]\n",
            " [ 3  1  0 81  1]\n",
            " [14  7  3  1 57]]\n"
          ]
        }
      ],
      "source": [
        "estimator_eval = evaluate_model(estimator, Test_X_Tfidf, Test_Y)\n",
        "\n",
        "# Print result\n",
        "print('Accuracy:', estimator_eval['acc'])\n",
        "print('Precision:', estimator_eval['prec'])\n",
        "print('Recall:', estimator_eval['rec'])\n",
        "print('F1 Score:', estimator_eval['f1'])\n",
        "print('Cohens Kappa Score:', estimator_eval['kappa'])\n",
        "#print('Area Under Curve:', dtc_eval['auc'])\n",
        "print('Confusion Matrix:\\n', estimator_eval['cm'])"
      ]
    },
    {
      "cell_type": "code",
      "execution_count": 49,
      "id": "72575339",
      "metadata": {
        "colab": {
          "base_uri": "https://localhost:8080/",
          "height": 493
        },
        "id": "72575339",
        "outputId": "048d835e-40fb-4aa6-88d3-1924a1b73cb9"
      },
      "outputs": [
        {
          "output_type": "display_data",
          "data": {
            "text/plain": [
              "<Figure size 1008x504 with 2 Axes>"
            ],
            "image/png": "[encoded data removed]"
          },
          "metadata": {}
        }
      ],
      "source": [
        "# Intitialize figure with two plots\n",
        "fig, (ax1, ax2) = plt.subplots(1, 2)\n",
        "fig.suptitle('Model Comparison', fontsize=16, fontweight='bold')\n",
        "fig.set_figheight(7)\n",
        "fig.set_figwidth(14)\n",
        "fig.set_facecolor('white')\n",
        "\n",
        "# First plot\n",
        "## set bar size\n",
        "barWidth = 0.2\n",
        "dtc_score = [dtc_eval['acc'], dtc_eval['prec'], dtc_eval['rec'], dtc_eval['f1'], dtc_eval['kappa']]\n",
        "nn_score = [estimator_eval['acc'], estimator_eval['prec'], estimator_eval['rec'], estimator_eval['f1'], estimator_eval['kappa']]\n",
        "rf_score = [lr_eval['acc'],lr_eval['prec'], lr_eval['rec'], lr_eval['f1'],lr_eval['kappa']]\n",
        "nb_score = [Naive_eval['acc'], Naive_eval['prec'], Naive_eval['rec'], Naive_eval['f1'], Naive_eval['kappa']]\n",
        "knn_score = [knn_eval['acc'], knn_eval['prec'], knn_eval['rec'], knn_eval['f1'], knn_eval['kappa']]\n",
        "\n",
        "## Set position of bar on X axis\n",
        "r1 = np.arange(len(dtc_score))\n",
        "r2 = [x + barWidth for x in r1]\n",
        "r3 = [x + barWidth for x in r2]\n",
        "r4 = [x + barWidth for x in r3]\n",
        "r5 = [x + barWidth for x in r4]\n",
        "\n",
        "## Make the plot\n",
        "ax1.bar(r1, dtc_score, width=barWidth, edgecolor='white', label='LogisticRegression')\n",
        "ax1.bar(r2, rf_score, width=barWidth, edgecolor='white', label='SVM')\n",
        "ax1.bar(r3, nb_score, width=barWidth, edgecolor='white', label='Naive Bayes')\n",
        "ax1.bar(r4, knn_score, width=barWidth, edgecolor='white', label='K-Nearest Neighbors')\n",
        "ax1.bar(r5, nn_score, width=barWidth, edgecolor='white', label='Neural Network')\n",
        "\n",
        "## Configure x and y axis\n",
        "ax1.set_xlabel('Metrics', fontweight='bold')\n",
        "labels = ['Accuracy', 'Precision', 'Recall', 'F1', 'Kappa']\n",
        "ax1.set_xticks([r + (barWidth * 1.5) for r in range(len(dtc_score))], )\n",
        "ax1.set_xticklabels(labels)\n",
        "ax1.set_ylabel('Score', fontweight='bold')\n",
        "ax1.set_ylim(0, 1)\n",
        "\n",
        "## Create legend & title\n",
        "ax1.set_title('Evaluation Metrics', fontsize=14, fontweight='bold')\n",
        "ax1.legend()\n",
        "\n",
        "# Second plot\n",
        "## Comparing ROC Curve\n",
        "ax2.plot(dtc_eval['fpr'], dtc_eval['tpr'], label='LogisticRegression')\n",
        "ax2.plot(lr_eval['fpr'],lr_eval['tpr'], label='SVM')\n",
        "ax2.plot(Naive_eval['fpr'], Naive_eval['tpr'], label='Naive')\n",
        "ax2.plot(knn_eval['fpr'], knn_eval['tpr'], label='K-Nearest Nieghbor')\n",
        "ax2.plot(estimator_eval['fpr'], estimator_eval['tpr'], label='Neural Network')\n",
        "\n",
        "## Configure x and y axis\n",
        "ax2.set_xlabel('False Positive Rate', fontweight='bold')\n",
        "ax2.set_ylabel('True Positive Rate', fontweight='bold')\n",
        "\n",
        "## Create legend & title\n",
        "ax2.set_title('ROC Curve', fontsize=14, fontweight='bold')\n",
        "ax2.legend(loc=4)\n",
        "\n",
        "plt.show()"
      ]
    },
    {
      "cell_type": "code",
      "execution_count": 50,
      "id": "06efc459",
      "metadata": {
        "colab": {
          "base_uri": "https://localhost:8080/"
        },
        "id": "06efc459",
        "outputId": "d7be850b-31ee-475b-d236-8208f77dd8ea"
      },
      "outputs": [
        {
          "output_type": "stream",
          "name": "stdout",
          "text": [
            "214/214 [==============================] - 1s 3ms/step - loss: 0.0061 - accuracy: 0.9977\n"
          ]
        }
      ],
      "source": [
        "score_nn_t=estimator.score(Train_X_Tfidf,Train_Y)*100"
      ]
    },
    {
      "cell_type": "markdown",
      "id": "ca375d6c",
      "metadata": {
        "id": "ca375d6c"
      },
      "source": [
        "# model compare with Train and Test accuracy"
      ]
    },
    {
      "cell_type": "code",
      "execution_count": 51,
      "id": "a1f7a467",
      "metadata": {
        "colab": {
          "base_uri": "https://localhost:8080/"
        },
        "id": "a1f7a467",
        "outputId": "5f309ae8-f710-496e-97fb-6e793d7f604a"
      },
      "outputs": [
        {
          "output_type": "stream",
          "name": "stdout",
          "text": [
            "The Traing accuracy score achieved using KNeighborsClassifier is: 99.90630124150856 %\n",
            "The Traing accuracy score achieved using Neural network is: 99.76575374603271 %\n",
            "The Traing accuracy score achieved using SVM is: 96.60342000468493 %\n",
            "The Traing accuracy score achieved using Logistic Regression is: 89.48231435933474 %\n",
            "The Traing accuracy score achieved using naive_bayes is: 84.84422581400797 %\n"
          ]
        }
      ],
      "source": [
        "scores = [score_knn_t,score_nn_t,score_svm_t,score_lr_t,score_nb_t]\n",
        "algorithms = [\"KNeighborsClassifier\",\"Neural network\",\"SVM\",\"Logistic Regression\",\"naive_bayes\"]    \n",
        "\n",
        "for i in range(len(algorithms)):\n",
        "    print(\"The Traing accuracy score achieved using \"+algorithms[i]+\" is: \"+str(scores[i])+\" %\")"
      ]
    },
    {
      "cell_type": "code",
      "execution_count": 52,
      "id": "280ac9ee",
      "metadata": {
        "colab": {
          "base_uri": "https://localhost:8080/",
          "height": 352
        },
        "id": "280ac9ee",
        "outputId": "27a686e1-15f8-43dc-ca9b-ec9cb3b1f437"
      },
      "outputs": [
        {
          "output_type": "stream",
          "name": "stderr",
          "text": [
            "/usr/local/lib/python3.7/dist-packages/seaborn/_decorators.py:43: FutureWarning: Pass the following variables as keyword args: x, y. From version 0.12, the only valid positional argument will be `data`, and passing other arguments without an explicit keyword will result in an error or misinterpretation.\n",
            "  FutureWarning\n"
          ]
        },
        {
          "output_type": "execute_result",
          "data": {
            "text/plain": [
              "<matplotlib.axes._subplots.AxesSubplot at 0x7f3b8b38c310>"
            ]
          },
          "metadata": {},
          "execution_count": 52
        },
        {
          "output_type": "display_data",
          "data": {
            "text/plain": [
              "<Figure size 432x288 with 1 Axes>"
            ],
            "image/png": "[encoded data removed]"
          },
          "metadata": {
            "needs_background": "light"
          }
        }
      ],
      "source": [
        "plt.xlabel(\"Algorithms\")\n",
        "plt.ylabel(\"Accuracy score\")\n",
        "sns.barplot(algorithms,scores)"
      ]
    },
    {
      "cell_type": "code",
      "execution_count": 53,
      "id": "9e0a1dbf",
      "metadata": {
        "colab": {
          "base_uri": "https://localhost:8080/"
        },
        "id": "9e0a1dbf",
        "outputId": "1ba46baa-3d67-4cae-ca39-3e59ed3e4bea"
      },
      "outputs": [
        {
          "output_type": "stream",
          "name": "stdout",
          "text": [
            "The Testing accuracy score achieved using KNeighborsClassifier is: 84.63157894736842 %\n",
            "The Testing accuracy score achieved using Neural network is: 83.15789473684211 %\n",
            "The Testing accuracy score achieved using SVM is: 78.10526315789474 %\n",
            "The Testing accuracy score achieved using Logistic Regression is: 72.84210526315789 %\n",
            "The Testing accuracy score achieved using naive_bayes is: 69.05263157894737 %\n"
          ]
        }
      ],
      "source": [
        "scores = [score_knn,score_nn,score_svm,score_lr,score_nb]\n",
        "algorithms = [\"KNeighborsClassifier\",\"Neural network\",\"SVM\",\"Logistic Regression\",\"naive_bayes\"]    \n",
        "\n",
        "for i in range(len(algorithms)):\n",
        "    print(\"The Testing accuracy score achieved using \"+algorithms[i]+\" is: \"+str(scores[i])+\" %\")"
      ]
    },
    {
      "cell_type": "code",
      "execution_count": 54,
      "id": "fc11960e",
      "metadata": {
        "colab": {
          "base_uri": "https://localhost:8080/",
          "height": 352
        },
        "id": "fc11960e",
        "outputId": "177bd3cd-979c-4326-d4ad-5288d8fc1224"
      },
      "outputs": [
        {
          "output_type": "stream",
          "name": "stderr",
          "text": [
            "/usr/local/lib/python3.7/dist-packages/seaborn/_decorators.py:43: FutureWarning: Pass the following variables as keyword args: x, y. From version 0.12, the only valid positional argument will be `data`, and passing other arguments without an explicit keyword will result in an error or misinterpretation.\n",
            "  FutureWarning\n"
          ]
        },
        {
          "output_type": "execute_result",
          "data": {
            "text/plain": [
              "<matplotlib.axes._subplots.AxesSubplot at 0x7f3b8af4fed0>"
            ]
          },
          "metadata": {},
          "execution_count": 54
        },
        {
          "output_type": "display_data",
          "data": {
            "text/plain": [
              "<Figure size 432x288 with 1 Axes>"
            ],
            "image/png": "[encoded data removed]"
          },
          "metadata": {
            "needs_background": "light"
          }
        }
      ],
      "source": [
        "plt.xlabel(\"Algorithms\")\n",
        "plt.ylabel(\"Accuracy score\")\n",
        "sns.barplot(algorithms,scores)"
      ]
    },
    {
      "cell_type": "code",
      "execution_count": 54,
      "id": "1258f575",
      "metadata": {
        "id": "1258f575"
      },
      "outputs": [],
      "source": [
        ""
      ]
    }
  ],
  "metadata": {
    "kernelspec": {
      "display_name": "Python 3 (ipykernel)",
      "language": "python",
      "name": "python3"
    },
    "language_info": {
      "codemirror_mode": {
        "name": "ipython",
        "version": 3
      },
      "file_extension": ".py",
      "mimetype": "text/x-python",
      "name": "python",
      "nbconvert_exporter": "python",
      "pygments_lexer": "ipython3",
      "version": "3.9.7"
    },
    "colab": {
      "name": "Lyrics analysis.ipynb",
      "provenance": []
    }
  },
  "nbformat": 4,
  "nbformat_minor": 5
}